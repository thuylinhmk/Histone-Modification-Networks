{
 "cells": [
  {
   "cell_type": "code",
   "execution_count": 1,
   "id": "5b949b60",
   "metadata": {},
   "outputs": [],
   "source": [
    "import pandas as pd\n",
    "import numpy as np\n",
    "#from simple_function import *\n",
    "import os\n",
    "#from faiss_cluster import *\n",
    "#from drawing_plot import *\n",
    "import pyranges as pr\n",
    "import PyWGCNA\n",
    "import os\n",
    "#from gprofiler import GProfiler\n",
    "from scipy.spatial.distance import pdist, squareform\n",
    "from scipy.cluster.hierarchy import dendrogram, linkage\n",
    "import matplotlib.pyplot as plt\n",
    "from scipy.stats import pearsonr, spearmanr\n",
    "from sklearn.preprocessing import OneHotEncoder\n",
    "import networkx as nx\n",
    "import igraph as ig\n",
    "import leidenalg as la\n",
    "import cupy\n",
    "from sklearn.preprocessing import MinMaxScaler"
   ]
  },
  {
   "cell_type": "code",
   "execution_count": 2,
   "id": "1b6c7908",
   "metadata": {},
   "outputs": [],
   "source": [
    "##getting files\n",
    "\n",
    "# !scp s4727702@bioinfr.server.science.uq.edu.au:/gtex project\n",
    "\n",
    "# !scp s4727702@bioinfr.server.science.uq.edu.au:jupyter/jupyter/network_dataframe_majortissue/adjacency_matrix/*heart left* project/adj_matrix\n",
    "# !scp s4727702@bioinfr.science.server.uq.edu.au:region/gencode.v29.annotation.gtf project"
   ]
  },
  {
   "cell_type": "code",
   "execution_count": 3,
   "id": "e23e9eb5",
   "metadata": {},
   "outputs": [],
   "source": [
    "#### GTEX variant files \"\"\"\n",
    "files = os.listdir(\"project/gtex/\")\n",
    "first_f = True\n",
    "for f in files:\n",
    "    if '.egenes' in f:\n",
    "        tissue = f.split('.v8')[0]\n",
    "        #print(tissue)\n",
    "        if first_f:\n",
    "            gene_tested = pd.read_csv(f'project/gtex/{f}', sep='\\t', compression='gzip', engine='c')\n",
    "            gene_tested['Tissue'] = [tissue]*len(gene_tested)\n",
    "            first_f=False\n",
    "        else:\n",
    "            reading = pd.read_csv(f'project/gtex/{f}', sep='\\t', compression='gzip', engine='c')\n",
    "            reading['Tissue'] = [tissue]*len(reading)\n",
    "            gene_tested = pd.concat([gene_tested, reading], axis=0)\n",
    "#gene_tested = gene_tested.query(\"qval <= 0.05\")"
   ]
  },
  {
   "cell_type": "code",
   "execution_count": 4,
   "id": "00172aca",
   "metadata": {},
   "outputs": [],
   "source": [
    "var_summary = gene_tested.rename({\n",
    "    'chr': 'Chromosome',\n",
    "    'variant_pos': 'Start'\n",
    "}, axis=1)\n",
    "var_summary['End'] = var_summary['Start']\n",
    "var_summary=pr.PyRanges(var_summary)"
   ]
  },
  {
   "cell_type": "code",
   "execution_count": 5,
   "id": "6edf1007",
   "metadata": {},
   "outputs": [],
   "source": [
    "heart_left = os.listdir('project/adj_matrix/')"
   ]
  },
  {
   "cell_type": "code",
   "execution_count": 6,
   "id": "8efea009",
   "metadata": {},
   "outputs": [],
   "source": [
    "vertex_file = os.listdir('project/vertex_df/')\n",
    "vertex_df = {}\n",
    "for f in vertex_file:\n",
    "    histone=f.split('_')[0]\n",
    "    df = pd.read_feather(f'project/vertex_df/{f}')\n",
    "    df.set_index('vertex ID', inplace=True)\n",
    "    vertex_df[histone] = df"
   ]
  },
  {
   "cell_type": "code",
   "execution_count": 7,
   "id": "ada3f372",
   "metadata": {},
   "outputs": [],
   "source": [
    "hm_dict = {}\n",
    "for t in heart_left:\n",
    "    histone = t.split('_')[0]\n",
    "    adj = pd.read_csv(f'project/adj_matrix/{t}', compression='gzip', index_col=0)\n",
    "    graph = ig.Graph.Weighted_Adjacency(adj, mode='upper', loops=False)\n",
    "    hm_dict[histone] = graph"
   ]
  },
  {
   "cell_type": "code",
   "execution_count": 8,
   "id": "f056359e",
   "metadata": {},
   "outputs": [],
   "source": [
    "import torch\n",
    "import torch.nn.functional as F\n",
    "from sklearn.metrics import roc_auc_score\n",
    "from torch_geometric.data import InMemoryDataset, Data\n",
    "from torch_geometric.utils import negative_sampling\n",
    "from torch_geometric.datasets import Planetoid\n",
    "import torch_geometric.transforms as T\n",
    "from torch_geometric.nn import GCNConv\n",
    "from torch_geometric.utils import train_test_split_edges"
   ]
  },
  {
   "cell_type": "code",
   "execution_count": 9,
   "id": "5eb85cb2",
   "metadata": {},
   "outputs": [],
   "source": [
    "if torch.cuda.is_available():\n",
    "    device = torch.device('cuda')\n",
    "elif hasattr(torch.backends, 'mps') and torch.backends.mps.is_available():\n",
    "    device = torch.device('mps')\n",
    "else:\n",
    "    device = torch.device('cpu')"
   ]
  },
  {
   "cell_type": "markdown",
   "id": "9e55f22e",
   "metadata": {},
   "source": [
    "# 1 Histone - H3K4me3"
   ]
  },
  {
   "cell_type": "code",
   "execution_count": 10,
   "id": "00c49706",
   "metadata": {},
   "outputs": [],
   "source": [
    "import anndata as ann"
   ]
  },
  {
   "cell_type": "code",
   "execution_count": 11,
   "id": "df654615",
   "metadata": {},
   "outputs": [],
   "source": [
    "peak_anndata = ann.read_h5ad('project/adata_hm_tissue_chr1.h5ad')"
   ]
  },
  {
   "cell_type": "code",
   "execution_count": 12,
   "id": "d814bb93",
   "metadata": {},
   "outputs": [],
   "source": [
    "from sklearn.preprocessing import MinMaxScaler\n",
    "scaler = MinMaxScaler()\n",
    "peak_anndata.layers['norm_within_assay'] = scaler.fit_transform(peak_anndata.layers['average_signal'].T).T"
   ]
  },
  {
   "cell_type": "markdown",
   "id": "dc9673ef",
   "metadata": {},
   "source": [
    "Setting up data to train"
   ]
  },
  {
   "cell_type": "code",
   "execution_count": 95,
   "id": "d6aa671f",
   "metadata": {},
   "outputs": [],
   "source": [
    "def name_to_region(list_name):\n",
    "    chrom = [x.split(':')[0] for x in list_name]\n",
    "    start = [x.split(':')[1].split('-')[0] for x in list_name]\n",
    "    end = [x.split(':')[1].split('-')[1] for x in list_name]\n",
    "    df = pd.DataFrame({'Chromosome': chrom, 'Start': start, 'End':end, 'name': list_name},)\n",
    "    return df"
   ]
  },
  {
   "cell_type": "code",
   "execution_count": 94,
   "id": "b3fc09e5",
   "metadata": {},
   "outputs": [
    {
     "data": {
      "text/html": [
       "<div>\n",
       "<style scoped>\n",
       "    .dataframe tbody tr th:only-of-type {\n",
       "        vertical-align: middle;\n",
       "    }\n",
       "\n",
       "    .dataframe tbody tr th {\n",
       "        vertical-align: top;\n",
       "    }\n",
       "\n",
       "    .dataframe thead th {\n",
       "        text-align: right;\n",
       "    }\n",
       "</style>\n",
       "<table border=\"1\" class=\"dataframe\">\n",
       "  <thead>\n",
       "    <tr style=\"text-align: right;\">\n",
       "      <th></th>\n",
       "      <th>name</th>\n",
       "    </tr>\n",
       "    <tr>\n",
       "      <th>vertex ID</th>\n",
       "      <th></th>\n",
       "    </tr>\n",
       "  </thead>\n",
       "  <tbody>\n",
       "    <tr>\n",
       "      <th>0</th>\n",
       "      <td>chr1:777894-778893</td>\n",
       "    </tr>\n",
       "    <tr>\n",
       "      <th>1</th>\n",
       "      <td>chr1:778894-779893</td>\n",
       "    </tr>\n",
       "    <tr>\n",
       "      <th>2</th>\n",
       "      <td>chr1:816894-817893</td>\n",
       "    </tr>\n",
       "    <tr>\n",
       "      <th>3</th>\n",
       "      <td>chr1:826894-827893</td>\n",
       "    </tr>\n",
       "    <tr>\n",
       "      <th>4</th>\n",
       "      <td>chr1:827894-828893</td>\n",
       "    </tr>\n",
       "    <tr>\n",
       "      <th>...</th>\n",
       "      <td>...</td>\n",
       "    </tr>\n",
       "    <tr>\n",
       "      <th>2958</th>\n",
       "      <td>chr1:248862633-248863632</td>\n",
       "    </tr>\n",
       "    <tr>\n",
       "      <th>2959</th>\n",
       "      <td>chr1:248872633-248873632</td>\n",
       "    </tr>\n",
       "    <tr>\n",
       "      <th>2960</th>\n",
       "      <td>chr1:248873633-248874632</td>\n",
       "    </tr>\n",
       "    <tr>\n",
       "      <th>2961</th>\n",
       "      <td>chr1:248905633-248906632</td>\n",
       "    </tr>\n",
       "    <tr>\n",
       "      <th>2962</th>\n",
       "      <td>chr1:248906633-248907632</td>\n",
       "    </tr>\n",
       "  </tbody>\n",
       "</table>\n",
       "<p>2963 rows × 1 columns</p>\n",
       "</div>"
      ],
      "text/plain": [
       "                               name\n",
       "vertex ID                          \n",
       "0                chr1:777894-778893\n",
       "1                chr1:778894-779893\n",
       "2                chr1:816894-817893\n",
       "3                chr1:826894-827893\n",
       "4                chr1:827894-828893\n",
       "...                             ...\n",
       "2958       chr1:248862633-248863632\n",
       "2959       chr1:248872633-248873632\n",
       "2960       chr1:248873633-248874632\n",
       "2961       chr1:248905633-248906632\n",
       "2962       chr1:248906633-248907632\n",
       "\n",
       "[2963 rows x 1 columns]"
      ]
     },
     "execution_count": 94,
     "metadata": {},
     "output_type": "execute_result"
    }
   ],
   "source": [
    "hm_dict['H3K4me3'].get_vertex_dataframe()\n"
   ]
  },
  {
   "cell_type": "code",
   "execution_count": 13,
   "id": "e57dfc43",
   "metadata": {},
   "outputs": [
    {
     "name": "stdout",
     "output_type": "stream",
     "text": [
      "Attributes: (2963, 2)\n",
      "Edges: (53894, 3)\n",
      "Label: (2963, 1)\n"
     ]
    }
   ],
   "source": [
    "### set up graph data \n",
    "#edge id\n",
    "edge_index = hm_dict['H3K4me3'].get_edge_dataframe()\n",
    "\n",
    "node_idx = hm_dict['H3K4me3'].get_vertex_dataframe().loc[edge_index['source'].unique()]\n",
    "\n",
    "\n",
    "#node id\n",
    "node_idx = hm_dict['H3K4me3'].get_vertex_dataframe().index\n",
    "\n",
    "#node label\n",
    "node_labels = hm_dict['H3K4me3'].get_vertex_dataframe()\n",
    "\n",
    "#node attributes\n",
    "heart_left_sample = peak_anndata.obs.query('`Target of assay` == \"H3K4me3\" and Tissue.str.contains(\"heart left\")').index #heart assay code\n",
    "avg_signal = pd.DataFrame(peak_anndata.to_df('norm_within_assay').loc[heart_left_sample, node_labels.name].mean(0), columns=['norm_average_signal']).reset_index(drop=True) #average signal of all assay\n",
    "peak_count = pd.DataFrame(peak_anndata.to_df('count').loc[heart_left_sample, node_labels.name].max(0), columns=['max_peaknumb']).reset_index(drop=True) #max number of peak in a region all of assays\n",
    "node_attrs = pd.concat([node_labels, peak_count, avg_signal], axis=1)\n",
    "node_attrs = node_attrs.drop('name', axis=1)\n",
    "\n",
    "#edge id\n",
    "edge_index = hm_dict['H3K4me3'].get_edge_dataframe()\n",
    "\n",
    "print(\"Attributes:\", node_attrs.shape)\n",
    "print(\"Edges:\", edge_index.shape)\n",
    "print(\"Label:\", node_labels.shape)"
   ]
  },
  {
   "cell_type": "code",
   "execution_count": 14,
   "id": "a7cb4e8f",
   "metadata": {},
   "outputs": [],
   "source": [
    "edge_idx = torch.tensor(edge_index.iloc[:, :2].to_numpy().transpose(), dtype=torch.long)\n",
    "attrs = torch.tensor(node_attrs.to_numpy(), dtype=torch.float)\n",
    "e_attr = torch.tensor(abs(edge_index.weight.to_numpy()), dtype=torch.float64)"
   ]
  },
  {
   "cell_type": "code",
   "execution_count": 15,
   "id": "74bf9131",
   "metadata": {},
   "outputs": [],
   "source": [
    "data = Data(x=attrs, edge_index=edge_idx)\n",
    "data.edge_weight=e_attr"
   ]
  },
  {
   "cell_type": "markdown",
   "id": "19bbb32e",
   "metadata": {},
   "source": [
    "Check isolated nodes -> remove"
   ]
  },
  {
   "cell_type": "code",
   "execution_count": 16,
   "id": "948a87dc",
   "metadata": {},
   "outputs": [
    {
     "data": {
      "text/plain": [
       "True"
      ]
     },
     "execution_count": 16,
     "metadata": {},
     "output_type": "execute_result"
    }
   ],
   "source": [
    "data.has_isolated_nodes()"
   ]
  },
  {
   "cell_type": "markdown",
   "id": "cbd0b430",
   "metadata": {},
   "source": [
    "Remove isolated nodes \\\n",
    "Transform into uindirected graph -> double the connection for other way \\\n",
    "Split training and val set"
   ]
  },
  {
   "cell_type": "code",
   "execution_count": 17,
   "id": "87859c2c",
   "metadata": {},
   "outputs": [],
   "source": [
    "import torch_geometric.transforms as T\n",
    "transform = T.Compose([T.remove_isolated_nodes.RemoveIsolatedNodes(),\n",
    "                       T.ToUndirected(),\n",
    "                       T.ToDevice(device),\n",
    "                       T.RandomLinkSplit(\n",
    "                                num_val=0.05,\n",
    "                                num_test=0.1,\n",
    "                                is_undirected=True,\n",
    "                                add_negative_train_samples=False)])"
   ]
  },
  {
   "cell_type": "code",
   "execution_count": 18,
   "id": "b2092ff2",
   "metadata": {},
   "outputs": [
    {
     "name": "stdout",
     "output_type": "stream",
     "text": [
      "Has isolated node:  False\n",
      "train data Data(x=[2942, 2], edge_index=[2, 91622], edge_weight=[91622], edge_label=[45811], edge_label_index=[2, 45811])\n",
      "val data Data(x=[2942, 2], edge_index=[2, 91622], edge_weight=[91622], edge_label=[5388], edge_label_index=[2, 5388])\n",
      "test data Data(x=[2942, 2], edge_index=[2, 97010], edge_weight=[97010], edge_label=[10778], edge_label_index=[2, 10778])\n"
     ]
    }
   ],
   "source": [
    "train_data, val_data, test_data = transform(data)\n",
    "\n",
    "print('Has isolated node: ', data.has_isolated_nodes())\n",
    "print('train data', train_data)\n",
    "print('val data', val_data)\n",
    "print('test data', test_data)"
   ]
  },
  {
   "cell_type": "code",
   "execution_count": 19,
   "id": "b14bf99e",
   "metadata": {},
   "outputs": [],
   "source": [
    "from sklearn.metrics import roc_auc_score\n",
    "from torch_geometric.utils import negative_sampling\n",
    "from tqdm import trange\n",
    "\n",
    "class Net(torch.nn.Module):\n",
    "    def __init__(self, in_channels, hidden_channels, out_channels):\n",
    "        super().__init__()\n",
    "        self.conv1 = GCNConv(in_channels, hidden_channels)\n",
    "        self.conv2 = GCNConv(hidden_channels, out_channels)\n",
    "\n",
    "    def encode(self, x, edge_index):\n",
    "        x = self.conv1(x, edge_index).relu()\n",
    "        return self.conv2(x, edge_index)\n",
    "\n",
    "    def decode(self, z, edge_label_index):\n",
    "        return (z[edge_label_index[0]] * z[edge_label_index[1]]).sum(\n",
    "            dim=-1\n",
    "        )  # product of a pair of nodes on each edge\n",
    "\n",
    "    def decode_all(self, z):\n",
    "        prob_adj = z @ z.t()\n",
    "        return (prob_adj > 0).nonzero(as_tuple=False).t()\n",
    "    \n",
    "\n",
    "def train_link_predictor(\n",
    "    model, train_data, val_data, optimizer, criterion, n_epochs=100\n",
    "):\n",
    "\n",
    "    for epoch in range(1, n_epochs + 1):\n",
    "\n",
    "        model.train()\n",
    "        optimizer.zero_grad()\n",
    "        z = model.encode(train_data.x, train_data.edge_index)\n",
    "\n",
    "        # sampling training negatives for every training epoch\n",
    "        neg_edge_index = negative_sampling(\n",
    "            edge_index=train_data.edge_index, num_nodes=train_data.num_nodes,\n",
    "            num_neg_samples=train_data.edge_label_index.size(1), method='dense')\n",
    "\n",
    "        edge_label_index = torch.cat(\n",
    "            [train_data.edge_label_index, neg_edge_index],\n",
    "            dim=-1,\n",
    "        )\n",
    "        \n",
    "        edge_label = torch.cat([\n",
    "            train_data.edge_label,\n",
    "            train_data.edge_label.new_zeros(neg_edge_index.size(1))\n",
    "        ], dim=0)\n",
    "\n",
    "        out = model.decode(z, edge_label_index).view(-1)\n",
    "        loss = criterion(out, edge_label)\n",
    "        loss.backward()\n",
    "        optimizer.step()\n",
    "\n",
    "        val_auc = eval_link_predictor(model, val_data)\n",
    "\n",
    "        if epoch % 10 == 0:\n",
    "            print(f\"Epoch: {epoch:03d}, Train Loss: {loss:.3f}, Val AUC: {val_auc:.3f}\")\n",
    "    return model\n",
    "\n",
    "\n",
    "@torch.no_grad()\n",
    "def eval_link_predictor(model, data):\n",
    "\n",
    "    model.eval()\n",
    "    z = model.encode(data.x, data.edge_index)\n",
    "    out = model.decode(z, data.edge_label_index).view(-1).sigmoid()\n",
    "\n",
    "    return roc_auc_score(data.edge_label.cpu().numpy(), out.cpu().numpy())"
   ]
  },
  {
   "cell_type": "code",
   "execution_count": 20,
   "id": "23ee2e5e",
   "metadata": {},
   "outputs": [
    {
     "name": "stdout",
     "output_type": "stream",
     "text": [
      "Epoch: 010, Train Loss: 0.662, Val AUC: 0.785\n",
      "Epoch: 020, Train Loss: 0.617, Val AUC: 0.786\n",
      "Epoch: 030, Train Loss: 0.580, Val AUC: 0.800\n",
      "Epoch: 040, Train Loss: 0.569, Val AUC: 0.785\n",
      "Epoch: 050, Train Loss: 0.570, Val AUC: 0.793\n",
      "Epoch: 060, Train Loss: 0.566, Val AUC: 0.797\n",
      "Epoch: 070, Train Loss: 0.565, Val AUC: 0.809\n",
      "Epoch: 080, Train Loss: 0.559, Val AUC: 0.824\n",
      "Epoch: 090, Train Loss: 0.553, Val AUC: 0.837\n",
      "Epoch: 100, Train Loss: 0.544, Val AUC: 0.842\n",
      "Epoch: 110, Train Loss: 0.541, Val AUC: 0.842\n",
      "Epoch: 120, Train Loss: 0.538, Val AUC: 0.840\n",
      "Epoch: 130, Train Loss: 0.537, Val AUC: 0.844\n",
      "Epoch: 140, Train Loss: 0.538, Val AUC: 0.841\n",
      "Epoch: 150, Train Loss: 0.537, Val AUC: 0.840\n",
      "Test: 0.831\n"
     ]
    }
   ],
   "source": [
    "CUDA_LAUNCH_BLOCKING=1\n",
    "model = Net(data.num_features, 124, 64).to(device)\n",
    "optimizer = torch.optim.Adam(params=model.parameters(), lr=0.01)\n",
    "criterion = torch.nn.BCEWithLogitsLoss()\n",
    "model = train_link_predictor(model, train_data, val_data, optimizer, criterion, n_epochs=150)\n",
    "\n",
    "test_auc = eval_link_predictor(model, test_data)\n",
    "print(f\"Test: {test_auc:.3f}\")"
   ]
  },
  {
   "cell_type": "code",
   "execution_count": 21,
   "id": "43eb0f63",
   "metadata": {},
   "outputs": [],
   "source": [
    "heart_var = var_summary.df.query('Tissue.str.contains(\"Heart_Left\") and Chromosome==\"chr1\"')"
   ]
  },
  {
   "cell_type": "code",
   "execution_count": 22,
   "id": "9505286d",
   "metadata": {},
   "outputs": [],
   "source": [
    "heart_var_pos = heart_var[['Chromosome', 'Start', 'End', 'variant_id', 'gene_id']]\n",
    "heart_var_gene = heart_var[['gene_name', 'gene_chr', 'gene_start', 'gene_end', 'gene_id', 'variant_id']].rename({\n",
    "    'gene_chr': 'Chromosome',\n",
    "    'gene_start':'Start',\n",
    "    'gene_end': 'End'\n",
    "}, axis=1)"
   ]
  },
  {
   "cell_type": "code",
   "execution_count": 23,
   "id": "37b65680",
   "metadata": {},
   "outputs": [],
   "source": [
    "heart_var_pos=pr.PyRanges(heart_var_pos)\n",
    "heart_var_gene=pr.PyRanges(heart_var_gene)"
   ]
  },
  {
   "cell_type": "code",
   "execution_count": 24,
   "id": "75d47fee",
   "metadata": {},
   "outputs": [
    {
     "data": {
      "text/html": [
       "<div>\n",
       "<style scoped>\n",
       "    .dataframe tbody tr th:only-of-type {\n",
       "        vertical-align: middle;\n",
       "    }\n",
       "\n",
       "    .dataframe tbody tr th {\n",
       "        vertical-align: top;\n",
       "    }\n",
       "\n",
       "    .dataframe thead th {\n",
       "        text-align: right;\n",
       "    }\n",
       "</style>\n",
       "<table border=\"1\" class=\"dataframe\">\n",
       "  <thead>\n",
       "    <tr style=\"text-align: right;\">\n",
       "      <th></th>\n",
       "      <th>gene_name</th>\n",
       "      <th>Chromosome</th>\n",
       "      <th>Start</th>\n",
       "      <th>End</th>\n",
       "      <th>gene_id</th>\n",
       "      <th>variant_id</th>\n",
       "    </tr>\n",
       "  </thead>\n",
       "  <tbody>\n",
       "    <tr>\n",
       "      <th>0</th>\n",
       "      <td>WASH7P</td>\n",
       "      <td>chr1</td>\n",
       "      <td>14410</td>\n",
       "      <td>29553</td>\n",
       "      <td>ENSG00000227232.5</td>\n",
       "      <td>chr1_665098_G_A_b38</td>\n",
       "    </tr>\n",
       "    <tr>\n",
       "      <th>1</th>\n",
       "      <td>OR4G11P</td>\n",
       "      <td>chr1</td>\n",
       "      <td>62948</td>\n",
       "      <td>63887</td>\n",
       "      <td>ENSG00000240361.1</td>\n",
       "      <td>chr1_665098_G_A_b38</td>\n",
       "    </tr>\n",
       "    <tr>\n",
       "      <th>2</th>\n",
       "      <td>OR4F5</td>\n",
       "      <td>chr1</td>\n",
       "      <td>69091</td>\n",
       "      <td>70008</td>\n",
       "      <td>ENSG00000186092.4</td>\n",
       "      <td>chr1_807641_T_C_b38</td>\n",
       "    </tr>\n",
       "    <tr>\n",
       "      <th>3</th>\n",
       "      <td>RP11-34P13.15</td>\n",
       "      <td>chr1</td>\n",
       "      <td>135141</td>\n",
       "      <td>135895</td>\n",
       "      <td>ENSG00000268903.1</td>\n",
       "      <td>chr1_986007_G_A_b38</td>\n",
       "    </tr>\n",
       "    <tr>\n",
       "      <th>4</th>\n",
       "      <td>RP11-34P13.16</td>\n",
       "      <td>chr1</td>\n",
       "      <td>137682</td>\n",
       "      <td>137965</td>\n",
       "      <td>ENSG00000269981.1</td>\n",
       "      <td>chr1_1028281_C_T_b38</td>\n",
       "    </tr>\n",
       "    <tr>\n",
       "      <th>...</th>\n",
       "      <td>...</td>\n",
       "      <td>...</td>\n",
       "      <td>...</td>\n",
       "      <td>...</td>\n",
       "      <td>...</td>\n",
       "      <td>...</td>\n",
       "    </tr>\n",
       "    <tr>\n",
       "      <th>2136</th>\n",
       "      <td>TRIM58</td>\n",
       "      <td>chr1</td>\n",
       "      <td>247857199</td>\n",
       "      <td>247878205</td>\n",
       "      <td>ENSG00000162722.8</td>\n",
       "      <td>chr1_247577569_A_C_b38</td>\n",
       "    </tr>\n",
       "    <tr>\n",
       "      <th>2137</th>\n",
       "      <td>SH3BP5L</td>\n",
       "      <td>chr1</td>\n",
       "      <td>248810446</td>\n",
       "      <td>248826633</td>\n",
       "      <td>ENSG00000175137.10</td>\n",
       "      <td>chr1_248820444_A_G_b38</td>\n",
       "    </tr>\n",
       "    <tr>\n",
       "      <th>2138</th>\n",
       "      <td>ZNF672</td>\n",
       "      <td>chr1</td>\n",
       "      <td>248838210</td>\n",
       "      <td>248849517</td>\n",
       "      <td>ENSG00000171161.12</td>\n",
       "      <td>chr1_248471564_A_C_b38</td>\n",
       "    </tr>\n",
       "    <tr>\n",
       "      <th>2139</th>\n",
       "      <td>ZNF692</td>\n",
       "      <td>chr1</td>\n",
       "      <td>248850006</td>\n",
       "      <td>248859085</td>\n",
       "      <td>ENSG00000171163.15</td>\n",
       "      <td>chr1_248659210_A_G_b38</td>\n",
       "    </tr>\n",
       "    <tr>\n",
       "      <th>2140</th>\n",
       "      <td>PGBD2</td>\n",
       "      <td>chr1</td>\n",
       "      <td>248906196</td>\n",
       "      <td>248919946</td>\n",
       "      <td>ENSG00000185220.11</td>\n",
       "      <td>chr1_247919698_A_G_b38</td>\n",
       "    </tr>\n",
       "  </tbody>\n",
       "</table>\n",
       "<p>2141 rows × 6 columns</p>\n",
       "</div>"
      ],
      "text/plain": [
       "+---------------+--------------+-----------+-----------+-------+\n",
       "| gene_name     | Chromosome   | Start     | End       | +2    |\n",
       "| (object)      | (category)   | (int64)   | (int64)   | ...   |\n",
       "|---------------+--------------+-----------+-----------+-------|\n",
       "| WASH7P        | chr1         | 14410     | 29553     | ...   |\n",
       "| OR4G11P       | chr1         | 62948     | 63887     | ...   |\n",
       "| OR4F5         | chr1         | 69091     | 70008     | ...   |\n",
       "| RP11-34P13.15 | chr1         | 135141    | 135895    | ...   |\n",
       "| ...           | ...          | ...       | ...       | ...   |\n",
       "| SH3BP5L       | chr1         | 248810446 | 248826633 | ...   |\n",
       "| ZNF672        | chr1         | 248838210 | 248849517 | ...   |\n",
       "| ZNF692        | chr1         | 248850006 | 248859085 | ...   |\n",
       "| PGBD2         | chr1         | 248906196 | 248919946 | ...   |\n",
       "+---------------+--------------+-----------+-----------+-------+\n",
       "Unstranded PyRanges object has 2,141 rows and 6 columns from 1 chromosomes.\n",
       "For printing, the PyRanges was sorted on Chromosome.\n",
       "2 hidden columns: gene_id, variant_id"
      ]
     },
     "execution_count": 24,
     "metadata": {},
     "output_type": "execute_result"
    }
   ],
   "source": [
    "heart_var_gene"
   ]
  },
  {
   "cell_type": "code",
   "execution_count": 25,
   "id": "e38e0896",
   "metadata": {},
   "outputs": [],
   "source": []
  },
  {
   "cell_type": "code",
   "execution_count": 26,
   "id": "01c022b6",
   "metadata": {},
   "outputs": [],
   "source": [
    "region_h3k4me3_heart = pr.PyRanges(name_to_region(node_labels.name.tolist()))"
   ]
  },
  {
   "cell_type": "code",
   "execution_count": 27,
   "id": "51dfe727",
   "metadata": {},
   "outputs": [
    {
     "data": {
      "text/html": [
       "<div>\n",
       "<style scoped>\n",
       "    .dataframe tbody tr th:only-of-type {\n",
       "        vertical-align: middle;\n",
       "    }\n",
       "\n",
       "    .dataframe tbody tr th {\n",
       "        vertical-align: top;\n",
       "    }\n",
       "\n",
       "    .dataframe thead th {\n",
       "        text-align: right;\n",
       "    }\n",
       "</style>\n",
       "<table border=\"1\" class=\"dataframe\">\n",
       "  <thead>\n",
       "    <tr style=\"text-align: right;\">\n",
       "      <th></th>\n",
       "      <th>Chromosome</th>\n",
       "      <th>Start</th>\n",
       "      <th>End</th>\n",
       "      <th>variant_id</th>\n",
       "      <th>gene_id</th>\n",
       "      <th>Start_b</th>\n",
       "      <th>End_b</th>\n",
       "      <th>name</th>\n",
       "    </tr>\n",
       "  </thead>\n",
       "  <tbody>\n",
       "    <tr>\n",
       "      <th>0</th>\n",
       "      <td>chr1</td>\n",
       "      <td>966227</td>\n",
       "      <td>966227</td>\n",
       "      <td>chr1_966227_C_G_b38</td>\n",
       "      <td>ENSG00000188976.10</td>\n",
       "      <td>965894</td>\n",
       "      <td>966893</td>\n",
       "      <td>chr1:965894-966893</td>\n",
       "    </tr>\n",
       "    <tr>\n",
       "      <th>1</th>\n",
       "      <td>chr1</td>\n",
       "      <td>982112</td>\n",
       "      <td>982112</td>\n",
       "      <td>chr1_982112_C_T_b38</td>\n",
       "      <td>ENSG00000187642.9</td>\n",
       "      <td>981894</td>\n",
       "      <td>982893</td>\n",
       "      <td>chr1:981894-982893</td>\n",
       "    </tr>\n",
       "    <tr>\n",
       "      <th>2</th>\n",
       "      <td>chr1</td>\n",
       "      <td>999666</td>\n",
       "      <td>999666</td>\n",
       "      <td>chr1_999666_G_A_b38</td>\n",
       "      <td>ENSG00000272512.1</td>\n",
       "      <td>998894</td>\n",
       "      <td>999893</td>\n",
       "      <td>chr1:998894-999893</td>\n",
       "    </tr>\n",
       "    <tr>\n",
       "      <th>3</th>\n",
       "      <td>chr1</td>\n",
       "      <td>1020217</td>\n",
       "      <td>1020217</td>\n",
       "      <td>chr1_1020217_G_T_b38</td>\n",
       "      <td>ENSG00000188157.14</td>\n",
       "      <td>1019894</td>\n",
       "      <td>1020893</td>\n",
       "      <td>chr1:1019894-1020893</td>\n",
       "    </tr>\n",
       "    <tr>\n",
       "      <th>4</th>\n",
       "      <td>chr1</td>\n",
       "      <td>1183198</td>\n",
       "      <td>1183198</td>\n",
       "      <td>chr1_1183198_G_A_b38</td>\n",
       "      <td>ENSG00000237330.2</td>\n",
       "      <td>1182894</td>\n",
       "      <td>1183893</td>\n",
       "      <td>chr1:1182894-1183893</td>\n",
       "    </tr>\n",
       "    <tr>\n",
       "      <th>...</th>\n",
       "      <td>...</td>\n",
       "      <td>...</td>\n",
       "      <td>...</td>\n",
       "      <td>...</td>\n",
       "      <td>...</td>\n",
       "      <td>...</td>\n",
       "      <td>...</td>\n",
       "      <td>...</td>\n",
       "    </tr>\n",
       "    <tr>\n",
       "      <th>94</th>\n",
       "      <td>chr1</td>\n",
       "      <td>236998167</td>\n",
       "      <td>236998167</td>\n",
       "      <td>chr1_236998167_C_T_b38</td>\n",
       "      <td>ENSG00000244020.2</td>\n",
       "      <td>236998089</td>\n",
       "      <td>236999088</td>\n",
       "      <td>chr1:236998089-236999088</td>\n",
       "    </tr>\n",
       "    <tr>\n",
       "      <th>95</th>\n",
       "      <td>chr1</td>\n",
       "      <td>244970360</td>\n",
       "      <td>244970360</td>\n",
       "      <td>chr1_244970360_G_C_b38</td>\n",
       "      <td>ENSG00000203666.12</td>\n",
       "      <td>244969633</td>\n",
       "      <td>244970632</td>\n",
       "      <td>chr1:244969633-244970632</td>\n",
       "    </tr>\n",
       "    <tr>\n",
       "      <th>96</th>\n",
       "      <td>chr1</td>\n",
       "      <td>246789097</td>\n",
       "      <td>246789097</td>\n",
       "      <td>chr1_246789097_C_G_b38</td>\n",
       "      <td>ENSG00000143653.9</td>\n",
       "      <td>246788633</td>\n",
       "      <td>246789632</td>\n",
       "      <td>chr1:246788633-246789632</td>\n",
       "    </tr>\n",
       "    <tr>\n",
       "      <th>97</th>\n",
       "      <td>chr1</td>\n",
       "      <td>247104366</td>\n",
       "      <td>247104366</td>\n",
       "      <td>chr1_247104366_G_T_b38</td>\n",
       "      <td>ENSG00000188295.14</td>\n",
       "      <td>247103633</td>\n",
       "      <td>247104632</td>\n",
       "      <td>chr1:247103633-247104632</td>\n",
       "    </tr>\n",
       "    <tr>\n",
       "      <th>98</th>\n",
       "      <td>chr1</td>\n",
       "      <td>247330860</td>\n",
       "      <td>247330860</td>\n",
       "      <td>chr1_247330860_G_A_b38</td>\n",
       "      <td>ENSG00000162714.12</td>\n",
       "      <td>247330633</td>\n",
       "      <td>247331632</td>\n",
       "      <td>chr1:247330633-247331632</td>\n",
       "    </tr>\n",
       "  </tbody>\n",
       "</table>\n",
       "<p>99 rows × 8 columns</p>\n",
       "</div>"
      ],
      "text/plain": [
       "+--------------+-----------+-----------+------------------------+-------+\n",
       "| Chromosome   | Start     | End       | variant_id             | +4    |\n",
       "| (category)   | (int64)   | (int64)   | (object)               | ...   |\n",
       "|--------------+-----------+-----------+------------------------+-------|\n",
       "| chr1         | 966227    | 966227    | chr1_966227_C_G_b38    | ...   |\n",
       "| chr1         | 982112    | 982112    | chr1_982112_C_T_b38    | ...   |\n",
       "| chr1         | 999666    | 999666    | chr1_999666_G_A_b38    | ...   |\n",
       "| chr1         | 1020217   | 1020217   | chr1_1020217_G_T_b38   | ...   |\n",
       "| ...          | ...       | ...       | ...                    | ...   |\n",
       "| chr1         | 244970360 | 244970360 | chr1_244970360_G_C_b38 | ...   |\n",
       "| chr1         | 246789097 | 246789097 | chr1_246789097_C_G_b38 | ...   |\n",
       "| chr1         | 247104366 | 247104366 | chr1_247104366_G_T_b38 | ...   |\n",
       "| chr1         | 247330860 | 247330860 | chr1_247330860_G_A_b38 | ...   |\n",
       "+--------------+-----------+-----------+------------------------+-------+\n",
       "Unstranded PyRanges object has 99 rows and 8 columns from 1 chromosomes.\n",
       "For printing, the PyRanges was sorted on Chromosome.\n",
       "4 hidden columns: gene_id, Start_b, End_b, name"
      ]
     },
     "execution_count": 27,
     "metadata": {},
     "output_type": "execute_result"
    }
   ],
   "source": [
    "var_region = heart_var_pos.join(region_h3k4me3_heart)\n",
    "var_region"
   ]
  },
  {
   "cell_type": "code",
   "execution_count": 28,
   "id": "6b9185e1",
   "metadata": {},
   "outputs": [
    {
     "data": {
      "text/html": [
       "<div>\n",
       "<style scoped>\n",
       "    .dataframe tbody tr th:only-of-type {\n",
       "        vertical-align: middle;\n",
       "    }\n",
       "\n",
       "    .dataframe tbody tr th {\n",
       "        vertical-align: top;\n",
       "    }\n",
       "\n",
       "    .dataframe thead th {\n",
       "        text-align: right;\n",
       "    }\n",
       "</style>\n",
       "<table border=\"1\" class=\"dataframe\">\n",
       "  <thead>\n",
       "    <tr style=\"text-align: right;\">\n",
       "      <th></th>\n",
       "      <th>gene_name</th>\n",
       "      <th>Chromosome</th>\n",
       "      <th>Start</th>\n",
       "      <th>End</th>\n",
       "      <th>gene_id</th>\n",
       "      <th>variant_id</th>\n",
       "      <th>Start_b</th>\n",
       "      <th>End_b</th>\n",
       "      <th>name</th>\n",
       "    </tr>\n",
       "  </thead>\n",
       "  <tbody>\n",
       "    <tr>\n",
       "      <th>0</th>\n",
       "      <td>RP11-206L10.2</td>\n",
       "      <td>chr1</td>\n",
       "      <td>725885</td>\n",
       "      <td>778626</td>\n",
       "      <td>ENSG00000228327.3</td>\n",
       "      <td>chr1_14677_G_A_b38</td>\n",
       "      <td>777894</td>\n",
       "      <td>778893</td>\n",
       "      <td>chr1:777894-778893</td>\n",
       "    </tr>\n",
       "    <tr>\n",
       "      <th>1</th>\n",
       "      <td>RP11-206L10.9</td>\n",
       "      <td>chr1</td>\n",
       "      <td>778770</td>\n",
       "      <td>810060</td>\n",
       "      <td>ENSG00000237491.8</td>\n",
       "      <td>chr1_823322_C_G_b38</td>\n",
       "      <td>777894</td>\n",
       "      <td>778893</td>\n",
       "      <td>chr1:777894-778893</td>\n",
       "    </tr>\n",
       "    <tr>\n",
       "      <th>2</th>\n",
       "      <td>RP11-206L10.9</td>\n",
       "      <td>chr1</td>\n",
       "      <td>778770</td>\n",
       "      <td>810060</td>\n",
       "      <td>ENSG00000237491.8</td>\n",
       "      <td>chr1_823322_C_G_b38</td>\n",
       "      <td>778894</td>\n",
       "      <td>779893</td>\n",
       "      <td>chr1:778894-779893</td>\n",
       "    </tr>\n",
       "    <tr>\n",
       "      <th>3</th>\n",
       "      <td>FAM87B</td>\n",
       "      <td>chr1</td>\n",
       "      <td>817371</td>\n",
       "      <td>819837</td>\n",
       "      <td>ENSG00000177757.2</td>\n",
       "      <td>chr1_820846_C_A_b38</td>\n",
       "      <td>816894</td>\n",
       "      <td>817893</td>\n",
       "      <td>chr1:816894-817893</td>\n",
       "    </tr>\n",
       "    <tr>\n",
       "      <th>4</th>\n",
       "      <td>LINC01128</td>\n",
       "      <td>chr1</td>\n",
       "      <td>825138</td>\n",
       "      <td>859446</td>\n",
       "      <td>ENSG00000228794.8</td>\n",
       "      <td>chr1_841166_A_G_b38</td>\n",
       "      <td>826894</td>\n",
       "      <td>827893</td>\n",
       "      <td>chr1:826894-827893</td>\n",
       "    </tr>\n",
       "    <tr>\n",
       "      <th>...</th>\n",
       "      <td>...</td>\n",
       "      <td>...</td>\n",
       "      <td>...</td>\n",
       "      <td>...</td>\n",
       "      <td>...</td>\n",
       "      <td>...</td>\n",
       "      <td>...</td>\n",
       "      <td>...</td>\n",
       "      <td>...</td>\n",
       "    </tr>\n",
       "    <tr>\n",
       "      <th>2487</th>\n",
       "      <td>SH3BP5L</td>\n",
       "      <td>chr1</td>\n",
       "      <td>248810446</td>\n",
       "      <td>248826633</td>\n",
       "      <td>ENSG00000175137.10</td>\n",
       "      <td>chr1_248820444_A_G_b38</td>\n",
       "      <td>248825633</td>\n",
       "      <td>248826632</td>\n",
       "      <td>chr1:248825633-248826632</td>\n",
       "    </tr>\n",
       "    <tr>\n",
       "      <th>2488</th>\n",
       "      <td>ZNF672</td>\n",
       "      <td>chr1</td>\n",
       "      <td>248838210</td>\n",
       "      <td>248849517</td>\n",
       "      <td>ENSG00000171161.12</td>\n",
       "      <td>chr1_248471564_A_C_b38</td>\n",
       "      <td>248837633</td>\n",
       "      <td>248838632</td>\n",
       "      <td>chr1:248837633-248838632</td>\n",
       "    </tr>\n",
       "    <tr>\n",
       "      <th>2489</th>\n",
       "      <td>ZNF692</td>\n",
       "      <td>chr1</td>\n",
       "      <td>248850006</td>\n",
       "      <td>248859085</td>\n",
       "      <td>ENSG00000171163.15</td>\n",
       "      <td>chr1_248659210_A_G_b38</td>\n",
       "      <td>248858633</td>\n",
       "      <td>248859632</td>\n",
       "      <td>chr1:248858633-248859632</td>\n",
       "    </tr>\n",
       "    <tr>\n",
       "      <th>2490</th>\n",
       "      <td>PGBD2</td>\n",
       "      <td>chr1</td>\n",
       "      <td>248906196</td>\n",
       "      <td>248919946</td>\n",
       "      <td>ENSG00000185220.11</td>\n",
       "      <td>chr1_247919698_A_G_b38</td>\n",
       "      <td>248905633</td>\n",
       "      <td>248906632</td>\n",
       "      <td>chr1:248905633-248906632</td>\n",
       "    </tr>\n",
       "    <tr>\n",
       "      <th>2491</th>\n",
       "      <td>PGBD2</td>\n",
       "      <td>chr1</td>\n",
       "      <td>248906196</td>\n",
       "      <td>248919946</td>\n",
       "      <td>ENSG00000185220.11</td>\n",
       "      <td>chr1_247919698_A_G_b38</td>\n",
       "      <td>248906633</td>\n",
       "      <td>248907632</td>\n",
       "      <td>chr1:248906633-248907632</td>\n",
       "    </tr>\n",
       "  </tbody>\n",
       "</table>\n",
       "<p>2492 rows × 9 columns</p>\n",
       "</div>"
      ],
      "text/plain": [
       "+---------------+--------------+-----------+-----------+-------+\n",
       "| gene_name     | Chromosome   | Start     | End       | +5    |\n",
       "| (object)      | (category)   | (int64)   | (int64)   | ...   |\n",
       "|---------------+--------------+-----------+-----------+-------|\n",
       "| RP11-206L10.2 | chr1         | 725885    | 778626    | ...   |\n",
       "| RP11-206L10.9 | chr1         | 778770    | 810060    | ...   |\n",
       "| RP11-206L10.9 | chr1         | 778770    | 810060    | ...   |\n",
       "| FAM87B        | chr1         | 817371    | 819837    | ...   |\n",
       "| ...           | ...          | ...       | ...       | ...   |\n",
       "| ZNF672        | chr1         | 248838210 | 248849517 | ...   |\n",
       "| ZNF692        | chr1         | 248850006 | 248859085 | ...   |\n",
       "| PGBD2         | chr1         | 248906196 | 248919946 | ...   |\n",
       "| PGBD2         | chr1         | 248906196 | 248919946 | ...   |\n",
       "+---------------+--------------+-----------+-----------+-------+\n",
       "Unstranded PyRanges object has 2,492 rows and 9 columns from 1 chromosomes.\n",
       "For printing, the PyRanges was sorted on Chromosome.\n",
       "5 hidden columns: gene_id, variant_id, Start_b, End_b, name"
      ]
     },
     "execution_count": 28,
     "metadata": {},
     "output_type": "execute_result"
    }
   ],
   "source": [
    "gene_region = heart_var_gene.join(region_h3k4me3_heart)\n",
    "gene_region"
   ]
  },
  {
   "cell_type": "code",
   "execution_count": 29,
   "id": "8aa1c5d3",
   "metadata": {},
   "outputs": [],
   "source": [
    "var_gene_region = var_region.df.merge(gene_region.df, on=['gene_id', 'variant_id'])"
   ]
  },
  {
   "cell_type": "code",
   "execution_count": 30,
   "id": "1b62247b",
   "metadata": {},
   "outputs": [],
   "source": [
    "var_gene_region_connection = var_gene_region[['name_x', 'name_y']]"
   ]
  },
  {
   "cell_type": "code",
   "execution_count": 31,
   "id": "cd4f38b7",
   "metadata": {},
   "outputs": [],
   "source": [
    "var_gene_region_noloops=var_gene_region_connection.query('name_x != name_y')\n",
    "var_gene_region_noloops.reset_index(drop=True, inplace=True)"
   ]
  },
  {
   "cell_type": "code",
   "execution_count": 32,
   "id": "b74350eb",
   "metadata": {},
   "outputs": [
    {
     "data": {
      "text/plain": [
       "name    chr1:958894-959893\n",
       "Name: 11, dtype: object"
      ]
     },
     "execution_count": 32,
     "metadata": {},
     "output_type": "execute_result"
    }
   ],
   "source": [
    "node_labels.iloc[11]"
   ]
  },
  {
   "cell_type": "code",
   "execution_count": 33,
   "id": "62baac23",
   "metadata": {},
   "outputs": [],
   "source": [
    "var_gene_region_index = var_gene_region_noloops.merge(node_labels.reset_index(), left_on='name_x', right_on='name').merge(node_labels.reset_index(), left_on='name_y', right_on='name')"
   ]
  },
  {
   "cell_type": "code",
   "execution_count": 34,
   "id": "4d56b348",
   "metadata": {},
   "outputs": [
    {
     "data": {
      "text/html": [
       "<div>\n",
       "<style scoped>\n",
       "    .dataframe tbody tr th:only-of-type {\n",
       "        vertical-align: middle;\n",
       "    }\n",
       "\n",
       "    .dataframe tbody tr th {\n",
       "        vertical-align: top;\n",
       "    }\n",
       "\n",
       "    .dataframe thead th {\n",
       "        text-align: right;\n",
       "    }\n",
       "</style>\n",
       "<table border=\"1\" class=\"dataframe\">\n",
       "  <thead>\n",
       "    <tr style=\"text-align: right;\">\n",
       "      <th></th>\n",
       "      <th>name_x</th>\n",
       "      <th>name_y</th>\n",
       "      <th>vertex ID_x</th>\n",
       "      <th>name_x</th>\n",
       "      <th>vertex ID_y</th>\n",
       "      <th>name_y</th>\n",
       "    </tr>\n",
       "  </thead>\n",
       "  <tbody>\n",
       "    <tr>\n",
       "      <th>0</th>\n",
       "      <td>chr1:965894-966893</td>\n",
       "      <td>chr1:958894-959893</td>\n",
       "      <td>12</td>\n",
       "      <td>chr1:965894-966893</td>\n",
       "      <td>11</td>\n",
       "      <td>chr1:958894-959893</td>\n",
       "    </tr>\n",
       "    <tr>\n",
       "      <th>1</th>\n",
       "      <td>chr1:981894-982893</td>\n",
       "      <td>chr1:975894-976893</td>\n",
       "      <td>15</td>\n",
       "      <td>chr1:981894-982893</td>\n",
       "      <td>13</td>\n",
       "      <td>chr1:975894-976893</td>\n",
       "    </tr>\n",
       "    <tr>\n",
       "      <th>2</th>\n",
       "      <td>chr1:981894-982893</td>\n",
       "      <td>chr1:980894-981893</td>\n",
       "      <td>15</td>\n",
       "      <td>chr1:981894-982893</td>\n",
       "      <td>14</td>\n",
       "      <td>chr1:980894-981893</td>\n",
       "    </tr>\n",
       "    <tr>\n",
       "      <th>3</th>\n",
       "      <td>chr1:1019894-1020893</td>\n",
       "      <td>chr1:1024894-1025893</td>\n",
       "      <td>21</td>\n",
       "      <td>chr1:1019894-1020893</td>\n",
       "      <td>22</td>\n",
       "      <td>chr1:1024894-1025893</td>\n",
       "    </tr>\n",
       "    <tr>\n",
       "      <th>4</th>\n",
       "      <td>chr1:1019894-1020893</td>\n",
       "      <td>chr1:1032894-1033893</td>\n",
       "      <td>21</td>\n",
       "      <td>chr1:1019894-1020893</td>\n",
       "      <td>23</td>\n",
       "      <td>chr1:1032894-1033893</td>\n",
       "    </tr>\n",
       "    <tr>\n",
       "      <th>...</th>\n",
       "      <td>...</td>\n",
       "      <td>...</td>\n",
       "      <td>...</td>\n",
       "      <td>...</td>\n",
       "      <td>...</td>\n",
       "      <td>...</td>\n",
       "    </tr>\n",
       "    <tr>\n",
       "      <th>85</th>\n",
       "      <td>chr1:211382313-211383312</td>\n",
       "      <td>chr1:211416313-211417312</td>\n",
       "      <td>2559</td>\n",
       "      <td>chr1:211382313-211383312</td>\n",
       "      <td>2560</td>\n",
       "      <td>chr1:211416313-211417312</td>\n",
       "    </tr>\n",
       "    <tr>\n",
       "      <th>86</th>\n",
       "      <td>chr1:211630313-211631312</td>\n",
       "      <td>chr1:211830313-211831312</td>\n",
       "      <td>2563</td>\n",
       "      <td>chr1:211630313-211631312</td>\n",
       "      <td>2567</td>\n",
       "      <td>chr1:211830313-211831312</td>\n",
       "    </tr>\n",
       "    <tr>\n",
       "      <th>87</th>\n",
       "      <td>chr1:213982414-213983413</td>\n",
       "      <td>chr1:213985414-213986413</td>\n",
       "      <td>2592</td>\n",
       "      <td>chr1:213982414-213983413</td>\n",
       "      <td>2593</td>\n",
       "      <td>chr1:213985414-213986413</td>\n",
       "    </tr>\n",
       "    <tr>\n",
       "      <th>88</th>\n",
       "      <td>chr1:244969633-244970632</td>\n",
       "      <td>chr1:245051633-245052632</td>\n",
       "      <td>2917</td>\n",
       "      <td>chr1:244969633-244970632</td>\n",
       "      <td>2919</td>\n",
       "      <td>chr1:245051633-245052632</td>\n",
       "    </tr>\n",
       "    <tr>\n",
       "      <th>89</th>\n",
       "      <td>chr1:246788633-246789632</td>\n",
       "      <td>chr1:246723633-246724632</td>\n",
       "      <td>2934</td>\n",
       "      <td>chr1:246788633-246789632</td>\n",
       "      <td>2932</td>\n",
       "      <td>chr1:246723633-246724632</td>\n",
       "    </tr>\n",
       "  </tbody>\n",
       "</table>\n",
       "<p>90 rows × 6 columns</p>\n",
       "</div>"
      ],
      "text/plain": [
       "                      name_x                    name_y  vertex ID_x  \\\n",
       "0         chr1:965894-966893        chr1:958894-959893           12   \n",
       "1         chr1:981894-982893        chr1:975894-976893           15   \n",
       "2         chr1:981894-982893        chr1:980894-981893           15   \n",
       "3       chr1:1019894-1020893      chr1:1024894-1025893           21   \n",
       "4       chr1:1019894-1020893      chr1:1032894-1033893           21   \n",
       "..                       ...                       ...          ...   \n",
       "85  chr1:211382313-211383312  chr1:211416313-211417312         2559   \n",
       "86  chr1:211630313-211631312  chr1:211830313-211831312         2563   \n",
       "87  chr1:213982414-213983413  chr1:213985414-213986413         2592   \n",
       "88  chr1:244969633-244970632  chr1:245051633-245052632         2917   \n",
       "89  chr1:246788633-246789632  chr1:246723633-246724632         2934   \n",
       "\n",
       "                      name_x  vertex ID_y                    name_y  \n",
       "0         chr1:965894-966893           11        chr1:958894-959893  \n",
       "1         chr1:981894-982893           13        chr1:975894-976893  \n",
       "2         chr1:981894-982893           14        chr1:980894-981893  \n",
       "3       chr1:1019894-1020893           22      chr1:1024894-1025893  \n",
       "4       chr1:1019894-1020893           23      chr1:1032894-1033893  \n",
       "..                       ...          ...                       ...  \n",
       "85  chr1:211382313-211383312         2560  chr1:211416313-211417312  \n",
       "86  chr1:211630313-211631312         2567  chr1:211830313-211831312  \n",
       "87  chr1:213982414-213983413         2593  chr1:213985414-213986413  \n",
       "88  chr1:244969633-244970632         2919  chr1:245051633-245052632  \n",
       "89  chr1:246788633-246789632         2932  chr1:246723633-246724632  \n",
       "\n",
       "[90 rows x 6 columns]"
      ]
     },
     "execution_count": 34,
     "metadata": {},
     "output_type": "execute_result"
    }
   ],
   "source": [
    "var_gene_region_index"
   ]
  },
  {
   "cell_type": "code",
   "execution_count": 35,
   "id": "93b12866",
   "metadata": {},
   "outputs": [],
   "source": [
    "# from gtex: we have var -> gene\n",
    "# var+hmloci and gene+hmloci\n",
    "##### test var->region->gene #######"
   ]
  },
  {
   "cell_type": "code",
   "execution_count": 36,
   "id": "0b1a3626",
   "metadata": {},
   "outputs": [
    {
     "data": {
      "text/html": [
       "<div>\n",
       "<style scoped>\n",
       "    .dataframe tbody tr th:only-of-type {\n",
       "        vertical-align: middle;\n",
       "    }\n",
       "\n",
       "    .dataframe tbody tr th {\n",
       "        vertical-align: top;\n",
       "    }\n",
       "\n",
       "    .dataframe thead th {\n",
       "        text-align: right;\n",
       "    }\n",
       "</style>\n",
       "<table border=\"1\" class=\"dataframe\">\n",
       "  <thead>\n",
       "    <tr style=\"text-align: right;\">\n",
       "      <th></th>\n",
       "      <th>source</th>\n",
       "      <th>target</th>\n",
       "    </tr>\n",
       "  </thead>\n",
       "  <tbody>\n",
       "    <tr>\n",
       "      <th>0</th>\n",
       "      <td>12</td>\n",
       "      <td>11</td>\n",
       "    </tr>\n",
       "    <tr>\n",
       "      <th>1</th>\n",
       "      <td>15</td>\n",
       "      <td>13</td>\n",
       "    </tr>\n",
       "    <tr>\n",
       "      <th>2</th>\n",
       "      <td>15</td>\n",
       "      <td>14</td>\n",
       "    </tr>\n",
       "    <tr>\n",
       "      <th>3</th>\n",
       "      <td>21</td>\n",
       "      <td>22</td>\n",
       "    </tr>\n",
       "    <tr>\n",
       "      <th>4</th>\n",
       "      <td>21</td>\n",
       "      <td>23</td>\n",
       "    </tr>\n",
       "    <tr>\n",
       "      <th>...</th>\n",
       "      <td>...</td>\n",
       "      <td>...</td>\n",
       "    </tr>\n",
       "    <tr>\n",
       "      <th>85</th>\n",
       "      <td>2559</td>\n",
       "      <td>2560</td>\n",
       "    </tr>\n",
       "    <tr>\n",
       "      <th>86</th>\n",
       "      <td>2563</td>\n",
       "      <td>2567</td>\n",
       "    </tr>\n",
       "    <tr>\n",
       "      <th>87</th>\n",
       "      <td>2592</td>\n",
       "      <td>2593</td>\n",
       "    </tr>\n",
       "    <tr>\n",
       "      <th>88</th>\n",
       "      <td>2917</td>\n",
       "      <td>2919</td>\n",
       "    </tr>\n",
       "    <tr>\n",
       "      <th>89</th>\n",
       "      <td>2934</td>\n",
       "      <td>2932</td>\n",
       "    </tr>\n",
       "  </tbody>\n",
       "</table>\n",
       "<p>90 rows × 2 columns</p>\n",
       "</div>"
      ],
      "text/plain": [
       "    source  target\n",
       "0       12      11\n",
       "1       15      13\n",
       "2       15      14\n",
       "3       21      22\n",
       "4       21      23\n",
       "..     ...     ...\n",
       "85    2559    2560\n",
       "86    2563    2567\n",
       "87    2592    2593\n",
       "88    2917    2919\n",
       "89    2934    2932\n",
       "\n",
       "[90 rows x 2 columns]"
      ]
     },
     "execution_count": 36,
     "metadata": {},
     "output_type": "execute_result"
    }
   ],
   "source": [
    "var_edge_index = var_gene_region_index[['vertex ID_x', 'vertex ID_y']]\n",
    "var_edge_index.columns = ['source', 'target']\n",
    "var_edge_index"
   ]
  },
  {
   "cell_type": "code",
   "execution_count": 37,
   "id": "7f525730",
   "metadata": {},
   "outputs": [],
   "source": [
    "check_nodes = list(set(var_edge_index.source.tolist() + var_edge_index.target.tolist()))\n",
    "check_x = node_attrs.loc[check_nodes,:].sort_index()"
   ]
  },
  {
   "cell_type": "code",
   "execution_count": 38,
   "id": "a2d6fe2d",
   "metadata": {},
   "outputs": [
    {
     "data": {
      "text/plain": [
       "tensor([[1.0000, 0.0665],\n",
       "        [2.0000, 0.3692],\n",
       "        [1.0000, 0.0418],\n",
       "        ...,\n",
       "        [2.0000, 0.1249],\n",
       "        [2.0000, 0.4891],\n",
       "        [1.0000, 0.0740]], device='cuda:0')"
      ]
     },
     "execution_count": 38,
     "metadata": {},
     "output_type": "execute_result"
    }
   ],
   "source": [
    "test_data.x"
   ]
  },
  {
   "cell_type": "code",
   "execution_count": 39,
   "id": "85e55005",
   "metadata": {},
   "outputs": [
    {
     "name": "stdout",
     "output_type": "stream",
     "text": [
      "Data(x=[140, 2], edge_index=[2, 90], device=cuda)\n"
     ]
    }
   ],
   "source": [
    "var_region_gene = torch.tensor(var_edge_index.to_numpy().transpose(), dtype=torch.long)\n",
    "var_region_gene_x = torch.tensor(check_x.to_numpy(), dtype=torch.float)\n",
    "var_region_gene = Data(x=var_region_gene_x, edge_index=var_region_gene, device=device)\n",
    "print(var_region_gene)"
   ]
  },
  {
   "cell_type": "code",
   "execution_count": 40,
   "id": "7b06bf8c",
   "metadata": {},
   "outputs": [],
   "source": [
    "output = model.encode(data.x, data.edge_index)\n",
    "final = model.decode_all(output)\n",
    "probabilities = torch.nn.functional.softmax(output, dim=0)"
   ]
  },
  {
   "cell_type": "code",
   "execution_count": 65,
   "id": "d62f5fd4",
   "metadata": {},
   "outputs": [
    {
     "data": {
      "text/plain": [
       "Data(x=[140, 2], edge_index=[2, 90], device=cuda)"
      ]
     },
     "execution_count": 65,
     "metadata": {},
     "output_type": "execute_result"
    }
   ],
   "source": [
    "var_region_gene.edge"
   ]
  },
  {
   "cell_type": "code",
   "execution_count": 66,
   "id": "51a2419d",
   "metadata": {},
   "outputs": [],
   "source": [
    "final_np = final.cpu().numpy()"
   ]
  },
  {
   "cell_type": "code",
   "execution_count": 78,
   "id": "dff0430b",
   "metadata": {},
   "outputs": [],
   "source": [
    "final_np_source = final_np[0]\n",
    "final_np_target = final_np[1]\n",
    "paired_edge = np.vstack((final_np_source, final_np_target)).T"
   ]
  },
  {
   "cell_type": "code",
   "execution_count": 81,
   "id": "c8af3875",
   "metadata": {},
   "outputs": [
    {
     "data": {
      "text/plain": [
       "(4391658, 2)"
      ]
     },
     "execution_count": 81,
     "metadata": {},
     "output_type": "execute_result"
    }
   ],
   "source": [
    "paired_edge.shape"
   ]
  },
  {
   "cell_type": "code",
   "execution_count": 98,
   "id": "d908d512",
   "metadata": {},
   "outputs": [
    {
     "ename": "TypeError",
     "evalue": "object of type 'builtin_function_or_method' has no len()",
     "output_type": "error",
     "traceback": [
      "\u001b[0;31m---------------------------------------------------------------------------\u001b[0m",
      "\u001b[0;31mTypeError\u001b[0m                                 Traceback (most recent call last)",
      "\u001b[0;32m/tmp/ipykernel_12465/2368425222.py\u001b[0m in \u001b[0;36m<module>\u001b[0;34m\u001b[0m\n\u001b[0;32m----> 1\u001b[0;31m \u001b[0mlen\u001b[0m\u001b[0;34m(\u001b[0m\u001b[0mindex\u001b[0m\u001b[0;34m)\u001b[0m\u001b[0;34m\u001b[0m\u001b[0;34m\u001b[0m\u001b[0m\n\u001b[0m",
      "\u001b[0;31mTypeError\u001b[0m: object of type 'builtin_function_or_method' has no len()"
     ]
    }
   ],
   "source": [
    "len(index)"
   ]
  },
  {
   "cell_type": "code",
   "execution_count": 84,
   "id": "944243dd",
   "metadata": {},
   "outputs": [],
   "source": [
    "index = var_edge_index.to_numpy()"
   ]
  },
  {
   "cell_type": "code",
   "execution_count": 90,
   "id": "1c29e2a3",
   "metadata": {},
   "outputs": [],
   "source": [
    "count=0\n",
    "for x in range(index.shape[0]):\n",
    "    if index[x] in paired_edge:\n",
    "        count+=1"
   ]
  },
  {
   "cell_type": "code",
   "execution_count": 91,
   "id": "d13d6364",
   "metadata": {},
   "outputs": [
    {
     "data": {
      "text/plain": [
       "90"
      ]
     },
     "execution_count": 91,
     "metadata": {},
     "output_type": "execute_result"
    }
   ],
   "source": [
    "count"
   ]
  },
  {
   "cell_type": "code",
   "execution_count": null,
   "id": "05b1f60c",
   "metadata": {},
   "outputs": [],
   "source": []
  }
 ],
 "metadata": {
  "kernelspec": {
   "display_name": "Python 3 (ipykernel)",
   "language": "python",
   "name": "python3"
  },
  "language_info": {
   "codemirror_mode": {
    "name": "ipython",
    "version": 3
   },
   "file_extension": ".py",
   "mimetype": "text/x-python",
   "name": "python",
   "nbconvert_exporter": "python",
   "pygments_lexer": "ipython3",
   "version": "3.9.13"
  }
 },
 "nbformat": 4,
 "nbformat_minor": 5
}
