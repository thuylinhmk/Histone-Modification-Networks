{
 "cells": [
  {
   "cell_type": "code",
   "execution_count": 1,
   "metadata": {},
   "outputs": [],
   "source": [
    "%load_ext autoreload\n",
    "%autoreload 2\n",
    "import pandas as pd\n",
    "import numpy as np\n",
    "import os\n",
    "import pyranges as pr\n",
    "from PyWGCNA import WGCNA\n",
    "import matplotlib.pyplot as plt\n",
    "from scipy.stats import pearsonr, spearmanr\n",
    "from sklearn.preprocessing import OneHotEncoder\n",
    "import networkx as nx\n",
    "import igraph as ig\n",
    "import leidenalg as la\n",
    "import plotly.express as px\n",
    "import plotly.graph_objects as go\n",
    "import seaborn as sns\n",
    "import scipy as sp\n",
    "import matplotlib.pyplot as plt\n",
    "import plotly.express as px\n",
    "from sklearn.preprocessing import MinMaxScaler\n",
    "import scanpy\n",
    "import colorcet as cc\n",
    "import seaborn as sns\n",
    "import powerlaw\n",
    "import scipy.stats\n",
    "from fitter import Fitter\n",
    "from gprofiler import GProfiler\n",
    "from typing import Union\n",
    "import re\n",
    "from collections import Counter\n",
    "%matplotlib inline"
   ]
  },
  {
   "cell_type": "code",
   "execution_count": 2,
   "metadata": {},
   "outputs": [],
   "source": [
    "def list_domain_todf(list_domain):\n",
    "    chrom = [x.split(':')[0] for x in list_domain]\n",
    "    start = [re.split(':|-', x)[1] for x in list_domain]\n",
    "    end = [re.split(':|-', x)[2] for x in list_domain]\n",
    "    return pd.DataFrame({'Chromosome': chrom, \n",
    "                         'Start': start, 'End':end}, index=list_domain)"
   ]
  },
  {
   "cell_type": "code",
   "execution_count": 3,
   "metadata": {},
   "outputs": [],
   "source": [
    "def filter_allzero(df):\n",
    "    cols = df.columns\n",
    "    df_sum = df.sum(0)\n",
    "    masked = cols[df_sum>0]\n",
    "    return df[masked]"
   ]
  },
  {
   "cell_type": "code",
   "execution_count": 4,
   "metadata": {},
   "outputs": [],
   "source": [
    "def correlation_cal(data, test='spearmanr', fillna=0, pval=False):\n",
    "    if test == 'spearmanr':\n",
    "        if not pval:\n",
    "            scaled_corr, _ = spearmanr(data)\n",
    "        else:\n",
    "            scaled_corr, pval = spearmanr(data)\n",
    "    elif test == 'pearsonr':\n",
    "        if not pval:\n",
    "            scaled_corr = np.corrcoef(data.to_numpy().T)\n",
    "        else:\n",
    "            raise ValueError(\"not support pval for pearsonr\")\n",
    "    else:\n",
    "        raise ValueError('Not supported: choose between pearsonr or spearmanr')\n",
    "         \n",
    "\n",
    "    np.fill_diagonal(scaled_corr, 1)\n",
    "    scaled_corr = pd.DataFrame(scaled_corr, index=data.columns, columns=data.columns)\n",
    "    scaled_corr.fillna(fillna, inplace=True)\n",
    "    if not pval:\n",
    "        return scaled_corr\n",
    "    else:\n",
    "        return (scaled_corr, pval)"
   ]
  },
  {
   "cell_type": "code",
   "execution_count": 5,
   "metadata": {},
   "outputs": [],
   "source": [
    "def rank_transformation(data, scaled='MinMax'):\n",
    "    \"\"\" Rank transformation and scale across assays\n",
    "        Arguments:\n",
    "            data (pd.DataFrame): samples x features\n",
    "            scaled (str): type of scaler to scale data across sample\n",
    "                (default: MinMax)\n",
    "                None: for not using scale     \n",
    "    \"\"\"\n",
    "    rank_transform = data.to_numpy().argsort().argsort()\n",
    "    if not scaled:\n",
    "        return pd.DataFrame(rank_transform, \n",
    "                                    index=data.index,\n",
    "                                    columns=data.columns)\n",
    "    else:\n",
    "        scaler = MinMaxScaler()\n",
    "        scaler.fit(rank_transform)\n",
    "        df = pd.DataFrame(scaler.transform(rank_transform), \n",
    "                                        index=data.index,\n",
    "                                        columns=data.columns) \n",
    "        return df"
   ]
  },
  {
   "cell_type": "code",
   "execution_count": 6,
   "metadata": {},
   "outputs": [],
   "source": [
    "def powerlaw_fit_plot(corr_df, \n",
    "                    power, \n",
    "                    title: str,\n",
    "                    threshold=None, \n",
    "                    sfti: Union['connectivity', 'degree'] = 'connectivity'):\n",
    "    unsigned_corr = abs(corr_df.to_numpy())\n",
    "    TOMsim_signed = unsigned_corr**power\n",
    "\n",
    "    if threshold: \n",
    "        q=np.quantile(upper, 0.99)\n",
    "        print(q3)\n",
    "        fil = np.where(TOMsim_signed<q, 0, TOMsim_signed)\n",
    "    else:\n",
    "        fil=TOMsim_signed\n",
    "\n",
    "    fil=pd.DataFrame(TOMsim_signed, index=corr_df.index, columns=corr_df.columns)\n",
    "    graph = ig.Graph.Weighted_Adjacency(fil, 'upper', loops=False)\n",
    "    print(f'{graph.vcount()} nodes, {graph.ecount()} edges')\n",
    "    if sfti == 'connectivity':\n",
    "        print(f'Mean connectivity: {np.sum(graph.strength(weights=\"weight\"))/graph.vcount()}')\n",
    "        _sequence = sorted(graph.strength(weights='weight'), reverse=True)\n",
    "        _sequence = np.round(_sequence)\n",
    "    elif sfti == 'degree':\n",
    "        print(f'Mean connectivity: {np.sum(graph.degree())/graph.vcount()}')\n",
    "        _sequence = sorted(graph.degree(), reverse=True)\n",
    "    \n",
    "    fig, ax = plt.subplots(figsize=(10,7))\n",
    "    plt.yscale('log')\n",
    "    plt.xscale('log')\n",
    "\n",
    "    fit = powerlaw.Fit(_sequence)\n",
    "    print(fit.power_law.alpha, fit.power_law.sigma, fit.xmin)\n",
    "    print(fit.distribution_compare('power_law',  'lognormal', normalized_ratio=True))\n",
    "    deg = _sequence\n",
    "    deg_distri = Counter(deg)\n",
    "    x=[]\n",
    "    y=[]\n",
    "    for i in sorted(deg_distri):\n",
    "            x.append(i)\n",
    "            y.append(deg_distri[i]/graph.vcount())\n",
    "    ax.plot(x, y,'ro')\n",
    "    fig=fit.plot_pdf(color='r', label='data', ax=ax)\n",
    "    fit.power_law.plot_pdf(color='b', linestyle='-', linewidth=1, label='powerlaw fit', ax=ax)\n",
    "    fit.lognormal.plot_pdf(color='g', linestyle='-', linewidth=1, label='lognormal fit', ax=ax)\n",
    "    fig.legend(fontsize=13)\n",
    "    plt.xticks(fontsize=20)\n",
    "    plt.yticks(fontsize=22)\n",
    "    plt.xlabel(f'{sfti} $k$', fontsize=22)\n",
    "    plt.ylabel('$P(k)$', fontsize=22)\n",
    "    plt.title(title)\n",
    "    ax.text(0.7, 1.0, f'$\\\\alpha$={(round(fit.alpha, 2))}, xmin={fit.xmin}', transform=ax.transAxes, fontdict={'size': 13})\n",
    "    plt.savefig(f'{title}.png')\n"
   ]
  },
  {
   "cell_type": "code",
   "execution_count": 7,
   "metadata": {},
   "outputs": [],
   "source": [
    "def module_trait_relationships_heatmap(pywgcna_obj,\n",
    "                                        file_name: str,\n",
    "                                        plot_title: str,\n",
    "                                        metaData=['Tissue'],\n",
    "                                        show=True,\n",
    "                                           ):\n",
    "        \"\"\"\n",
    "        plot topic-trait relationship heatmap\n",
    "\n",
    "        :param metaData: traits you would like to see the relationship with topics (must be column name of datExpr.obs)\n",
    "        :type metaData: list\n",
    "        :param show: indicate if you want to show the plot or not (default: True)\n",
    "        :type show: bool\n",
    "        :param file_name: name and path of the plot use for save (default: topic-traitRelationships)\n",
    "        :type file_name: str\n",
    "        \"\"\"\n",
    "        datTraits = pywgcna_obj.getDatTraits(metaData)\n",
    "        pvalue = pywgcna_obj.moduleTraitPvalue.loc[:, datTraits.columns]\n",
    "        cor = pywgcna_obj.moduleTraitCor.loc[:, datTraits.columns]\n",
    "\n",
    "        fig, ax = plt.subplots(figsize=(max(20, int(pvalue.shape[0] * 1.5)),\n",
    "                                        pvalue.shape[1] * 1.5), facecolor='white')\n",
    "        # names\n",
    "        xlabels = []\n",
    "        for label in pywgcna_obj.MEs.columns:\n",
    "            xlabels.append(label[2:].capitalize() + '(' + str(sum(pywgcna_obj.datExpr.var['moduleColors'] == label[2:])) + ')')\n",
    "        ylabels = datTraits.columns\n",
    "\n",
    "        # Loop over data dimensions and create text annotations.\n",
    "        tmp_cor = cor.T.round(decimals=2)\n",
    "        tmp_pvalue = pvalue.T.round(decimals=3)\n",
    "        labels = (np.asarray([\"{0}\\n({1})\".format(cor, pvalue)\n",
    "                              for cor, pvalue in zip(tmp_cor.values.flatten(),\n",
    "                                                     tmp_pvalue.values.flatten())])) \\\n",
    "            .reshape(cor.T.shape)\n",
    "\n",
    "        sns.set(font_scale=1.5)\n",
    "        res = sns.heatmap(cor.T, annot=labels, fmt=\"\", cmap='RdBu_r',\n",
    "                          vmin=-1, vmax=1, ax=ax, annot_kws={'size': 20, \"weight\": \"bold\"},\n",
    "                          xticklabels=xlabels, yticklabels=ylabels)\n",
    "        res.set_xticklabels(res.get_xmajorticklabels(), fontsize=20, fontweight=\"bold\", rotation=90)\n",
    "        res.set_yticklabels(res.get_ymajorticklabels(), fontsize=20, fontweight=\"bold\")\n",
    "        plt.yticks(rotation=0)\n",
    "        ax.set_title(plot_title,\n",
    "                     fontsize=30, fontweight=\"bold\")\n",
    "        ax.set_facecolor('white')\n",
    "        fig.tight_layout()\n",
    "\n",
    "        plt.savefig(f'{file_name}.png')"
   ]
  },
  {
   "cell_type": "markdown",
   "metadata": {},
   "source": [
    "--------------"
   ]
  },
  {
   "cell_type": "code",
   "execution_count": 9,
   "metadata": {},
   "outputs": [],
   "source": [
    "mainpath='network_dataframe_majortissue' #path pls "
   ]
  },
  {
   "cell_type": "code",
   "execution_count": 10,
   "metadata": {},
   "outputs": [],
   "source": [
    "target = ['H3K4me3', 'H3K27me3', 'H3K4me1', 'H3K27ac', 'H3K9me3']"
   ]
  },
  {
   "cell_type": "code",
   "execution_count": 11,
   "metadata": {},
   "outputs": [],
   "source": [
    "adata_files = [f for f in os.listdir(mainpath) if '.h5ad' in f and 'chr1.' in f]"
   ]
  },
  {
   "cell_type": "code",
   "execution_count": 12,
   "metadata": {},
   "outputs": [
    {
     "data": {
      "text/plain": [
       "['adata_hm_tissue_chr1.h5ad']"
      ]
     },
     "execution_count": 12,
     "metadata": {},
     "output_type": "execute_result"
    }
   ],
   "source": [
    "adata_files"
   ]
  },
  {
   "cell_type": "code",
   "execution_count": 13,
   "metadata": {},
   "outputs": [],
   "source": [
    "color_p = cc.glasbey_warm"
   ]
  },
  {
   "cell_type": "code",
   "execution_count": 14,
   "metadata": {},
   "outputs": [
    {
     "name": "stdout",
     "output_type": "stream",
     "text": [
      "H3K4me3\n",
      "(34372, 34372)\n"
     ]
    }
   ],
   "source": [
    "for f in adata_files:\n",
    "    adata = scanpy.read_h5ad(f'{mainpath}/{f}')\n",
    "    chrom = re.split('_|\\.', f)[3]\n",
    "    for h in target:\n",
    "        print(h)\n",
    "        hm = adata[adata.obs['Target of assay']=='H3K4me1']\n",
    "        hm_info = hm.obs\n",
    "        hm = hm.to_df('average_signal')\n",
    "        hm = filter_allzero(hm)\n",
    "\n",
    "        hm_info = adata.obs.query(f'`Target of assay` == \"H3K4me1\"')\n",
    "\n",
    "        rank_full = rank_transformation(hm)\n",
    "        corr_full = correlation_cal(rank_full, 'pearsonr')\n",
    "        print(corr_full.shape)\n",
    "        break\n",
    "        \n",
    "        power, _ = WGCNA.pickSoftThreshold(rank_full, 'unsigned')\n",
    "\n",
    "        powerlaw_fit_plot(corr_df=corr_full, power=power, title=f'Power fit {h} - {chrom}')\n",
    "\n",
    "        pyWGCNA_hm = WGCNA(name=h, \n",
    "                              species='homo sapiens', \n",
    "                              geneExp=rank_full,\n",
    "                              networkType='unsigned',)\n",
    "        pyWGCNA_hm.findModules()\n",
    "\n",
    "        pyWGCNA_hm.updateSampleInfo(hm_info)\n",
    "\n",
    "        tissue_color = dict(zip(hm_info.Tissue.unique().tolist(), color_p))\n",
    "\n",
    "        pyWGCNA_hm.setMetadataColor('Tissue', tissue_color)\n",
    "        pyWGCNA_hm.analyseWGCNA()\n",
    "\n",
    "        module_trait_relationships_heatmap(pywgcna_obj=pyWGCNA_hm, plot_title=f\"Module-Trait relationships heatmap for {h} - {chrom}\", file_name=f'module_trait_{h}_{chrom}')\n",
    "\n",
    "        list_regions = []\n",
    "        for name in pyWGCNA_hm.getModuleName():\n",
    "            list_regions.append(pyWGCNA_hm.top_n_hub_genes(name, n=-1))\n",
    "        list_regions_df = pd.concat(list_regions, axis=0)\n",
    "        list_regions_df.reset_index().to_feather(f'{h}_{chrom}_wgcna_region.feather')\n",
    "        break\n",
    "    break\n"
   ]
  },
  {
   "cell_type": "code",
   "execution_count": 1,
   "metadata": {},
   "outputs": [],
   "source": [
    "from PyWGCNA import WGCNA\n"
   ]
  },
  {
   "cell_type": "code",
   "execution_count": 3,
   "metadata": {},
   "outputs": [
    {
     "name": "stdout",
     "output_type": "stream",
     "text": [
      "\u001b[0;31mSignature:\u001b[0m \u001b[0mWGCNA\u001b[0m\u001b[0;34m.\u001b[0m\u001b[0mTOMsimilarity\u001b[0m\u001b[0;34m(\u001b[0m\u001b[0madjMat\u001b[0m\u001b[0;34m,\u001b[0m \u001b[0mTOMType\u001b[0m\u001b[0;34m=\u001b[0m\u001b[0;34m'signed'\u001b[0m\u001b[0;34m,\u001b[0m \u001b[0mTOMDenom\u001b[0m\u001b[0;34m=\u001b[0m\u001b[0;34m'min'\u001b[0m\u001b[0;34m)\u001b[0m\u001b[0;34m\u001b[0m\u001b[0;34m\u001b[0m\u001b[0m\n",
      "\u001b[0;31mDocstring:\u001b[0m\n",
      "Calculation of the topological overlap matrix, and the corresponding dissimilarity, from a given adjacency matrix\n",
      "\n",
      ":param adjMat: adjacency matrix, that is a square, symmetric matrix with entries between 0 and 1 (negative values are allowed if TOMType==\"signed\").\n",
      ":type adjMat: pandas dataframe\n",
      ":param TOMType: one of \"unsigned\", \"signed\"\n",
      ":type TOMType: str\n",
      ":param TOMDenom: a character string specifying the TOM variant to be used. Recognized values are \"min\" giving the standard TOM described in Zhang and Horvath (2005), and \"mean\" in which the min function in the denominator is replaced by mean. The \"mean\" may produce better results but at this time should be considered experimental.\n",
      ":type TOMDenom: str\n",
      "\n",
      ":return: A matrix holding the topological overlap.\n",
      ":rtype: pandas dataframe\n",
      "\u001b[0;31mFile:\u001b[0m      ~/anaconda3/lib/python3.9/site-packages/PyWGCNA/wgcna.py\n",
      "\u001b[0;31mType:\u001b[0m      function\n"
     ]
    }
   ],
   "source": [
    "WGCNA.TOMsimilarity?"
   ]
  },
  {
   "cell_type": "code",
   "execution_count": 80,
   "metadata": {},
   "outputs": [],
   "source": [
    "import plotly.express as px\n",
    "from plotly.subplots import make_subplots\n",
    "import os\n",
    "import scanpy\n",
    "import matplotlib.pyplot as plt\n",
    "import numpy as np\n",
    "import seaborn as sns\n",
    "%matplotlib inline"
   ]
  },
  {
   "cell_type": "code",
   "execution_count": 27,
   "metadata": {},
   "outputs": [],
   "source": [
    "adatas_file = [x for x in os.listdir('network_dataframe_majortissue/') if '.h5ad' in x]\n",
    "chromosome = {}\n",
    "for f in adatas_file:\n",
    "    chrom = f.split('_')[3].split('.')[0]\n",
    "    reading = scanpy.read_h5ad(f'network_dataframe_majortissue/{f}')\n",
    "    chromosome[chrom] = reading"
   ]
  },
  {
   "cell_type": "code",
   "execution_count": 28,
   "metadata": {},
   "outputs": [],
   "source": [
    "target = ['H3K4me3','H3K4me1', 'H3K9me3', 'H3K27me3', 'H3K27ac']"
   ]
  },
  {
   "cell_type": "code",
   "execution_count": 117,
   "metadata": {},
   "outputs": [],
   "source": [
    "chrom_list = [f'chr{i}' for i in range(1,23)]"
   ]
  },
  {
   "cell_type": "code",
   "execution_count": 151,
   "metadata": {},
   "outputs": [],
   "source": [
    "for h in target:\n",
    "    hm_tissue = chromosome['chr1'].obs.query(f'`Target of assay` == \"{h}\"').Tissue.unique()\n",
    "    tissue = {}\n",
    "    for t in hm_tissue:\n",
    "        tissue[t] = {}    \n",
    "        for i in range(1, 23):\n",
    "            chrom = f'chr{i}'\n",
    "            sc_data = chromosome[chrom]\n",
    "            sub = sc_data[(sc_data.obs['Tissue']==t) & (sc_data.obs['Target of assay'] == h)].to_df('average_signal')\n",
    "            sub = filter_allzero(sub)\n",
    "            scaler = MinMaxScaler()\n",
    "            scaled = scaler.fit_transform(sub.T).T\n",
    "            sub = pd.DataFrame(scaled, index=sub.index, columns=sub.columns)\n",
    "            tissue[t][chrom] = sub\n",
    "    # fig, axes = plt.subplots(nrows=2, ncols=5, sharey=True)\n",
    "    # fig.set_figheight(8)\n",
    "    # fig.set_figwidth(15)\n",
    "    # fig.suptitle(f'Distibution of average signal value between different tissues (normalized within assay) - {h}', fontsize=15) \n",
    "    # for ax in axes.flatten():\n",
    "    #     ax.set_axis_off()\n",
    "    # for ax, t in zip(axes.flatten(), hm_tissue):\n",
    "    #     array_list = []\n",
    "    #     for i in range(1,22):    \n",
    "    #         chrom =f'chr{i}'\n",
    "    #         a = tissue[t][chrom].to_numpy().flatten()\n",
    "    #         array_list.append(a[a!=0])\n",
    "    #     avg = np.concatenate(array_list)\n",
    "    #     ax.set_axis_on()\n",
    "    #     sns.histplot(avg, stat='density', element='step', ax=ax)\n",
    "    #     ax.axvline(avg.mean(), color='b', lw=1)\n",
    "    #     ax.axvline(np.median(avg), color='r', lw=1, ls='--')\n",
    "    #     ax.set_title(t, fontdict={'fontsize': 8, 'fontweight': 'medium'})\n",
    "    # plt.show()\n",
    "    # fig.savefig(f'sv_dis_{h}.jpg')\n",
    "        fig, axes = plt.subplots(nrows=5, ncols=5, sharex=True, sharey=True)\n",
    "        fig.set_figheight(8)\n",
    "        fig.set_figwidth(15)\n",
    "        for ax in axes.flatten():\n",
    "            ax.set_axis_off()\n",
    "        for ax, chrom in zip(axes.flatten(), chrom_list):    \n",
    "            a = tissue[t][chrom].to_numpy().flatten()\n",
    "            a=a[a!=0]\n",
    "            sns.histplot(a, stat='density', element='poly', ax=ax)\n",
    "            ax.set_axis_on()\n",
    "            ax.axvline(a.mean(), color='b', lw=1)\n",
    "            ax.axvline(np.median(a), color='r', lw=1, ls='--')\n",
    "            ax.set_title(chrom, fontdict={'fontsize': 8, 'fontweight': 'medium'})\n",
    "        fig.suptitle(f'Distibution of average signal value in {h}-{t} (normalized within assay)', fontsize=15)\n",
    "        fig.subplots_adjust( hspace=0.4)\n",
    "        fig.savefig(f'sv_dis_{h}_{t}_bychrom.jpg')\n",
    "        plt.close()"
   ]
  },
  {
   "cell_type": "code",
   "execution_count": 152,
   "metadata": {},
   "outputs": [],
   "source": [
    "import pandas as pd"
   ]
  },
  {
   "cell_type": "code",
   "execution_count": 162,
   "metadata": {},
   "outputs": [],
   "source": [
    "for h in target:\n",
    "    for i in range(1, 23):\n",
    "        if i in [16, 17, 20]:\n",
    "            continue\n",
    "        chrom = f'chr{i}'\n",
    "        a = pd.read_feather(f'{h}_{chrom}_wgcna_region.feather')"
   ]
  },
  {
   "cell_type": "code",
   "execution_count": 2,
   "metadata": {},
   "outputs": [],
   "source": [
    "from gprofiler import GProfiler"
   ]
  },
  {
   "cell_type": "code",
   "execution_count": 177,
   "metadata": {},
   "outputs": [],
   "source": [
    "list_wcgna = [x for x in os.listdir('.') if 'wgcna_region' in x]"
   ]
  },
  {
   "cell_type": "code",
   "execution_count": 187,
   "metadata": {},
   "outputs": [],
   "source": [
    "def getting_regions(file_name, modName, ntop=100, feature='connectivity', ):\n",
    "    df  = pd.read_feather(file_name).set_index('index')\n",
    "    if modName:\n",
    "        regions = df.query(f'moduleColors == \"{modName}\"').sort_values('connectivity', ascending=False).index[:ntop].tolist()\n",
    "    else:\n",
    "        # print(\"huhu\")\n",
    "        regions = df.sort_values('connectivity', ascending=False).index[:ntop].tolist()\n",
    "    return regions"
   ]
  },
  {
   "cell_type": "code",
   "execution_count": 195,
   "metadata": {},
   "outputs": [],
   "source": [
    "hm_dict = {}\n",
    "for f in list_wcgna:\n",
    "    hm = f.split('_')[0]\n",
    "    if hm not in hm_dict.keys():\n",
    "        hm_dict[hm] = []\n",
    "    region = getting_regions(f, None)\n",
    "    hm_dict[hm].extend(region)"
   ]
  },
  {
   "cell_type": "code",
   "execution_count": 157,
   "metadata": {},
   "outputs": [],
   "source": [
    "colon.extend(getting_regions('H3K27ac_chr10_wgcna_region.feather', 'darkred', 300))"
   ]
  },
  {
   "cell_type": "code",
   "execution_count": null,
   "metadata": {},
   "outputs": [],
   "source": [
    "gp = GProfiler(return_dataframe=True)\n",
    "for hm in hm_dict.keys():\n",
    "    print(len(c))\n",
    "    c = [x.replace('-', ':') for x in hm_dict[hm]]\n",
    "    gene_enrich = gp.profile(organism='hsapiens',\n",
    "                query=c)\n",
    "    # gene_enrich.sort_values(['p_value', 'significant'])\n",
    "    gene_enrich['region_ratio'] = gene_enrich['intersection_size']/gene_enrich['query_size'] \n",
    "    gene_enrich = gene_enrich.sort_values('intersection_size').iloc[:50, :]\n",
    "    fig = px.scatter(gene_enrich, x='intersection_size', color='p_value', y='name', title=f'GProfiler Funtional Enrichment - Top connectivity regions - {hm}', size='region_ratio', symbol='source', width=1000, height=1000)\n",
    "    fig.update_layout(coloraxis_colorbar=dict(len=0.3 ,ticks=\"outside\"))\n",
    "    fig.update_xaxes(title='Number of regions')\n",
    "    fig.update_yaxes(title='', tickmode='linear')\n",
    "    fig.show()\n",
    "    fig.write_image(f'{hm}_top_go_allchrom_wgcna.jpg')"
   ]
  },
  {
   "cell_type": "code",
   "execution_count": 7,
   "metadata": {},
   "outputs": [],
   "source": [
    "chrom17 = scanpy.read_h5ad('network_dataframe_majortissue/adata_hm_tissue_chr17.h5ad')"
   ]
  },
  {
   "cell_type": "code",
   "execution_count": 10,
   "metadata": {},
   "outputs": [
    {
     "name": "stdout",
     "output_type": "stream",
     "text": [
      "H3K27ac\n",
      "(3997, 3997)\n",
      "\u001b[96mpickSoftThreshold: calculating connectivity for given powers...\u001b[0m\n",
      "will use block size  3997\n",
      "    Power  SFT.R.sq     slope truncated R.sq     mean(k)   median(k)  \\\n",
      "0       1  0.003004 -0.098482       0.981936  740.890626  729.315768   \n",
      "1       1  0.003004 -0.098482       0.981936  740.890626  729.315768   \n",
      "2       2  0.595364 -1.068496       0.990742  226.172974  203.996656   \n",
      "3       3  0.853211 -1.402109       0.992762   90.502523   71.597131   \n",
      "4       3  0.853211 -1.402109       0.992762   90.502523   71.597131   \n",
      "5       4  0.907879 -1.513654       0.973173   43.304194   28.725138   \n",
      "6       5  0.948754 -1.574168       0.988467   23.552696   12.714588   \n",
      "7       5  0.948754 -1.574168       0.988467   23.552696   12.714588   \n",
      "8       6   0.95218 -1.596828       0.977561   14.098638    6.237261   \n",
      "9       7  0.970374 -1.575532       0.991481    9.084116    3.271115   \n",
      "10      7  0.970374 -1.575532       0.991481    9.084116    3.271115   \n",
      "11      8  0.963919 -1.565126        0.97741     6.20013    1.816631   \n",
      "12      9  0.961272 -1.558252       0.975076    4.429877    1.040755   \n",
      "13      9  0.961272 -1.558252       0.975076    4.429877    1.040755   \n",
      "14     10  0.967592 -1.544508       0.979551    3.283959    0.616123   \n",
      "15     11  0.965493 -1.547384       0.972974    2.508931    0.370572   \n",
      "16     13  0.962862 -1.540338       0.968317    1.571929    0.152477   \n",
      "17     15  0.962852 -1.542728        0.96701    1.058136    0.068167   \n",
      "18     17  0.966403 -1.542821       0.967467    0.751364    0.032028   \n",
      "19     19   0.94761 -1.553294        0.93924    0.556057    0.015992   \n",
      "\n",
      "         max(k)  \n",
      "0   1319.348472  \n",
      "1   1319.348472  \n",
      "2    645.209613  \n",
      "3    384.418365  \n",
      "4    384.418365  \n",
      "5    256.793352  \n",
      "6    184.332479  \n",
      "7    184.332479  \n",
      "8    139.049995  \n",
      "9    108.812167  \n",
      "10   108.812167  \n",
      "11    87.591846  \n",
      "12    72.116479  \n",
      "13    72.116479  \n",
      "14     60.48182  \n",
      "15    51.516386  \n",
      "16    38.825223  \n",
      "17    30.481019  \n",
      "18    24.720111  \n",
      "19    20.584789  \n",
      "\u001b[92mSelected power to have scale free network is 4.\u001b[0m\n",
      "3997 nodes, 7986006 edges\n",
      "Mean connectivity: 43.30419357818771\n",
      "Calculating best minimal value for power law fit\n",
      "7.327973794121045 0.5850213842178419 174.0\n",
      "(-2.092436803085354, 0.03639945947451863)\n"
     ]
    },
    {
     "data": {
      "image/png": "[encoded data removed]",
      "text/plain": [
       "<Figure size 1000x700 with 1 Axes>"
      ]
     },
     "metadata": {},
     "output_type": "display_data"
    }
   ],
   "source": [
    "target = chrom17.obs['Target of assay'].unique()\n",
    "for h in target:\n",
    "    print(h)\n",
    "    hm = chrom17[chrom17.obs['Target of assay']=='H3K4me3']\n",
    "    hm_info = hm.obs\n",
    "    hm = hm.to_df('average_signal')\n",
    "    hm = filter_allzero(hm)\n",
    "\n",
    "    rank_full = rank_transformation(hm)\n",
    "    corr_full = correlation_cal(rank_full, 'pearsonr')\n",
    "    print(corr_full.shape)\n",
    "    \n",
    "    power, _ = WGCNA.pickSoftThreshold(rank_full, 'unsigned')\n",
    "\n",
    "    powerlaw_fit_plot(corr_df=corr_full, power=power, title=f'Power fit {h} - chr17')\n",
    "    break"
   ]
  },
  {
   "cell_type": "markdown",
   "metadata": {},
   "source": [
    "-----------------------\n",
    "# GTEX plot"
   ]
  },
  {
   "cell_type": "code",
   "execution_count": 2,
   "metadata": {},
   "outputs": [],
   "source": [
    "main_path = '/mnt/c/Users/linhn/OneDrive/Documents/Project BIOX7021/results/'\n",
    "vertex_path = f'{main_path}vertex_df'\n",
    "adj_path = f'{main_path}/adjacency_matrix'"
   ]
  },
  {
   "cell_type": "code",
   "execution_count": 116,
   "metadata": {},
   "outputs": [],
   "source": [
    "#### GTEX variant files \"\"\"\n",
    "gtex_path = f'{main_path}GTEx_Analysis_v8_eQTL/'\n",
    "files = os.listdir(gtex_path)\n",
    "first_f = True\n",
    "for f in files:\n",
    "    if '.egenes' in f:\n",
    "        tissue = f.split('.v8')[0]\n",
    "        if first_f:\n",
    "            gene_tested = pd.read_csv(f'{gtex_path}{f}', sep='\\t', compression='gzip', engine='c')\n",
    "            gene_tested['Tissue'] = [tissue]*len(gene_tested)\n",
    "            first_f=False\n",
    "        else:\n",
    "            reading = pd.read_csv(f'{gtex_path}{f}', sep='\\t', compression='gzip', engine='c')\n",
    "            reading['Tissue'] = [tissue]*len(reading)\n",
    "            gene_tested = pd.concat([gene_tested, reading])"
   ]
  },
  {
   "cell_type": "code",
   "execution_count": 257,
   "metadata": {},
   "outputs": [],
   "source": [
    "gencode_v29 = pr.read_gtf('project/gencode.v29.annotation.gtf').df.query('Feature == \"gene\"')"
   ]
  },
  {
   "cell_type": "code",
   "execution_count": 453,
   "metadata": {},
   "outputs": [],
   "source": [
    "overlap_tissue_gtex = ['Adrenal_Gland', 'Brain_Frontal_Cortex_BA9', 'Heart_Left_Ventricle', 'Colon_Sigmoid', 'Spleen', 'Stomach', 'Colon_Transverse', 'Adipose_Subcutaneous']"
   ]
  },
  {
   "cell_type": "code",
   "execution_count": 475,
   "metadata": {},
   "outputs": [],
   "source": [
    "variant_set = gene_tested.query('~gene_chr.str.contains(\"X|Y\") and qval<0.05')"
   ]
  },
  {
   "cell_type": "code",
   "execution_count": 476,
   "metadata": {},
   "outputs": [],
   "source": [
    "variant_set.rename({\n",
    "    'chr': 'Chromosome',\n",
    "    'variant_pos': 'Start'\n",
    "}, axis=1, inplace = True)\n",
    "egenes_col = ['gene_id', 'gene_name', 'gene_chr', 'gene_start', 'gene_end','variant_id', 'tss_distance', 'Chromosome', 'Start', 'ref', 'alt','slope','qval', 'log2_aFC', 'Tissue']\n",
    "egenes = variant_set[egenes_col]"
   ]
  },
  {
   "cell_type": "code",
   "execution_count": 477,
   "metadata": {},
   "outputs": [],
   "source": [
    "egenes['End'] = egenes['Start']\n",
    "egenes['abs_log2_aFC'] = abs(egenes['log2_aFC'])\n",
    "egenes['abs_tss_distance'] = abs(egenes['tss_distance'])\n",
    "egenes['abs_slope'] = abs(egenes['slope'])"
   ]
  },
  {
   "cell_type": "code",
   "execution_count": 478,
   "metadata": {},
   "outputs": [],
   "source": [
    "distance_var_egenes = egenes.query('Start<gene_start or Start>gene_end')\n",
    "distance_var_egenes = distance_var_egenes.query(f'Tissue in @overlap_tissue_gtex')\n",
    "egenes = pr.PyRanges(egenes)\n",
    "distance_var_egenes = pr.PyRanges(distance_var_egenes)"
   ]
  },
  {
   "cell_type": "code",
   "execution_count": 464,
   "metadata": {},
   "outputs": [
    {
     "data": {
      "text/plain": [
       "308587"
      ]
     },
     "execution_count": 464,
     "metadata": {},
     "output_type": "execute_result"
    }
   ],
   "source": [
    "len(distance_var_egenes)"
   ]
  },
  {
   "cell_type": "markdown",
   "metadata": {},
   "source": [
    "------------------------------\n",
    "# load wgcna df + gtex"
   ]
  },
  {
   "cell_type": "code",
   "execution_count": 10,
   "metadata": {},
   "outputs": [],
   "source": [
    "list_wcgna = [x for x in os.listdir('.') if 'wgcna_region' in x]"
   ]
  },
  {
   "cell_type": "code",
   "execution_count": 11,
   "metadata": {},
   "outputs": [],
   "source": [
    "scaler = MinMaxScaler()"
   ]
  },
  {
   "cell_type": "code",
   "execution_count": 29,
   "metadata": {},
   "outputs": [],
   "source": [
    "h3k27ac = []\n",
    "h3k4me3 = []\n",
    "h3k4me1 = []\n",
    "h3k27me3 = []\n",
    "h3k9me3 = []"
   ]
  },
  {
   "cell_type": "code",
   "execution_count": 30,
   "metadata": {},
   "outputs": [],
   "source": [
    "for f in list_wcgna:\n",
    "    df = pd.read_feather(f).set_index('index')\n",
    "    scaled = scaler.fit_transform(df[['connectivity']])\n",
    "    df['connectivity'] = scaled\n",
    "    if 'H3K27ac' in f:\n",
    "        h3k27ac.append(df)\n",
    "    elif 'H3K4me1' in f:\n",
    "        h3k4me1.append(df)\n",
    "    elif 'H3K4me3' in f:\n",
    "        h3k4me3.append(df)    \n",
    "    elif 'H3K27me3' in f:\n",
    "        h3k27me3.append(df)\n",
    "    elif 'H3K9me3' in f:\n",
    "        h3k9me3.append(df)"
   ]
  },
  {
   "cell_type": "code",
   "execution_count": 31,
   "metadata": {},
   "outputs": [],
   "source": [
    "h3k27ac = pd.concat(h3k27ac, axis=0)\n",
    "h3k4me1 = pd.concat(h3k4me1, axis=0)\n",
    "h3k4me3 = pd.concat(h3k4me3, axis=0)\n",
    "h3k27me3 = pd.concat(h3k27me3, axis=0)\n",
    "h3k9me3 = pd.concat(h3k9me3, axis=0)"
   ]
  },
  {
   "cell_type": "code",
   "execution_count": 32,
   "metadata": {},
   "outputs": [],
   "source": [
    "network_dict = {\n",
    "    'H3K27ac': h3k27ac,\n",
    "    'H3K4me3': h3k4me3,\n",
    "    'H3K4me1': h3k4me1,\n",
    "    'H3K27me3': h3k27me3,\n",
    "    'H3K9me3': h3k9me3\n",
    "}"
   ]
  },
  {
   "cell_type": "markdown",
   "metadata": {},
   "source": [
    "# GP visualize"
   ]
  },
  {
   "cell_type": "code",
   "execution_count": null,
   "metadata": {},
   "outputs": [],
   "source": [
    "gp = GProfiler(return_dataframe=True)\n",
    "for hm in network_dict.keys():\n",
    "    if hm != 'H3K9me3':\n",
    "        continue\n",
    "    numb = len(network_dict[hm])\n",
    "    regions_name = network_dict[hm].sort_values('connectivity', ascending=False).index[:round(numb*0.1)]\n",
    "    \n",
    "    c = [x.replace('-', ':') for x in regions_name]\n",
    "    gene_enrich = gp.profile(organism='hsapiens',\n",
    "                query=c)\n",
    "    # gene_enrich.sort_values(['p_value', 'significant'])\n",
    "    gene_enrich['region_ratio'] = gene_enrich['intersection_size']/gene_enrich['query_size'] \n",
    "    gene_enrich = gene_enrich.sort_values('intersection_size').iloc[:50, :]\n",
    "    fig = px.scatter(gene_enrich, x='intersection_size', color='p_value', y='name', title=f'GProfiler Funtional Enrichment - Top connectivity regions - {hm}', size='region_ratio', symbol='source', width=1000, height=1000)\n",
    "    fig.update_layout(coloraxis_colorbar=dict(len=0.3 ,ticks=\"outside\"))\n",
    "    fig.update_xaxes(title='Number of regions')\n",
    "    fig.update_yaxes(title='', tickmode='linear')\n",
    "    fig.show()\n",
    "    # fig.write_image(f'{hm}_top_go_allchrom_wgcna.jpg')\n",
    "    "
   ]
  },
  {
   "cell_type": "code",
   "execution_count": 16,
   "metadata": {},
   "outputs": [],
   "source": [
    "def pyranges_from_df(df, index=True, col_name=None):\n",
    "    if index:\n",
    "        region = list_domain_todf(df.index.tolist()).reset_index().rename({'index': 'name'}, axis=1)\n",
    "        region = region.merge(df, left_on='name', right_index=True)\n",
    "    else:\n",
    "        if not col_name:\n",
    "            raise AttributeError\n",
    "        else:\n",
    "            region = list_domain_todf(df[col_name].tolist()).reset_index().rename({'index': 'name'}, axis=1)\n",
    "        region = region.merge(df, left_on='name', right_on=col_name)\n",
    "    region_pr = pr.PyRanges(region)\n",
    "    return region_pr"
   ]
  },
  {
   "cell_type": "code",
   "execution_count": 17,
   "metadata": {},
   "outputs": [],
   "source": [
    "import colorcet as cc"
   ]
  },
  {
   "cell_type": "code",
   "execution_count": 34,
   "metadata": {},
   "outputs": [],
   "source": [
    "for hm in network_dict.keys():\n",
    "    network_pr = pyranges_from_df(network_dict[hm])\n",
    "    mutation_overlap = distance_var_egenes.nearest(network_pr, overlap=True).df\n",
    "    check = mutation_overlap.query('Distance <=100')\n",
    "    check['Chromosome'] = check['Chromosome'].astype('string')\n",
    "    ols = check.groupby('name').agg({\n",
    "        'connectivity': 'first',\n",
    "        'abs_log2_aFC': max\n",
    "    })\n",
    "    ols_plot = px.scatter(check, y='connectivity', x='abs_log2_aFC', color='Chromosome', trendline='ols', title=f'Connectivity vs Max(absolute log2 aFC) - {hm}', height=1000, color_discrete_sequence=cc.glasbey)\n",
    "    # ols_plot.show()\n",
    "    ols_plot.write_image(f'{hm}_ols_plot.jpg')\n",
    "    # var_dis = px.histogram(check, x='connectivity', y='abs_log2_aFC', histfunc='avg', facet_col='Chromosome', facet_col_wrap=5, height=1000)"
   ]
  },
  {
   "cell_type": "code",
   "execution_count": 35,
   "metadata": {},
   "outputs": [],
   "source": [
    "from sklearn.linear_model import LinearRegression"
   ]
  },
  {
   "cell_type": "code",
   "execution_count": 578,
   "metadata": {},
   "outputs": [],
   "source": [
    "df = []\n",
    "for h in network_dict:\n",
    "    network_dict[h]['Histone'] = h\n",
    "    network_dict[h]['chrom'] = [x.split(':')[0] for x in network_dict[h].index.tolist()]\n",
    "    df.append(network_dict[h].groupby(['Histone', 'dynamicColors', 'chrom']).size().reset_index())"
   ]
  },
  {
   "cell_type": "markdown",
   "metadata": {},
   "source": [
    "-------------------"
   ]
  },
  {
   "cell_type": "markdown",
   "metadata": {},
   "source": [
    "# BY TISSUE + gtex"
   ]
  },
  {
   "cell_type": "code",
   "execution_count": 330,
   "metadata": {},
   "outputs": [],
   "source": [
    "hm = ['H3K27me3', 'H3K4me1', 'H3K4me3', 'H3K9me3', 'H3K27ac']\n",
    "vertex_files = os.listdir('network_dataframe_majortissue/vertex_df/')\n",
    "hm_dict = {\n",
    "    'H3K27me3': {}, \n",
    "    'H3K4me1': {}, \n",
    "    'H3K4me3': {}, \n",
    "    'H3K9me3': {}, \n",
    "    'H3K27ac': {}\n",
    "}\n",
    "\n",
    "for histone in hm:\n",
    "    target_dict = {}\n",
    "    files = [f for f in vertex_files if histone in f]\n",
    "    for f in files:\n",
    "        tissue = f.split('_')[1]\n",
    "        if tissue not in hm_dict[histone]:\n",
    "            hm_dict[histone][tissue] = []\n",
    "        vertex_df = pd.read_feather(rf'network_dataframe_majortissue/vertex_df/{f}').set_index('vertex ID')\n",
    "        vertex_df = vertex_df.query('degree>1')\n",
    "        vertex_df['scaled_strength'] = scaler.fit_transform(vertex_df[['strength']])\n",
    "        vertex_df['scaled_avg_strength'] = scaler.fit_transform(vertex_df[['average_strength']])\n",
    "        vertex_df['scaled_degree'] = scaler.fit_transform(vertex_df[['degree']])\n",
    "        hm_dict[histone][tissue].append(vertex_df)"
   ]
  },
  {
   "cell_type": "code",
   "execution_count": 331,
   "metadata": {},
   "outputs": [],
   "source": [
    "for histone in hm:\n",
    "    for tissue in hm_dict[histone]:\n",
    "        hm_dict[histone][tissue] = pd.concat(hm_dict[histone][tissue], axis=0)"
   ]
  },
  {
   "cell_type": "code",
   "execution_count": 359,
   "metadata": {},
   "outputs": [
    {
     "data": {
      "text/plain": [
       "dict_keys(['heart right ventricle', 'sigmoid colon', 'spleen', 'transverse colon', 'stomach', 'heart left ventricle', 'adrenal gland', 'dorsolateral prefrontal cortex', 'subcutaneous abdominal adipose tissue'])"
      ]
     },
     "execution_count": 359,
     "metadata": {},
     "output_type": "execute_result"
    }
   ],
   "source": [
    "hm_dict['H3K4me3'].keys()"
   ]
  },
  {
   "cell_type": "code",
   "execution_count": 402,
   "metadata": {},
   "outputs": [],
   "source": [
    "check = pyranges_from_df(hm_dict['H3K4me3']['dorsolateral prefrontal cortex'], index=False, col_name='name')"
   ]
  },
  {
   "cell_type": "code",
   "execution_count": 403,
   "metadata": {},
   "outputs": [],
   "source": [
    "mutation = check.join(distance_var_egenes).df\n",
    "# mutation = mutation.query('Distance<100')\n"
   ]
  },
  {
   "cell_type": "code",
   "execution_count": 438,
   "metadata": {},
   "outputs": [],
   "source": [
    "ols = mutation.query('abs(tss_distance)>=100000').groupby(['name', 'Tissue']).agg({\n",
    "    'Chromosome': 'first',\n",
    "    'abs_log2_aFC': max,\n",
    "    'scaled_avg_strength': 'first',\n",
    "    'degree': 'first',\n",
    "    'scaled_degree': 'first'\n",
    "}).reset_index()"
   ]
  },
  {
   "cell_type": "code",
   "execution_count": 441,
   "metadata": {},
   "outputs": [
    {
     "data": {
      "text/plain": [
       "PearsonRResult(statistic=0.5583648262168539, pvalue=0.01050579375990899)"
      ]
     },
     "execution_count": 441,
     "metadata": {},
     "output_type": "execute_result"
    }
   ],
   "source": [
    "p_test =mutation.query('Tissue.str.contains(\"Frontal\") and abs_log2_aFC >=0.5 and abs(tss_distance)>100000')\n",
    "pearsonr(p_test['abs_log2_aFC'], p_test['scaled_avg_strength'])"
   ]
  },
  {
   "cell_type": "code",
   "execution_count": 435,
   "metadata": {},
   "outputs": [],
   "source": [
    "import statsmodels.api as sm\n",
    "from sklearn.linear_model import LinearRegression\n",
    "def assign_rsquare(data, rsquare_df, index,\n",
    "                   feature=['average_strength'], \n",
    "                   ftest_df=None,\n",
    "                    pval_df=None,\n",
    "                   result='log2_aFC', tss_dis=None, var_num=5):\n",
    "    if not tss_dis:\n",
    "        df = data.sort_values('Tissue').query('0.5 <= log2_aFC')\n",
    "    else:\n",
    "        lower, upper = tss_dis\n",
    "        df = data.sort_values('Tissue').query(f'0.5 <= log2_aFC \\\n",
    "                            and {lower}<=abs(tss_distance)<={upper}')\n",
    "    \n",
    "    model = LinearRegression()\n",
    "    score = {}\n",
    "    for tissue in df.Tissue.unique():\n",
    "        var = df.query(f'Tissue == \"{tissue}\"')\n",
    "        if len(var) <=var_num or len(var) ==0:\n",
    "            #print(len(var), index)\n",
    "            continue\n",
    "        X , y = var[feature], var[result]\n",
    "        model.fit(X, y)\n",
    "        #calculate R-squared of regression model\n",
    "        r_squared = model.score(X, y)\n",
    "        rsquare_df.loc[index, tissue] = r_squared\n",
    "        \n",
    "        \n",
    "        # Fits the explainer\n",
    "        explainer = shap.LinearExplainer(model, X)\n",
    "        # Calculates the SHAP values - It takes some time\n",
    "        score[tissue] = (explainer, X)\n",
    "\n",
    "        if pval_df is not None:\n",
    "            X = sm.add_constant(X)\n",
    "            results=sm.OLS(y, X).fit()\n",
    "            #print(results.pvalues)\n",
    "            pval_df[f'{index}_{tissue}'] = results.pvalues\n",
    "            if ftest_df is not None:\n",
    "                ftest_df.loc[index, tissue] = results.f_pvalue\n",
    "\n",
    "    return score"
   ]
  },
  {
   "cell_type": "code",
   "execution_count": 388,
   "metadata": {},
   "outputs": [],
   "source": [
    "pair = []\n",
    "for h in hm_dict:\n",
    "    for t in hm_dict[h]:\n",
    "        pair.append((h,t))\n",
    "\n",
    "multiindex = pd.MultiIndex.from_tuples(pair)"
   ]
  },
  {
   "cell_type": "code",
   "execution_count": 515,
   "metadata": {},
   "outputs": [],
   "source": [
    "rsquare_full= pd.DataFrame(0, index=multiindex, columns=overlap_tissue_gtex)\n",
    "rsquare_100000 = rsquare_full.copy()\n",
    "pvalue_full = {}\n",
    "pvalue_100000 = {}\n",
    "fscore = rsquare_full.copy()\n",
    "fscore_100000 = rsquare_full.copy()"
   ]
  },
  {
   "cell_type": "code",
   "execution_count": 516,
   "metadata": {},
   "outputs": [],
   "source": [
    "imp1={} #full\n",
    "imp2={} #<100kb\n",
    "features = ['scaled_avg_strength', 'evcent_modularity']\n",
    "for h in hm_dict:\n",
    "    for t in hm_dict[h]:\n",
    "        vertex_df = hm_dict[h][t]\n",
    "        vertex_pr = pyranges_from_df(vertex_df, index=False, col_name='name')\n",
    "\n",
    "        var_full = variant_overlap(vertex_pr, vertex_df, distance_var_egenes)\n",
    "        \n",
    "        imp1[f'{h}_{t}'] = assign_rsquare(var_full, rsquare_full, (h, t), feature=features, var_num=7, pval_df=pvalue_full, ftest_df=fscore, tss_dis=(0, 100000))\n",
    "        imp2[f'{h}_{t}'] = assign_rsquare(var_full, rsquare_100000, (h, t), feature=features, tss_dis=(100000, 5000000), var_num=7, pval_df=pvalue_100000, ftest_df=fscore_100000)"
   ]
  },
  {
   "cell_type": "code",
   "execution_count": 517,
   "metadata": {},
   "outputs": [],
   "source": [
    "ylabel = [f'{x[0]}-{x[1]}' for x in rsquare_full.index.to_list()]\n",
    "xlabel = rsquare_full.columns.to_list()"
   ]
  },
  {
   "cell_type": "code",
   "execution_count": 518,
   "metadata": {},
   "outputs": [
    {
     "data": {
      "application/vnd.plotly.v1+json": {
       "config": {
        "plotlyServerURL": "https://plot.ly"
       },
       "data": [
        {
         "colorbar": {
          "title": {
           "text": "r_square"
          }
         },
         "colorscale": [
          [
           0,
           "#440154"
          ],
          [
           0.1111111111111111,
           "#482878"
          ],
          [
           0.2222222222222222,
           "#3e4989"
          ],
          [
           0.3333333333333333,
           "#31688e"
          ],
          [
           0.4444444444444444,
           "#26828e"
          ],
          [
           0.5555555555555556,
           "#1f9e89"
          ],
          [
           0.6666666666666666,
           "#35b779"
          ],
          [
           0.7777777777777778,
           "#6ece58"
          ],
          [
           0.8888888888888888,
           "#b5de2b"
          ],
          [
           1,
           "#fde725"
          ]
         ],
         "hoverongaps": false,
         "type": "heatmap",
         "x": [
          "Adrenal_Gland",
          "Brain_Frontal_Cortex_BA9",
          "Heart_Left_Ventricle",
          "Colon_Sigmoid",
          "Spleen",
          "Stomach",
          "Colon_Transverse",
          "Adipose_Subcutaneous"
         ],
         "xaxis": "x",
         "y": [
          "H3K27me3-subcutaneous abdominal adipose tissue",
          "H3K27me3-stomach",
          "H3K27me3-spleen",
          "H3K27me3-heart left ventricle",
          "H3K27me3-dorsolateral prefrontal cortex",
          "H3K27me3-heart right ventricle",
          "H3K27me3-sigmoid colon",
          "H3K4me1-stomach",
          "H3K4me1-heart right ventricle",
          "H3K4me1-lung",
          "H3K4me1-heart left ventricle",
          "H3K4me1-adrenal gland",
          "H3K4me1-sigmoid colon",
          "H3K4me1-subcutaneous abdominal adipose tissue",
          "H3K4me1-spleen",
          "H3K4me3-heart right ventricle",
          "H3K4me3-sigmoid colon",
          "H3K4me3-spleen",
          "H3K4me3-transverse colon",
          "H3K4me3-stomach",
          "H3K4me3-heart left ventricle",
          "H3K4me3-adrenal gland",
          "H3K4me3-dorsolateral prefrontal cortex",
          "H3K4me3-subcutaneous abdominal adipose tissue",
          "H3K9me3-spleen",
          "H3K9me3-subcutaneous abdominal adipose tissue",
          "H3K9me3-stomach",
          "H3K9me3-sigmoid colon",
          "H3K9me3-heart left ventricle",
          "H3K9me3-adrenal gland",
          "H3K9me3-heart right ventricle",
          "H3K27ac-skin epidermis",
          "H3K27ac-transverse colon",
          "H3K27ac-stomach",
          "H3K27ac-heart left ventricle",
          "H3K27ac-heart right ventricle",
          "H3K27ac-dorsolateral prefrontal cortex",
          "H3K27ac-adrenal gland",
          "H3K27ac-sigmoid colon",
          "H3K27ac-spleen"
         ],
         "yaxis": "y",
         "z": [
          [
           0.005633716638076325,
           0.00831248367753723,
           0.07685641512842001,
           0.06951209026447203,
           0.009576070718001484,
           0.054505787901776404,
           0.028788317549244824,
           0.015482790029497817
          ],
          [
           0.0053756514098045605,
           0.062245809954550424,
           0.09407966015454161,
           0.05474717951064456,
           0.029449144706637398,
           0.013824431930236414,
           0.00237081589936905,
           0.013075333268530165
          ],
          [
           0.04405915133921401,
           0.009141254906021579,
           0.18210091644098847,
           0.042219190714745114,
           0.05879934229725803,
           0.22819787669182023,
           0.004921556809230454,
           0.016693875036384975
          ],
          [
           0.059410085689595604,
           0.030789222289001272,
           0.1213657634687858,
           0.004574480470355802,
           0.21263106899461792,
           0.2699051468581082,
           0.09518399461903138,
           0.011384015388251623
          ],
          [
           0.29810440529731985,
           0,
           0,
           0.32940946995136533,
           0.020977814053854016,
           0.1633087662250403,
           0.23975822655574996,
           0.11169501405827853
          ],
          [
           0.060771488439535726,
           0.022607971932794624,
           0.04036950310323206,
           0.023529471429543314,
           0.07949150345346379,
           0.008011321700858387,
           0.007798696531321814,
           0.02246831360476509
          ],
          [
           0.0314176359172188,
           0.16506866707059842,
           0.04622500869872259,
           0.03444891625620483,
           0.021542829790234252,
           0.013367727486781278,
           0.0714618132174758,
           0.005756099791013214
          ],
          [
           0.0005838566097191578,
           0.06241213349002461,
           0.019103585897311426,
           0.011247068876863775,
           0.005942027310658515,
           0.0064824276782446955,
           0.006293921761399979,
           0.005808373191564686
          ],
          [
           0.01915369694583824,
           0.025535701460452698,
           0.004495109659600094,
           0.011351307780190223,
           0.006573722168963569,
           0.007312559561325149,
           0.023224804492089524,
           0.016480283716932886
          ],
          [
           0.035170395977058844,
           0.003810357333321135,
           0.0011479428115691581,
           0.03857513930631762,
           0.0222591523204847,
           0.001300702691737765,
           0.014719023992051716,
           0.008920009734791123
          ],
          [
           0.0051141262788710895,
           0.02785858940172392,
           0.008397453078958339,
           0.06258501884528433,
           0.010029173770809696,
           0.013622542536969817,
           0.021828683964012607,
           0.034295287893902904
          ],
          [
           0.038122178648808513,
           0.07520942329268099,
           0.05407708499051911,
           0.030520189820686605,
           0.029328751377225903,
           0.029977698796727736,
           0.039772034680552903,
           0.045203318377852075
          ],
          [
           0.02478907486626747,
           0.005967028620633363,
           0.012677856998274728,
           0.0038694402432646324,
           0.030122100399909923,
           0.04583046146539116,
           0.014898952762198991,
           0.04048294924308116
          ],
          [
           0.01062671678622662,
           0.06255464169389857,
           0.00967137964631093,
           0.02340905473192556,
           0.025417022545392354,
           0.012472274753777213,
           0.008992000916227982,
           0.0029272728015008465
          ],
          [
           0.043259391409651626,
           0.05652693194274716,
           0.0033434478563110215,
           0.006883291358367294,
           0.029899379725335518,
           0.016804105459809038,
           0.0227637137145984,
           0.026031549580026403
          ],
          [
           0.04057499288694244,
           0.016525310501156798,
           0.04376585063547578,
           0.04327819528121801,
           0.030025751923263067,
           0.05137124301660467,
           0.03587401863913875,
           0.01824867445690037
          ],
          [
           0.0690616532683167,
           0.047856356549829226,
           0.048953622692000986,
           0.028826971070572416,
           0.008664782946300686,
           0.05438747680107525,
           0.03627294185159158,
           0.0363543898159332
          ],
          [
           0.08315153992389135,
           0.023464180602175366,
           0.008636501661802853,
           0.018015450817936096,
           0.0032736831061743743,
           0.025028057854767582,
           0.006470224701535465,
           0.004864447641637848
          ],
          [
           0.03933611265652026,
           0.02829423071991155,
           0.0073286785798389875,
           0.009875590240741694,
           0.006536178800014336,
           0.006876162771514593,
           0.018815497792849523,
           0.01589976747127153
          ],
          [
           0.015155495914349726,
           0.004057117393783005,
           0.027537919547109935,
           0.02813421015904738,
           0.02234948125905345,
           0.01584474155307114,
           0.01591153214267005,
           0.025005360311690095
          ],
          [
           0.1729208502020526,
           0.03889500574866722,
           0.010716375388602928,
           0.055041295634760457,
           0.11915368352607059,
           0.09442921772161383,
           0.07544876426812108,
           0.0476401413928067
          ],
          [
           0.017217565134955648,
           0.04575465080987129,
           0.0023160349057580465,
           0.003574525756511404,
           0.017025982185134514,
           0.020349054642633813,
           0.0015199898952160673,
           0.004968330129171972
          ],
          [
           0.014167608116947839,
           0.1579716455955339,
           0.041100670687771346,
           0.07028141922062214,
           0.10996880331588343,
           0.2380221522413667,
           0.01920565325291612,
           0.03865833637073257
          ],
          [
           0.014449504897059873,
           0.026889564642637476,
           0.053769463678990936,
           0.007768620530185899,
           0.004058485090860486,
           0.010265269782400166,
           0.010225554565034267,
           0.027266080712425977
          ],
          [
           0.05230586571033413,
           0.12368128414167989,
           0.08707327992491343,
           0.07960505985420308,
           0.13003086746965786,
           0.15491154672630392,
           0.1348360446892365,
           0.01417615060210109
          ],
          [
           0.006440554351941241,
           0.06119660992435072,
           0.11600995533214642,
           0.0649273624150063,
           0.06828211784443572,
           0.26934710366844705,
           0.040181699013382866,
           0.03241558181935422
          ],
          [
           0.05918767540517211,
           0.08787898467342847,
           0.04387026417670825,
           0.11301121198279063,
           0.055217821881073825,
           0.07844232304854792,
           0.04440462518057098,
           0.21476326317432004
          ],
          [
           0.2589413930195491,
           0.011447894388907254,
           0,
           0.6210360508558526,
           0.13859079826995035,
           0.27869547531418404,
           0.09357619446226506,
           0.09727995590008487
          ],
          [
           0.21303721101777007,
           0.11698880150452617,
           0.0058991728585030545,
           0.5489195950096568,
           0.14584695347978538,
           0.10999458440655152,
           0.03023317949700799,
           0.053166125510221485
          ],
          [
           0,
           0,
           0,
           0,
           0,
           0,
           0,
           0
          ],
          [
           0.17445256357959094,
           0.29511341288457793,
           0.35241814884898703,
           0.11492418911518254,
           0.027855046948705442,
           0.06859782882361465,
           0.09551114784831705,
           0.010691240118429812
          ],
          [
           0.06382148255228559,
           0.061574397154050886,
           0.07447385496039816,
           0.050199253829252166,
           0.0649227366440508,
           0.034785726445024534,
           0.0517218033123783,
           0.06687099725934353
          ],
          [
           0.04301727182669479,
           0.061607226224410394,
           0.04868166058002299,
           0.024491798324491443,
           0.04022693200460059,
           0.04889849305248972,
           0.018621100977287974,
           0.04766432536505916
          ],
          [
           0.02417318460781137,
           0.06682763721745633,
           0.007612056622881558,
           0.04613442536397494,
           0.059448700407190636,
           0.04029709004945059,
           0.006169270593614273,
           0.028385607403586866
          ],
          [
           0.21245177112863545,
           0.10198326238116595,
           0.08740406283408719,
           0.10844232759683148,
           0.09264500667166109,
           0.15552930192200143,
           0.12163930169988668,
           0.12180455087712827
          ],
          [
           0.11460640928171129,
           0.04567827939450442,
           0.018220801641603113,
           0.062016782196625764,
           0.024935268967953172,
           0.10815402678564212,
           0.03398999941533554,
           0.05206955685220971
          ],
          [
           0.006741179754009341,
           0.0032008761434951793,
           0.02553562738559323,
           0.05194052258081827,
           0.01606573565820124,
           0.0020652610148064188,
           0.002806270961905777,
           0.004960691710623633
          ],
          [
           0.0026453432218459527,
           0.11182389846637297,
           0.015570425774918295,
           0.010071692859445758,
           0.04318694325909567,
           0.05646127970408821,
           0.026754318436105873,
           0.014806830065858367
          ],
          [
           0.009760346802548336,
           0.014442243449683256,
           0.00968054245696226,
           0.0019630656866161944,
           0.012691704680191207,
           0.008374152397690016,
           0.0012841382986668037,
           0.0002843197623165761
          ],
          [
           0.011042806894058343,
           0.04666003487052317,
           0.02175076784175234,
           0.040359038313871776,
           0.003481890861301351,
           0.006242150642424504,
           0.03344870807082523,
           0.015852359668123928
          ]
         ],
         "zmax": 1,
         "zmid": 0.5,
         "zmin": 0
        },
        {
         "colorbar": {
          "title": {
           "text": "r_square"
          }
         },
         "colorscale": [
          [
           0,
           "#440154"
          ],
          [
           0.1111111111111111,
           "#482878"
          ],
          [
           0.2222222222222222,
           "#3e4989"
          ],
          [
           0.3333333333333333,
           "#31688e"
          ],
          [
           0.4444444444444444,
           "#26828e"
          ],
          [
           0.5555555555555556,
           "#1f9e89"
          ],
          [
           0.6666666666666666,
           "#35b779"
          ],
          [
           0.7777777777777778,
           "#6ece58"
          ],
          [
           0.8888888888888888,
           "#b5de2b"
          ],
          [
           1,
           "#fde725"
          ]
         ],
         "type": "heatmap",
         "x": [
          "Adrenal_Gland",
          "Brain_Frontal_Cortex_BA9",
          "Heart_Left_Ventricle",
          "Colon_Sigmoid",
          "Spleen",
          "Stomach",
          "Colon_Transverse",
          "Adipose_Subcutaneous"
         ],
         "xaxis": "x2",
         "y": [
          "H3K27me3-subcutaneous abdominal adipose tissue",
          "H3K27me3-stomach",
          "H3K27me3-spleen",
          "H3K27me3-heart left ventricle",
          "H3K27me3-dorsolateral prefrontal cortex",
          "H3K27me3-heart right ventricle",
          "H3K27me3-sigmoid colon",
          "H3K4me1-stomach",
          "H3K4me1-heart right ventricle",
          "H3K4me1-lung",
          "H3K4me1-heart left ventricle",
          "H3K4me1-adrenal gland",
          "H3K4me1-sigmoid colon",
          "H3K4me1-subcutaneous abdominal adipose tissue",
          "H3K4me1-spleen",
          "H3K4me3-heart right ventricle",
          "H3K4me3-sigmoid colon",
          "H3K4me3-spleen",
          "H3K4me3-transverse colon",
          "H3K4me3-stomach",
          "H3K4me3-heart left ventricle",
          "H3K4me3-adrenal gland",
          "H3K4me3-dorsolateral prefrontal cortex",
          "H3K4me3-subcutaneous abdominal adipose tissue",
          "H3K9me3-spleen",
          "H3K9me3-subcutaneous abdominal adipose tissue",
          "H3K9me3-stomach",
          "H3K9me3-sigmoid colon",
          "H3K9me3-heart left ventricle",
          "H3K9me3-adrenal gland",
          "H3K9me3-heart right ventricle",
          "H3K27ac-skin epidermis",
          "H3K27ac-transverse colon",
          "H3K27ac-stomach",
          "H3K27ac-heart left ventricle",
          "H3K27ac-heart right ventricle",
          "H3K27ac-dorsolateral prefrontal cortex",
          "H3K27ac-adrenal gland",
          "H3K27ac-sigmoid colon",
          "H3K27ac-spleen"
         ],
         "yaxis": "y2",
         "z": [
          [
           0.07097934636556602,
           0.010240302365911225,
           0.05420807384794657,
           0.05084847935757497,
           0.1655959242428925,
           0.08081587511562904,
           0.27757042573722646,
           0.0972859771256005
          ],
          [
           0.3629492380063254,
           0.08009840439598304,
           0.01633689320965448,
           0.053159541747102024,
           0.10250006518568389,
           0.41624911647561635,
           0.12856880824497074,
           0.05372346638609071
          ],
          [
           0,
           0,
           0,
           0.5274123938723914,
           0.07942569019837886,
           0,
           0.34943364928053067,
           0.3238086189187881
          ],
          [
           0.12155377475707363,
           0.4460056415533342,
           0.6166501355475688,
           0.2636675475234075,
           0.09825816843291924,
           0,
           0.017066118321069412,
           0.0892141121842639
          ],
          [
           0,
           0,
           0,
           0,
           0,
           0,
           0,
           0
          ],
          [
           0,
           0.3529764522482285,
           0.0059346216638014315,
           0.013335914914353708,
           0.044743179229707275,
           0.006563413337695945,
           0.2060484903808022,
           0.38941317712185874
          ],
          [
           0.046154033907988556,
           0.08092397407959784,
           0,
           0.34852023529353837,
           0.12718625371712122,
           0,
           0,
           0.06487480265567513
          ],
          [
           0.034123066545416525,
           0.014445917289619192,
           0.22390798881443763,
           0.18550026215055526,
           0.09229944669983348,
           0.1542325278361153,
           0.06504118764878897,
           0.03580769478932666
          ],
          [
           0.269102351121698,
           0.055275589215812104,
           0.022953251127224128,
           0.004935702250034368,
           0.0544663649846342,
           0.009607429437112569,
           0.07162325100630118,
           0.03374639317222672
          ],
          [
           0.12590380598253137,
           0.017578718495314227,
           0.004853143494762513,
           0.07868505404299486,
           0.05362871710458206,
           0.0014174880866423267,
           0.10698592120499617,
           0.032167267835477964
          ],
          [
           0.02759021416264329,
           0.0001516226974711543,
           0.11219993479170898,
           0.11236326795492713,
           0.006025047199066713,
           0.03498822243605415,
           0.05659157604670784,
           0.0546289733642934
          ],
          [
           0.0017839184629401261,
           0.00024383619009371582,
           0.025082711608982344,
           0.17901535982986982,
           0.15534757980573388,
           0.12102305404405878,
           0.27224470904410636,
           0.07292210347543726
          ],
          [
           0.02117912688156731,
           0.19348005660927536,
           0.03854927823000842,
           0.23400598474987744,
           0.12688811177212012,
           0.09019878362009903,
           0.26858371943370385,
           0.03703754104461632
          ],
          [
           0.04799182985082895,
           0.04039698252667534,
           0.02909197558326726,
           0.005863962976809911,
           0.03198447254260328,
           0.018592311098574288,
           0.004924597189442603,
           0.030952356924673574
          ],
          [
           0.04228766834545494,
           0.03663804335410381,
           0.03603315478267899,
           0.02464934090110238,
           0.043652452128058794,
           0.07634479597841026,
           0.0020278138898268683,
           0.023945035058654085
          ],
          [
           0.19631009348415807,
           0.09185725278187973,
           0.22933267775339816,
           0.3225366953233837,
           0.23339818816339597,
           0.04496276028823665,
           0.25311516153790037,
           0.20524286502950162
          ],
          [
           0.28727382880143315,
           0.1731467143106573,
           0.13892111602935897,
           0.5886648927093725,
           0.0632782473312995,
           0.29027153217800883,
           0.06471937515961024,
           0.039283897178393645
          ],
          [
           0.28945881823874064,
           0.00812565545099142,
           0.4059328573962534,
           0.13367317626398068,
           0.1919872069694989,
           0.11034382150577193,
           0.010515161554350949,
           0.019600777945324888
          ],
          [
           0.06080235837970194,
           0.005772745434466708,
           0.16657954549842058,
           0.09149338652476424,
           0.01912034264472595,
           0.07130780170300821,
           0.1649470384200108,
           0.004960693411279249
          ],
          [
           0.2832071590948335,
           0.07615992216022216,
           0.054380716257356965,
           0.0783550967737332,
           0.11568185552830945,
           0.02676115105042265,
           0.16833953359670906,
           0.12324067743462552
          ],
          [
           0.07902778047611114,
           0.2999423742445463,
           0.7180545441260349,
           0.09576837318612963,
           0.08756958416048921,
           0.5507536750891513,
           0.08170506578369674,
           0.028635551496474343
          ],
          [
           0.2383920349624582,
           0.17058364279340743,
           0.035168409445979654,
           0.2712188205836088,
           0.5631160389055305,
           0.026174219598191106,
           0.3757168238823747,
           0.2675065829026416
          ],
          [
           0,
           0.4180004964217895,
           0,
           0.04718279960204497,
           0,
           0.3063182443309821,
           0,
           0.4341129392342554
          ],
          [
           0.4152172447872021,
           0.035884635822961086,
           0.16598823363723803,
           0.08105654860453237,
           0.09811097125107815,
           0.04724728423363678,
           0.18447034158745912,
           0.09549513596695125
          ],
          [
           0.12495037584293878,
           0.36680221455598083,
           0,
           0.023559888231775572,
           0.04426087145225133,
           0.07714981265379861,
           0.09643992521373301,
           0.025141036346857715
          ],
          [
           0.08922950621787662,
           0.40096876530128,
           0.4790431420944994,
           0.16436444049857368,
           0.1321138218413732,
           0.040673353254868316,
           0.12144604581902374,
           0.1037240189692703
          ],
          [
           0.12282262741602212,
           0.39134138340246993,
           0,
           0.17960784991047474,
           0.2929717711933213,
           0.18840103997780022,
           0.009223931386914352,
           0.09712627791654316
          ],
          [
           0,
           0,
           0,
           0,
           0,
           0,
           0,
           0
          ],
          [
           0,
           0,
           0,
           0,
           0.2392509782387815,
           0,
           0,
           0.14982373333052945
          ],
          [
           0,
           0,
           0,
           0,
           0,
           0,
           0,
           0
          ],
          [
           0,
           0,
           0,
           0.35061460653073573,
           0.09455497768621801,
           0,
           0.5067484806166804,
           0.08807669405685992
          ],
          [
           0.0956837382834298,
           0.005860040922003984,
           0.012763694786767754,
           0.03555794915696997,
           0.11178891484139675,
           0.04183702965369129,
           0.19448052232294843,
           0.10643343016389528
          ],
          [
           0.049389953003807996,
           0.10380385151758653,
           0.01352619744408512,
           0.02387684777339827,
           0.14639335857150693,
           0.1526715505195697,
           0.004938408203922107,
           0.05709171591350626
          ],
          [
           0.021881380407481887,
           0.05633777243703375,
           0.08897953577688611,
           0.07445766716874636,
           0.17527737321008063,
           0.0469009653758542,
           0.3376167444950874,
           0.13772798593681967
          ],
          [
           0.40377213693902403,
           0.04313409624338305,
           0.004360191004406655,
           0.15272233851011774,
           0.3689596260248913,
           0.03859139077545315,
           0.28216065270317026,
           0.13595191575933463
          ],
          [
           0.3432258200425956,
           0.016569740170458314,
           0.24564368549649251,
           0.027367520566250136,
           0.034012031253913055,
           0.06700413726601617,
           0.16354797127323106,
           0.01964386192820189
          ],
          [
           0.0774885276152042,
           0.05097444797204509,
           0.5529997372045864,
           0.10559985603010036,
           0.018634631522362888,
           0.016415453117935908,
           0.03460591169257787,
           0.04051564198419855
          ],
          [
           0.015792023703530056,
           0.08056517511475914,
           0.016951166245333327,
           0.13244845606513556,
           0.015199073379092987,
           0.17320529182439925,
           0.1582370635304211,
           0.005003364534770682
          ],
          [
           0.10642189869456553,
           0.1553101089350456,
           0.015275438132772212,
           0.23430783388202525,
           0.02405297386370331,
           0.018050549924008674,
           0.026358498667414465,
           0.024988619296180237
          ],
          [
           0.029120758042699535,
           0.1371233831519948,
           0.02350568588930757,
           0.07984406683664358,
           0.07010605764789035,
           0.11027636690212939,
           0.13487759071819294,
           0.017063962149468148
          ]
         ],
         "zmax": 1,
         "zmid": 0.5,
         "zmin": 0
        }
       ],
       "layout": {
        "annotations": [
         {
          "font": {
           "size": 16
          },
          "showarrow": false,
          "text": "Variants overlap with region and tss_distance<100kbp",
          "x": 0.5,
          "xanchor": "center",
          "xref": "paper",
          "y": 1,
          "yanchor": "bottom",
          "yref": "paper"
         },
         {
          "font": {
           "size": 16
          },
          "showarrow": false,
          "text": "Variants overlap with region and tss_distance>100kbp",
          "x": 0.5,
          "xanchor": "center",
          "xref": "paper",
          "y": 0.375,
          "yanchor": "bottom",
          "yref": "paper"
         }
        ],
        "height": 2000,
        "template": {
         "data": {
          "bar": [
           {
            "error_x": {
             "color": "#2a3f5f"
            },
            "error_y": {
             "color": "#2a3f5f"
            },
            "marker": {
             "line": {
              "color": "#E5ECF6",
              "width": 0.5
             },
             "pattern": {
              "fillmode": "overlay",
              "size": 10,
              "solidity": 0.2
             }
            },
            "type": "bar"
           }
          ],
          "barpolar": [
           {
            "marker": {
             "line": {
              "color": "#E5ECF6",
              "width": 0.5
             },
             "pattern": {
              "fillmode": "overlay",
              "size": 10,
              "solidity": 0.2
             }
            },
            "type": "barpolar"
           }
          ],
          "carpet": [
           {
            "aaxis": {
             "endlinecolor": "#2a3f5f",
             "gridcolor": "white",
             "linecolor": "white",
             "minorgridcolor": "white",
             "startlinecolor": "#2a3f5f"
            },
            "baxis": {
             "endlinecolor": "#2a3f5f",
             "gridcolor": "white",
             "linecolor": "white",
             "minorgridcolor": "white",
             "startlinecolor": "#2a3f5f"
            },
            "type": "carpet"
           }
          ],
          "choropleth": [
           {
            "colorbar": {
             "outlinewidth": 0,
             "ticks": ""
            },
            "type": "choropleth"
           }
          ],
          "contour": [
           {
            "colorbar": {
             "outlinewidth": 0,
             "ticks": ""
            },
            "colorscale": [
             [
              0,
              "#0d0887"
             ],
             [
              0.1111111111111111,
              "#46039f"
             ],
             [
              0.2222222222222222,
              "#7201a8"
             ],
             [
              0.3333333333333333,
              "#9c179e"
             ],
             [
              0.4444444444444444,
              "#bd3786"
             ],
             [
              0.5555555555555556,
              "#d8576b"
             ],
             [
              0.6666666666666666,
              "#ed7953"
             ],
             [
              0.7777777777777778,
              "#fb9f3a"
             ],
             [
              0.8888888888888888,
              "#fdca26"
             ],
             [
              1,
              "#f0f921"
             ]
            ],
            "type": "contour"
           }
          ],
          "contourcarpet": [
           {
            "colorbar": {
             "outlinewidth": 0,
             "ticks": ""
            },
            "type": "contourcarpet"
           }
          ],
          "heatmap": [
           {
            "colorbar": {
             "outlinewidth": 0,
             "ticks": ""
            },
            "colorscale": [
             [
              0,
              "#0d0887"
             ],
             [
              0.1111111111111111,
              "#46039f"
             ],
             [
              0.2222222222222222,
              "#7201a8"
             ],
             [
              0.3333333333333333,
              "#9c179e"
             ],
             [
              0.4444444444444444,
              "#bd3786"
             ],
             [
              0.5555555555555556,
              "#d8576b"
             ],
             [
              0.6666666666666666,
              "#ed7953"
             ],
             [
              0.7777777777777778,
              "#fb9f3a"
             ],
             [
              0.8888888888888888,
              "#fdca26"
             ],
             [
              1,
              "#f0f921"
             ]
            ],
            "type": "heatmap"
           }
          ],
          "heatmapgl": [
           {
            "colorbar": {
             "outlinewidth": 0,
             "ticks": ""
            },
            "colorscale": [
             [
              0,
              "#0d0887"
             ],
             [
              0.1111111111111111,
              "#46039f"
             ],
             [
              0.2222222222222222,
              "#7201a8"
             ],
             [
              0.3333333333333333,
              "#9c179e"
             ],
             [
              0.4444444444444444,
              "#bd3786"
             ],
             [
              0.5555555555555556,
              "#d8576b"
             ],
             [
              0.6666666666666666,
              "#ed7953"
             ],
             [
              0.7777777777777778,
              "#fb9f3a"
             ],
             [
              0.8888888888888888,
              "#fdca26"
             ],
             [
              1,
              "#f0f921"
             ]
            ],
            "type": "heatmapgl"
           }
          ],
          "histogram": [
           {
            "marker": {
             "pattern": {
              "fillmode": "overlay",
              "size": 10,
              "solidity": 0.2
             }
            },
            "type": "histogram"
           }
          ],
          "histogram2d": [
           {
            "colorbar": {
             "outlinewidth": 0,
             "ticks": ""
            },
            "colorscale": [
             [
              0,
              "#0d0887"
             ],
             [
              0.1111111111111111,
              "#46039f"
             ],
             [
              0.2222222222222222,
              "#7201a8"
             ],
             [
              0.3333333333333333,
              "#9c179e"
             ],
             [
              0.4444444444444444,
              "#bd3786"
             ],
             [
              0.5555555555555556,
              "#d8576b"
             ],
             [
              0.6666666666666666,
              "#ed7953"
             ],
             [
              0.7777777777777778,
              "#fb9f3a"
             ],
             [
              0.8888888888888888,
              "#fdca26"
             ],
             [
              1,
              "#f0f921"
             ]
            ],
            "type": "histogram2d"
           }
          ],
          "histogram2dcontour": [
           {
            "colorbar": {
             "outlinewidth": 0,
             "ticks": ""
            },
            "colorscale": [
             [
              0,
              "#0d0887"
             ],
             [
              0.1111111111111111,
              "#46039f"
             ],
             [
              0.2222222222222222,
              "#7201a8"
             ],
             [
              0.3333333333333333,
              "#9c179e"
             ],
             [
              0.4444444444444444,
              "#bd3786"
             ],
             [
              0.5555555555555556,
              "#d8576b"
             ],
             [
              0.6666666666666666,
              "#ed7953"
             ],
             [
              0.7777777777777778,
              "#fb9f3a"
             ],
             [
              0.8888888888888888,
              "#fdca26"
             ],
             [
              1,
              "#f0f921"
             ]
            ],
            "type": "histogram2dcontour"
           }
          ],
          "mesh3d": [
           {
            "colorbar": {
             "outlinewidth": 0,
             "ticks": ""
            },
            "type": "mesh3d"
           }
          ],
          "parcoords": [
           {
            "line": {
             "colorbar": {
              "outlinewidth": 0,
              "ticks": ""
             }
            },
            "type": "parcoords"
           }
          ],
          "pie": [
           {
            "automargin": true,
            "type": "pie"
           }
          ],
          "scatter": [
           {
            "fillpattern": {
             "fillmode": "overlay",
             "size": 10,
             "solidity": 0.2
            },
            "type": "scatter"
           }
          ],
          "scatter3d": [
           {
            "line": {
             "colorbar": {
              "outlinewidth": 0,
              "ticks": ""
             }
            },
            "marker": {
             "colorbar": {
              "outlinewidth": 0,
              "ticks": ""
             }
            },
            "type": "scatter3d"
           }
          ],
          "scattercarpet": [
           {
            "marker": {
             "colorbar": {
              "outlinewidth": 0,
              "ticks": ""
             }
            },
            "type": "scattercarpet"
           }
          ],
          "scattergeo": [
           {
            "marker": {
             "colorbar": {
              "outlinewidth": 0,
              "ticks": ""
             }
            },
            "type": "scattergeo"
           }
          ],
          "scattergl": [
           {
            "marker": {
             "colorbar": {
              "outlinewidth": 0,
              "ticks": ""
             }
            },
            "type": "scattergl"
           }
          ],
          "scattermapbox": [
           {
            "marker": {
             "colorbar": {
              "outlinewidth": 0,
              "ticks": ""
             }
            },
            "type": "scattermapbox"
           }
          ],
          "scatterpolar": [
           {
            "marker": {
             "colorbar": {
              "outlinewidth": 0,
              "ticks": ""
             }
            },
            "type": "scatterpolar"
           }
          ],
          "scatterpolargl": [
           {
            "marker": {
             "colorbar": {
              "outlinewidth": 0,
              "ticks": ""
             }
            },
            "type": "scatterpolargl"
           }
          ],
          "scatterternary": [
           {
            "marker": {
             "colorbar": {
              "outlinewidth": 0,
              "ticks": ""
             }
            },
            "type": "scatterternary"
           }
          ],
          "surface": [
           {
            "colorbar": {
             "outlinewidth": 0,
             "ticks": ""
            },
            "colorscale": [
             [
              0,
              "#0d0887"
             ],
             [
              0.1111111111111111,
              "#46039f"
             ],
             [
              0.2222222222222222,
              "#7201a8"
             ],
             [
              0.3333333333333333,
              "#9c179e"
             ],
             [
              0.4444444444444444,
              "#bd3786"
             ],
             [
              0.5555555555555556,
              "#d8576b"
             ],
             [
              0.6666666666666666,
              "#ed7953"
             ],
             [
              0.7777777777777778,
              "#fb9f3a"
             ],
             [
              0.8888888888888888,
              "#fdca26"
             ],
             [
              1,
              "#f0f921"
             ]
            ],
            "type": "surface"
           }
          ],
          "table": [
           {
            "cells": {
             "fill": {
              "color": "#EBF0F8"
             },
             "line": {
              "color": "white"
             }
            },
            "header": {
             "fill": {
              "color": "#C8D4E3"
             },
             "line": {
              "color": "white"
             }
            },
            "type": "table"
           }
          ]
         },
         "layout": {
          "annotationdefaults": {
           "arrowcolor": "#2a3f5f",
           "arrowhead": 0,
           "arrowwidth": 1
          },
          "autotypenumbers": "strict",
          "coloraxis": {
           "colorbar": {
            "outlinewidth": 0,
            "ticks": ""
           }
          },
          "colorscale": {
           "diverging": [
            [
             0,
             "#8e0152"
            ],
            [
             0.1,
             "#c51b7d"
            ],
            [
             0.2,
             "#de77ae"
            ],
            [
             0.3,
             "#f1b6da"
            ],
            [
             0.4,
             "#fde0ef"
            ],
            [
             0.5,
             "#f7f7f7"
            ],
            [
             0.6,
             "#e6f5d0"
            ],
            [
             0.7,
             "#b8e186"
            ],
            [
             0.8,
             "#7fbc41"
            ],
            [
             0.9,
             "#4d9221"
            ],
            [
             1,
             "#276419"
            ]
           ],
           "sequential": [
            [
             0,
             "#0d0887"
            ],
            [
             0.1111111111111111,
             "#46039f"
            ],
            [
             0.2222222222222222,
             "#7201a8"
            ],
            [
             0.3333333333333333,
             "#9c179e"
            ],
            [
             0.4444444444444444,
             "#bd3786"
            ],
            [
             0.5555555555555556,
             "#d8576b"
            ],
            [
             0.6666666666666666,
             "#ed7953"
            ],
            [
             0.7777777777777778,
             "#fb9f3a"
            ],
            [
             0.8888888888888888,
             "#fdca26"
            ],
            [
             1,
             "#f0f921"
            ]
           ],
           "sequentialminus": [
            [
             0,
             "#0d0887"
            ],
            [
             0.1111111111111111,
             "#46039f"
            ],
            [
             0.2222222222222222,
             "#7201a8"
            ],
            [
             0.3333333333333333,
             "#9c179e"
            ],
            [
             0.4444444444444444,
             "#bd3786"
            ],
            [
             0.5555555555555556,
             "#d8576b"
            ],
            [
             0.6666666666666666,
             "#ed7953"
            ],
            [
             0.7777777777777778,
             "#fb9f3a"
            ],
            [
             0.8888888888888888,
             "#fdca26"
            ],
            [
             1,
             "#f0f921"
            ]
           ]
          },
          "colorway": [
           "#636efa",
           "#EF553B",
           "#00cc96",
           "#ab63fa",
           "#FFA15A",
           "#19d3f3",
           "#FF6692",
           "#B6E880",
           "#FF97FF",
           "#FECB52"
          ],
          "font": {
           "color": "#2a3f5f"
          },
          "geo": {
           "bgcolor": "white",
           "lakecolor": "white",
           "landcolor": "#E5ECF6",
           "showlakes": true,
           "showland": true,
           "subunitcolor": "white"
          },
          "hoverlabel": {
           "align": "left"
          },
          "hovermode": "closest",
          "mapbox": {
           "style": "light"
          },
          "paper_bgcolor": "white",
          "plot_bgcolor": "#E5ECF6",
          "polar": {
           "angularaxis": {
            "gridcolor": "white",
            "linecolor": "white",
            "ticks": ""
           },
           "bgcolor": "#E5ECF6",
           "radialaxis": {
            "gridcolor": "white",
            "linecolor": "white",
            "ticks": ""
           }
          },
          "scene": {
           "xaxis": {
            "backgroundcolor": "#E5ECF6",
            "gridcolor": "white",
            "gridwidth": 2,
            "linecolor": "white",
            "showbackground": true,
            "ticks": "",
            "zerolinecolor": "white"
           },
           "yaxis": {
            "backgroundcolor": "#E5ECF6",
            "gridcolor": "white",
            "gridwidth": 2,
            "linecolor": "white",
            "showbackground": true,
            "ticks": "",
            "zerolinecolor": "white"
           },
           "zaxis": {
            "backgroundcolor": "#E5ECF6",
            "gridcolor": "white",
            "gridwidth": 2,
            "linecolor": "white",
            "showbackground": true,
            "ticks": "",
            "zerolinecolor": "white"
           }
          },
          "shapedefaults": {
           "line": {
            "color": "#2a3f5f"
           }
          },
          "ternary": {
           "aaxis": {
            "gridcolor": "white",
            "linecolor": "white",
            "ticks": ""
           },
           "baxis": {
            "gridcolor": "white",
            "linecolor": "white",
            "ticks": ""
           },
           "bgcolor": "#E5ECF6",
           "caxis": {
            "gridcolor": "white",
            "linecolor": "white",
            "ticks": ""
           }
          },
          "title": {
           "x": 0.05
          },
          "xaxis": {
           "automargin": true,
           "gridcolor": "white",
           "linecolor": "white",
           "ticks": "",
           "title": {
            "standoff": 15
           },
           "zerolinecolor": "white",
           "zerolinewidth": 2
          },
          "yaxis": {
           "automargin": true,
           "gridcolor": "white",
           "linecolor": "white",
           "ticks": "",
           "title": {
            "standoff": 15
           },
           "zerolinecolor": "white",
           "zerolinewidth": 2
          }
         }
        },
        "title": {
         "text": "LinearRegression:['scaled_avg_strength', 'evcent_modularity'] vs abs(log2_aFC)"
        },
        "width": 1500,
        "xaxis": {
         "anchor": "y",
         "domain": [
          0,
          1
         ]
        },
        "xaxis2": {
         "anchor": "y2",
         "domain": [
          0,
          1
         ]
        },
        "yaxis": {
         "anchor": "x",
         "domain": [
          0.625,
          1
         ],
         "dtick": 1
        },
        "yaxis2": {
         "anchor": "x2",
         "domain": [
          0,
          0.375
         ],
         "dtick": 1
        }
       }
      },
      "text/html": [
       "<div>                            <div id=\"153a8bc3-7a53-4840-9b9f-edb674cf6d65\" class=\"plotly-graph-div\" style=\"height:2000px; width:1500px;\"></div>            <script type=\"text/javascript\">                require([\"plotly\"], function(Plotly) {                    window.PLOTLYENV=window.PLOTLYENV || {};                                    if (document.getElementById(\"153a8bc3-7a53-4840-9b9f-edb674cf6d65\")) {                    Plotly.newPlot(                        \"153a8bc3-7a53-4840-9b9f-edb674cf6d65\",                        [{\"colorbar\":{\"title\":{\"text\":\"r_square\"}},\"colorscale\":[[0.0,\"#440154\"],[0.1111111111111111,\"#482878\"],[0.2222222222222222,\"#3e4989\"],[0.3333333333333333,\"#31688e\"],[0.4444444444444444,\"#26828e\"],[0.5555555555555556,\"#1f9e89\"],[0.6666666666666666,\"#35b779\"],[0.7777777777777778,\"#6ece58\"],[0.8888888888888888,\"#b5de2b\"],[1.0,\"#fde725\"]],\"hoverongaps\":false,\"x\":[\"Adrenal_Gland\",\"Brain_Frontal_Cortex_BA9\",\"Heart_Left_Ventricle\",\"Colon_Sigmoid\",\"Spleen\",\"Stomach\",\"Colon_Transverse\",\"Adipose_Subcutaneous\"],\"y\":[\"H3K27me3-subcutaneous abdominal adipose tissue\",\"H3K27me3-stomach\",\"H3K27me3-spleen\",\"H3K27me3-heart left ventricle\",\"H3K27me3-dorsolateral prefrontal cortex\",\"H3K27me3-heart right ventricle\",\"H3K27me3-sigmoid colon\",\"H3K4me1-stomach\",\"H3K4me1-heart right ventricle\",\"H3K4me1-lung\",\"H3K4me1-heart left ventricle\",\"H3K4me1-adrenal gland\",\"H3K4me1-sigmoid colon\",\"H3K4me1-subcutaneous abdominal adipose tissue\",\"H3K4me1-spleen\",\"H3K4me3-heart right ventricle\",\"H3K4me3-sigmoid colon\",\"H3K4me3-spleen\",\"H3K4me3-transverse colon\",\"H3K4me3-stomach\",\"H3K4me3-heart left ventricle\",\"H3K4me3-adrenal gland\",\"H3K4me3-dorsolateral prefrontal cortex\",\"H3K4me3-subcutaneous abdominal adipose tissue\",\"H3K9me3-spleen\",\"H3K9me3-subcutaneous abdominal adipose tissue\",\"H3K9me3-stomach\",\"H3K9me3-sigmoid colon\",\"H3K9me3-heart left ventricle\",\"H3K9me3-adrenal gland\",\"H3K9me3-heart right ventricle\",\"H3K27ac-skin epidermis\",\"H3K27ac-transverse colon\",\"H3K27ac-stomach\",\"H3K27ac-heart left ventricle\",\"H3K27ac-heart right ventricle\",\"H3K27ac-dorsolateral prefrontal cortex\",\"H3K27ac-adrenal gland\",\"H3K27ac-sigmoid colon\",\"H3K27ac-spleen\"],\"z\":[[0.005633716638076325,0.00831248367753723,0.07685641512842001,0.06951209026447203,0.009576070718001484,0.054505787901776404,0.028788317549244824,0.015482790029497817],[0.0053756514098045605,0.062245809954550424,0.09407966015454161,0.05474717951064456,0.029449144706637398,0.013824431930236414,0.00237081589936905,0.013075333268530165],[0.04405915133921401,0.009141254906021579,0.18210091644098847,0.042219190714745114,0.05879934229725803,0.22819787669182023,0.004921556809230454,0.016693875036384975],[0.059410085689595604,0.030789222289001272,0.1213657634687858,0.004574480470355802,0.21263106899461792,0.2699051468581082,0.09518399461903138,0.011384015388251623],[0.29810440529731985,0.0,0.0,0.32940946995136533,0.020977814053854016,0.1633087662250403,0.23975822655574996,0.11169501405827853],[0.060771488439535726,0.022607971932794624,0.04036950310323206,0.023529471429543314,0.07949150345346379,0.008011321700858387,0.007798696531321814,0.02246831360476509],[0.0314176359172188,0.16506866707059842,0.04622500869872259,0.03444891625620483,0.021542829790234252,0.013367727486781278,0.0714618132174758,0.005756099791013214],[0.0005838566097191578,0.06241213349002461,0.019103585897311426,0.011247068876863775,0.005942027310658515,0.0064824276782446955,0.006293921761399979,0.005808373191564686],[0.01915369694583824,0.025535701460452698,0.004495109659600094,0.011351307780190223,0.006573722168963569,0.007312559561325149,0.023224804492089524,0.016480283716932886],[0.035170395977058844,0.003810357333321135,0.0011479428115691581,0.03857513930631762,0.0222591523204847,0.001300702691737765,0.014719023992051716,0.008920009734791123],[0.0051141262788710895,0.02785858940172392,0.008397453078958339,0.06258501884528433,0.010029173770809696,0.013622542536969817,0.021828683964012607,0.034295287893902904],[0.038122178648808513,0.07520942329268099,0.05407708499051911,0.030520189820686605,0.029328751377225903,0.029977698796727736,0.039772034680552903,0.045203318377852075],[0.02478907486626747,0.005967028620633363,0.012677856998274728,0.0038694402432646324,0.030122100399909923,0.04583046146539116,0.014898952762198991,0.04048294924308116],[0.01062671678622662,0.06255464169389857,0.00967137964631093,0.02340905473192556,0.025417022545392354,0.012472274753777213,0.008992000916227982,0.0029272728015008465],[0.043259391409651626,0.05652693194274716,0.0033434478563110215,0.006883291358367294,0.029899379725335518,0.016804105459809038,0.0227637137145984,0.026031549580026403],[0.04057499288694244,0.016525310501156798,0.04376585063547578,0.04327819528121801,0.030025751923263067,0.05137124301660467,0.03587401863913875,0.01824867445690037],[0.0690616532683167,0.047856356549829226,0.048953622692000986,0.028826971070572416,0.008664782946300686,0.05438747680107525,0.03627294185159158,0.0363543898159332],[0.08315153992389135,0.023464180602175366,0.008636501661802853,0.018015450817936096,0.0032736831061743743,0.025028057854767582,0.006470224701535465,0.004864447641637848],[0.03933611265652026,0.02829423071991155,0.0073286785798389875,0.009875590240741694,0.006536178800014336,0.006876162771514593,0.018815497792849523,0.01589976747127153],[0.015155495914349726,0.004057117393783005,0.027537919547109935,0.02813421015904738,0.02234948125905345,0.01584474155307114,0.01591153214267005,0.025005360311690095],[0.1729208502020526,0.03889500574866722,0.010716375388602928,0.055041295634760457,0.11915368352607059,0.09442921772161383,0.07544876426812108,0.0476401413928067],[0.017217565134955648,0.04575465080987129,0.0023160349057580465,0.003574525756511404,0.017025982185134514,0.020349054642633813,0.0015199898952160673,0.004968330129171972],[0.014167608116947839,0.1579716455955339,0.041100670687771346,0.07028141922062214,0.10996880331588343,0.2380221522413667,0.01920565325291612,0.03865833637073257],[0.014449504897059873,0.026889564642637476,0.053769463678990936,0.007768620530185899,0.004058485090860486,0.010265269782400166,0.010225554565034267,0.027266080712425977],[0.05230586571033413,0.12368128414167989,0.08707327992491343,0.07960505985420308,0.13003086746965786,0.15491154672630392,0.1348360446892365,0.01417615060210109],[0.006440554351941241,0.06119660992435072,0.11600995533214642,0.0649273624150063,0.06828211784443572,0.26934710366844705,0.040181699013382866,0.03241558181935422],[0.05918767540517211,0.08787898467342847,0.04387026417670825,0.11301121198279063,0.055217821881073825,0.07844232304854792,0.04440462518057098,0.21476326317432004],[0.2589413930195491,0.011447894388907254,0.0,0.6210360508558526,0.13859079826995035,0.27869547531418404,0.09357619446226506,0.09727995590008487],[0.21303721101777007,0.11698880150452617,0.0058991728585030545,0.5489195950096568,0.14584695347978538,0.10999458440655152,0.03023317949700799,0.053166125510221485],[0.0,0.0,0.0,0.0,0.0,0.0,0.0,0.0],[0.17445256357959094,0.29511341288457793,0.35241814884898703,0.11492418911518254,0.027855046948705442,0.06859782882361465,0.09551114784831705,0.010691240118429812],[0.06382148255228559,0.061574397154050886,0.07447385496039816,0.050199253829252166,0.0649227366440508,0.034785726445024534,0.0517218033123783,0.06687099725934353],[0.04301727182669479,0.061607226224410394,0.04868166058002299,0.024491798324491443,0.04022693200460059,0.04889849305248972,0.018621100977287974,0.04766432536505916],[0.02417318460781137,0.06682763721745633,0.007612056622881558,0.04613442536397494,0.059448700407190636,0.04029709004945059,0.006169270593614273,0.028385607403586866],[0.21245177112863545,0.10198326238116595,0.08740406283408719,0.10844232759683148,0.09264500667166109,0.15552930192200143,0.12163930169988668,0.12180455087712827],[0.11460640928171129,0.04567827939450442,0.018220801641603113,0.062016782196625764,0.024935268967953172,0.10815402678564212,0.03398999941533554,0.05206955685220971],[0.006741179754009341,0.0032008761434951793,0.02553562738559323,0.05194052258081827,0.01606573565820124,0.0020652610148064188,0.002806270961905777,0.004960691710623633],[0.0026453432218459527,0.11182389846637297,0.015570425774918295,0.010071692859445758,0.04318694325909567,0.05646127970408821,0.026754318436105873,0.014806830065858367],[0.009760346802548336,0.014442243449683256,0.00968054245696226,0.0019630656866161944,0.012691704680191207,0.008374152397690016,0.0012841382986668037,0.0002843197623165761],[0.011042806894058343,0.04666003487052317,0.02175076784175234,0.040359038313871776,0.003481890861301351,0.006242150642424504,0.03344870807082523,0.015852359668123928]],\"zmax\":1.0,\"zmid\":0.5,\"zmin\":0.0,\"type\":\"heatmap\",\"xaxis\":\"x\",\"yaxis\":\"y\"},{\"colorbar\":{\"title\":{\"text\":\"r_square\"}},\"colorscale\":[[0.0,\"#440154\"],[0.1111111111111111,\"#482878\"],[0.2222222222222222,\"#3e4989\"],[0.3333333333333333,\"#31688e\"],[0.4444444444444444,\"#26828e\"],[0.5555555555555556,\"#1f9e89\"],[0.6666666666666666,\"#35b779\"],[0.7777777777777778,\"#6ece58\"],[0.8888888888888888,\"#b5de2b\"],[1.0,\"#fde725\"]],\"x\":[\"Adrenal_Gland\",\"Brain_Frontal_Cortex_BA9\",\"Heart_Left_Ventricle\",\"Colon_Sigmoid\",\"Spleen\",\"Stomach\",\"Colon_Transverse\",\"Adipose_Subcutaneous\"],\"y\":[\"H3K27me3-subcutaneous abdominal adipose tissue\",\"H3K27me3-stomach\",\"H3K27me3-spleen\",\"H3K27me3-heart left ventricle\",\"H3K27me3-dorsolateral prefrontal cortex\",\"H3K27me3-heart right ventricle\",\"H3K27me3-sigmoid colon\",\"H3K4me1-stomach\",\"H3K4me1-heart right ventricle\",\"H3K4me1-lung\",\"H3K4me1-heart left ventricle\",\"H3K4me1-adrenal gland\",\"H3K4me1-sigmoid colon\",\"H3K4me1-subcutaneous abdominal adipose tissue\",\"H3K4me1-spleen\",\"H3K4me3-heart right ventricle\",\"H3K4me3-sigmoid colon\",\"H3K4me3-spleen\",\"H3K4me3-transverse colon\",\"H3K4me3-stomach\",\"H3K4me3-heart left ventricle\",\"H3K4me3-adrenal gland\",\"H3K4me3-dorsolateral prefrontal cortex\",\"H3K4me3-subcutaneous abdominal adipose tissue\",\"H3K9me3-spleen\",\"H3K9me3-subcutaneous abdominal adipose tissue\",\"H3K9me3-stomach\",\"H3K9me3-sigmoid colon\",\"H3K9me3-heart left ventricle\",\"H3K9me3-adrenal gland\",\"H3K9me3-heart right ventricle\",\"H3K27ac-skin epidermis\",\"H3K27ac-transverse colon\",\"H3K27ac-stomach\",\"H3K27ac-heart left ventricle\",\"H3K27ac-heart right ventricle\",\"H3K27ac-dorsolateral prefrontal cortex\",\"H3K27ac-adrenal gland\",\"H3K27ac-sigmoid colon\",\"H3K27ac-spleen\"],\"z\":[[0.07097934636556602,0.010240302365911225,0.05420807384794657,0.05084847935757497,0.1655959242428925,0.08081587511562904,0.27757042573722646,0.0972859771256005],[0.3629492380063254,0.08009840439598304,0.01633689320965448,0.053159541747102024,0.10250006518568389,0.41624911647561635,0.12856880824497074,0.05372346638609071],[0.0,0.0,0.0,0.5274123938723914,0.07942569019837886,0.0,0.34943364928053067,0.3238086189187881],[0.12155377475707363,0.4460056415533342,0.6166501355475688,0.2636675475234075,0.09825816843291924,0.0,0.017066118321069412,0.0892141121842639],[0.0,0.0,0.0,0.0,0.0,0.0,0.0,0.0],[0.0,0.3529764522482285,0.0059346216638014315,0.013335914914353708,0.044743179229707275,0.006563413337695945,0.2060484903808022,0.38941317712185874],[0.046154033907988556,0.08092397407959784,0.0,0.34852023529353837,0.12718625371712122,0.0,0.0,0.06487480265567513],[0.034123066545416525,0.014445917289619192,0.22390798881443763,0.18550026215055526,0.09229944669983348,0.1542325278361153,0.06504118764878897,0.03580769478932666],[0.269102351121698,0.055275589215812104,0.022953251127224128,0.004935702250034368,0.0544663649846342,0.009607429437112569,0.07162325100630118,0.03374639317222672],[0.12590380598253137,0.017578718495314227,0.004853143494762513,0.07868505404299486,0.05362871710458206,0.0014174880866423267,0.10698592120499617,0.032167267835477964],[0.02759021416264329,0.0001516226974711543,0.11219993479170898,0.11236326795492713,0.006025047199066713,0.03498822243605415,0.05659157604670784,0.0546289733642934],[0.0017839184629401261,0.00024383619009371582,0.025082711608982344,0.17901535982986982,0.15534757980573388,0.12102305404405878,0.27224470904410636,0.07292210347543726],[0.02117912688156731,0.19348005660927536,0.03854927823000842,0.23400598474987744,0.12688811177212012,0.09019878362009903,0.26858371943370385,0.03703754104461632],[0.04799182985082895,0.04039698252667534,0.02909197558326726,0.005863962976809911,0.03198447254260328,0.018592311098574288,0.004924597189442603,0.030952356924673574],[0.04228766834545494,0.03663804335410381,0.03603315478267899,0.02464934090110238,0.043652452128058794,0.07634479597841026,0.0020278138898268683,0.023945035058654085],[0.19631009348415807,0.09185725278187973,0.22933267775339816,0.3225366953233837,0.23339818816339597,0.04496276028823665,0.25311516153790037,0.20524286502950162],[0.28727382880143315,0.1731467143106573,0.13892111602935897,0.5886648927093725,0.0632782473312995,0.29027153217800883,0.06471937515961024,0.039283897178393645],[0.28945881823874064,0.00812565545099142,0.4059328573962534,0.13367317626398068,0.1919872069694989,0.11034382150577193,0.010515161554350949,0.019600777945324888],[0.06080235837970194,0.005772745434466708,0.16657954549842058,0.09149338652476424,0.01912034264472595,0.07130780170300821,0.1649470384200108,0.004960693411279249],[0.2832071590948335,0.07615992216022216,0.054380716257356965,0.0783550967737332,0.11568185552830945,0.02676115105042265,0.16833953359670906,0.12324067743462552],[0.07902778047611114,0.2999423742445463,0.7180545441260349,0.09576837318612963,0.08756958416048921,0.5507536750891513,0.08170506578369674,0.028635551496474343],[0.2383920349624582,0.17058364279340743,0.035168409445979654,0.2712188205836088,0.5631160389055305,0.026174219598191106,0.3757168238823747,0.2675065829026416],[0.0,0.4180004964217895,0.0,0.04718279960204497,0.0,0.3063182443309821,0.0,0.4341129392342554],[0.4152172447872021,0.035884635822961086,0.16598823363723803,0.08105654860453237,0.09811097125107815,0.04724728423363678,0.18447034158745912,0.09549513596695125],[0.12495037584293878,0.36680221455598083,0.0,0.023559888231775572,0.04426087145225133,0.07714981265379861,0.09643992521373301,0.025141036346857715],[0.08922950621787662,0.40096876530128,0.4790431420944994,0.16436444049857368,0.1321138218413732,0.040673353254868316,0.12144604581902374,0.1037240189692703],[0.12282262741602212,0.39134138340246993,0.0,0.17960784991047474,0.2929717711933213,0.18840103997780022,0.009223931386914352,0.09712627791654316],[0.0,0.0,0.0,0.0,0.0,0.0,0.0,0.0],[0.0,0.0,0.0,0.0,0.2392509782387815,0.0,0.0,0.14982373333052945],[0.0,0.0,0.0,0.0,0.0,0.0,0.0,0.0],[0.0,0.0,0.0,0.35061460653073573,0.09455497768621801,0.0,0.5067484806166804,0.08807669405685992],[0.0956837382834298,0.005860040922003984,0.012763694786767754,0.03555794915696997,0.11178891484139675,0.04183702965369129,0.19448052232294843,0.10643343016389528],[0.049389953003807996,0.10380385151758653,0.01352619744408512,0.02387684777339827,0.14639335857150693,0.1526715505195697,0.004938408203922107,0.05709171591350626],[0.021881380407481887,0.05633777243703375,0.08897953577688611,0.07445766716874636,0.17527737321008063,0.0469009653758542,0.3376167444950874,0.13772798593681967],[0.40377213693902403,0.04313409624338305,0.004360191004406655,0.15272233851011774,0.3689596260248913,0.03859139077545315,0.28216065270317026,0.13595191575933463],[0.3432258200425956,0.016569740170458314,0.24564368549649251,0.027367520566250136,0.034012031253913055,0.06700413726601617,0.16354797127323106,0.01964386192820189],[0.0774885276152042,0.05097444797204509,0.5529997372045864,0.10559985603010036,0.018634631522362888,0.016415453117935908,0.03460591169257787,0.04051564198419855],[0.015792023703530056,0.08056517511475914,0.016951166245333327,0.13244845606513556,0.015199073379092987,0.17320529182439925,0.1582370635304211,0.005003364534770682],[0.10642189869456553,0.1553101089350456,0.015275438132772212,0.23430783388202525,0.02405297386370331,0.018050549924008674,0.026358498667414465,0.024988619296180237],[0.029120758042699535,0.1371233831519948,0.02350568588930757,0.07984406683664358,0.07010605764789035,0.11027636690212939,0.13487759071819294,0.017063962149468148]],\"zmax\":1.0,\"zmid\":0.5,\"zmin\":0.0,\"type\":\"heatmap\",\"xaxis\":\"x2\",\"yaxis\":\"y2\"}],                        {\"template\":{\"data\":{\"histogram2dcontour\":[{\"type\":\"histogram2dcontour\",\"colorbar\":{\"outlinewidth\":0,\"ticks\":\"\"},\"colorscale\":[[0.0,\"#0d0887\"],[0.1111111111111111,\"#46039f\"],[0.2222222222222222,\"#7201a8\"],[0.3333333333333333,\"#9c179e\"],[0.4444444444444444,\"#bd3786\"],[0.5555555555555556,\"#d8576b\"],[0.6666666666666666,\"#ed7953\"],[0.7777777777777778,\"#fb9f3a\"],[0.8888888888888888,\"#fdca26\"],[1.0,\"#f0f921\"]]}],\"choropleth\":[{\"type\":\"choropleth\",\"colorbar\":{\"outlinewidth\":0,\"ticks\":\"\"}}],\"histogram2d\":[{\"type\":\"histogram2d\",\"colorbar\":{\"outlinewidth\":0,\"ticks\":\"\"},\"colorscale\":[[0.0,\"#0d0887\"],[0.1111111111111111,\"#46039f\"],[0.2222222222222222,\"#7201a8\"],[0.3333333333333333,\"#9c179e\"],[0.4444444444444444,\"#bd3786\"],[0.5555555555555556,\"#d8576b\"],[0.6666666666666666,\"#ed7953\"],[0.7777777777777778,\"#fb9f3a\"],[0.8888888888888888,\"#fdca26\"],[1.0,\"#f0f921\"]]}],\"heatmap\":[{\"type\":\"heatmap\",\"colorbar\":{\"outlinewidth\":0,\"ticks\":\"\"},\"colorscale\":[[0.0,\"#0d0887\"],[0.1111111111111111,\"#46039f\"],[0.2222222222222222,\"#7201a8\"],[0.3333333333333333,\"#9c179e\"],[0.4444444444444444,\"#bd3786\"],[0.5555555555555556,\"#d8576b\"],[0.6666666666666666,\"#ed7953\"],[0.7777777777777778,\"#fb9f3a\"],[0.8888888888888888,\"#fdca26\"],[1.0,\"#f0f921\"]]}],\"heatmapgl\":[{\"type\":\"heatmapgl\",\"colorbar\":{\"outlinewidth\":0,\"ticks\":\"\"},\"colorscale\":[[0.0,\"#0d0887\"],[0.1111111111111111,\"#46039f\"],[0.2222222222222222,\"#7201a8\"],[0.3333333333333333,\"#9c179e\"],[0.4444444444444444,\"#bd3786\"],[0.5555555555555556,\"#d8576b\"],[0.6666666666666666,\"#ed7953\"],[0.7777777777777778,\"#fb9f3a\"],[0.8888888888888888,\"#fdca26\"],[1.0,\"#f0f921\"]]}],\"contourcarpet\":[{\"type\":\"contourcarpet\",\"colorbar\":{\"outlinewidth\":0,\"ticks\":\"\"}}],\"contour\":[{\"type\":\"contour\",\"colorbar\":{\"outlinewidth\":0,\"ticks\":\"\"},\"colorscale\":[[0.0,\"#0d0887\"],[0.1111111111111111,\"#46039f\"],[0.2222222222222222,\"#7201a8\"],[0.3333333333333333,\"#9c179e\"],[0.4444444444444444,\"#bd3786\"],[0.5555555555555556,\"#d8576b\"],[0.6666666666666666,\"#ed7953\"],[0.7777777777777778,\"#fb9f3a\"],[0.8888888888888888,\"#fdca26\"],[1.0,\"#f0f921\"]]}],\"surface\":[{\"type\":\"surface\",\"colorbar\":{\"outlinewidth\":0,\"ticks\":\"\"},\"colorscale\":[[0.0,\"#0d0887\"],[0.1111111111111111,\"#46039f\"],[0.2222222222222222,\"#7201a8\"],[0.3333333333333333,\"#9c179e\"],[0.4444444444444444,\"#bd3786\"],[0.5555555555555556,\"#d8576b\"],[0.6666666666666666,\"#ed7953\"],[0.7777777777777778,\"#fb9f3a\"],[0.8888888888888888,\"#fdca26\"],[1.0,\"#f0f921\"]]}],\"mesh3d\":[{\"type\":\"mesh3d\",\"colorbar\":{\"outlinewidth\":0,\"ticks\":\"\"}}],\"scatter\":[{\"fillpattern\":{\"fillmode\":\"overlay\",\"size\":10,\"solidity\":0.2},\"type\":\"scatter\"}],\"parcoords\":[{\"type\":\"parcoords\",\"line\":{\"colorbar\":{\"outlinewidth\":0,\"ticks\":\"\"}}}],\"scatterpolargl\":[{\"type\":\"scatterpolargl\",\"marker\":{\"colorbar\":{\"outlinewidth\":0,\"ticks\":\"\"}}}],\"bar\":[{\"error_x\":{\"color\":\"#2a3f5f\"},\"error_y\":{\"color\":\"#2a3f5f\"},\"marker\":{\"line\":{\"color\":\"#E5ECF6\",\"width\":0.5},\"pattern\":{\"fillmode\":\"overlay\",\"size\":10,\"solidity\":0.2}},\"type\":\"bar\"}],\"scattergeo\":[{\"type\":\"scattergeo\",\"marker\":{\"colorbar\":{\"outlinewidth\":0,\"ticks\":\"\"}}}],\"scatterpolar\":[{\"type\":\"scatterpolar\",\"marker\":{\"colorbar\":{\"outlinewidth\":0,\"ticks\":\"\"}}}],\"histogram\":[{\"marker\":{\"pattern\":{\"fillmode\":\"overlay\",\"size\":10,\"solidity\":0.2}},\"type\":\"histogram\"}],\"scattergl\":[{\"type\":\"scattergl\",\"marker\":{\"colorbar\":{\"outlinewidth\":0,\"ticks\":\"\"}}}],\"scatter3d\":[{\"type\":\"scatter3d\",\"line\":{\"colorbar\":{\"outlinewidth\":0,\"ticks\":\"\"}},\"marker\":{\"colorbar\":{\"outlinewidth\":0,\"ticks\":\"\"}}}],\"scattermapbox\":[{\"type\":\"scattermapbox\",\"marker\":{\"colorbar\":{\"outlinewidth\":0,\"ticks\":\"\"}}}],\"scatterternary\":[{\"type\":\"scatterternary\",\"marker\":{\"colorbar\":{\"outlinewidth\":0,\"ticks\":\"\"}}}],\"scattercarpet\":[{\"type\":\"scattercarpet\",\"marker\":{\"colorbar\":{\"outlinewidth\":0,\"ticks\":\"\"}}}],\"carpet\":[{\"aaxis\":{\"endlinecolor\":\"#2a3f5f\",\"gridcolor\":\"white\",\"linecolor\":\"white\",\"minorgridcolor\":\"white\",\"startlinecolor\":\"#2a3f5f\"},\"baxis\":{\"endlinecolor\":\"#2a3f5f\",\"gridcolor\":\"white\",\"linecolor\":\"white\",\"minorgridcolor\":\"white\",\"startlinecolor\":\"#2a3f5f\"},\"type\":\"carpet\"}],\"table\":[{\"cells\":{\"fill\":{\"color\":\"#EBF0F8\"},\"line\":{\"color\":\"white\"}},\"header\":{\"fill\":{\"color\":\"#C8D4E3\"},\"line\":{\"color\":\"white\"}},\"type\":\"table\"}],\"barpolar\":[{\"marker\":{\"line\":{\"color\":\"#E5ECF6\",\"width\":0.5},\"pattern\":{\"fillmode\":\"overlay\",\"size\":10,\"solidity\":0.2}},\"type\":\"barpolar\"}],\"pie\":[{\"automargin\":true,\"type\":\"pie\"}]},\"layout\":{\"autotypenumbers\":\"strict\",\"colorway\":[\"#636efa\",\"#EF553B\",\"#00cc96\",\"#ab63fa\",\"#FFA15A\",\"#19d3f3\",\"#FF6692\",\"#B6E880\",\"#FF97FF\",\"#FECB52\"],\"font\":{\"color\":\"#2a3f5f\"},\"hovermode\":\"closest\",\"hoverlabel\":{\"align\":\"left\"},\"paper_bgcolor\":\"white\",\"plot_bgcolor\":\"#E5ECF6\",\"polar\":{\"bgcolor\":\"#E5ECF6\",\"angularaxis\":{\"gridcolor\":\"white\",\"linecolor\":\"white\",\"ticks\":\"\"},\"radialaxis\":{\"gridcolor\":\"white\",\"linecolor\":\"white\",\"ticks\":\"\"}},\"ternary\":{\"bgcolor\":\"#E5ECF6\",\"aaxis\":{\"gridcolor\":\"white\",\"linecolor\":\"white\",\"ticks\":\"\"},\"baxis\":{\"gridcolor\":\"white\",\"linecolor\":\"white\",\"ticks\":\"\"},\"caxis\":{\"gridcolor\":\"white\",\"linecolor\":\"white\",\"ticks\":\"\"}},\"coloraxis\":{\"colorbar\":{\"outlinewidth\":0,\"ticks\":\"\"}},\"colorscale\":{\"sequential\":[[0.0,\"#0d0887\"],[0.1111111111111111,\"#46039f\"],[0.2222222222222222,\"#7201a8\"],[0.3333333333333333,\"#9c179e\"],[0.4444444444444444,\"#bd3786\"],[0.5555555555555556,\"#d8576b\"],[0.6666666666666666,\"#ed7953\"],[0.7777777777777778,\"#fb9f3a\"],[0.8888888888888888,\"#fdca26\"],[1.0,\"#f0f921\"]],\"sequentialminus\":[[0.0,\"#0d0887\"],[0.1111111111111111,\"#46039f\"],[0.2222222222222222,\"#7201a8\"],[0.3333333333333333,\"#9c179e\"],[0.4444444444444444,\"#bd3786\"],[0.5555555555555556,\"#d8576b\"],[0.6666666666666666,\"#ed7953\"],[0.7777777777777778,\"#fb9f3a\"],[0.8888888888888888,\"#fdca26\"],[1.0,\"#f0f921\"]],\"diverging\":[[0,\"#8e0152\"],[0.1,\"#c51b7d\"],[0.2,\"#de77ae\"],[0.3,\"#f1b6da\"],[0.4,\"#fde0ef\"],[0.5,\"#f7f7f7\"],[0.6,\"#e6f5d0\"],[0.7,\"#b8e186\"],[0.8,\"#7fbc41\"],[0.9,\"#4d9221\"],[1,\"#276419\"]]},\"xaxis\":{\"gridcolor\":\"white\",\"linecolor\":\"white\",\"ticks\":\"\",\"title\":{\"standoff\":15},\"zerolinecolor\":\"white\",\"automargin\":true,\"zerolinewidth\":2},\"yaxis\":{\"gridcolor\":\"white\",\"linecolor\":\"white\",\"ticks\":\"\",\"title\":{\"standoff\":15},\"zerolinecolor\":\"white\",\"automargin\":true,\"zerolinewidth\":2},\"scene\":{\"xaxis\":{\"backgroundcolor\":\"#E5ECF6\",\"gridcolor\":\"white\",\"linecolor\":\"white\",\"showbackground\":true,\"ticks\":\"\",\"zerolinecolor\":\"white\",\"gridwidth\":2},\"yaxis\":{\"backgroundcolor\":\"#E5ECF6\",\"gridcolor\":\"white\",\"linecolor\":\"white\",\"showbackground\":true,\"ticks\":\"\",\"zerolinecolor\":\"white\",\"gridwidth\":2},\"zaxis\":{\"backgroundcolor\":\"#E5ECF6\",\"gridcolor\":\"white\",\"linecolor\":\"white\",\"showbackground\":true,\"ticks\":\"\",\"zerolinecolor\":\"white\",\"gridwidth\":2}},\"shapedefaults\":{\"line\":{\"color\":\"#2a3f5f\"}},\"annotationdefaults\":{\"arrowcolor\":\"#2a3f5f\",\"arrowhead\":0,\"arrowwidth\":1},\"geo\":{\"bgcolor\":\"white\",\"landcolor\":\"#E5ECF6\",\"subunitcolor\":\"white\",\"showland\":true,\"showlakes\":true,\"lakecolor\":\"white\"},\"title\":{\"x\":0.05},\"mapbox\":{\"style\":\"light\"}}},\"xaxis\":{\"anchor\":\"y\",\"domain\":[0.0,1.0]},\"yaxis\":{\"anchor\":\"x\",\"domain\":[0.625,1.0],\"dtick\":1},\"xaxis2\":{\"anchor\":\"y2\",\"domain\":[0.0,1.0]},\"yaxis2\":{\"anchor\":\"x2\",\"domain\":[0.0,0.375],\"dtick\":1},\"annotations\":[{\"font\":{\"size\":16},\"showarrow\":false,\"text\":\"Variants overlap with region and tss_distance\\u003c100kbp\",\"x\":0.5,\"xanchor\":\"center\",\"xref\":\"paper\",\"y\":1.0,\"yanchor\":\"bottom\",\"yref\":\"paper\"},{\"font\":{\"size\":16},\"showarrow\":false,\"text\":\"Variants overlap with region and tss_distance\\u003e100kbp\",\"x\":0.5,\"xanchor\":\"center\",\"xref\":\"paper\",\"y\":0.375,\"yanchor\":\"bottom\",\"yref\":\"paper\"}],\"height\":2000,\"width\":1500,\"title\":{\"text\":\"LinearRegression:['scaled_avg_strength', 'evcent_modularity'] vs abs(log2_aFC)\"}},                        {\"responsive\": true}                    ).then(function(){\n",
       "                            \n",
       "var gd = document.getElementById('153a8bc3-7a53-4840-9b9f-edb674cf6d65');\n",
       "var x = new MutationObserver(function (mutations, observer) {{\n",
       "        var display = window.getComputedStyle(gd).display;\n",
       "        if (!display || display === 'none') {{\n",
       "            console.log([gd, 'removed!']);\n",
       "            Plotly.purge(gd);\n",
       "            observer.disconnect();\n",
       "        }}\n",
       "}});\n",
       "\n",
       "// Listen for the removal of the full notebook cells\n",
       "var notebookContainer = gd.closest('#notebook-container');\n",
       "if (notebookContainer) {{\n",
       "    x.observe(notebookContainer, {childList: true});\n",
       "}}\n",
       "\n",
       "// Listen for the clearing of the current output cell\n",
       "var outputEl = gd.closest('.output');\n",
       "if (outputEl) {{\n",
       "    x.observe(outputEl, {childList: true});\n",
       "}}\n",
       "\n",
       "                        })                };                });            </script>        </div>"
      ]
     },
     "metadata": {},
     "output_type": "display_data"
    }
   ],
   "source": [
    "##### R-Square: LM: average_strength vs abs(log2_aFC) #########\n",
    "\n",
    "from plotly.subplots import make_subplots\n",
    "import plotly.graph_objects as go\n",
    "\n",
    "fig1 = make_subplots(rows=2, cols=1,\n",
    "                    subplot_titles=(\"Variants overlap with region and tss_distance<100kbp\", \"Variants overlap with region and tss_distance>100kbp\"),\n",
    "                    shared_yaxes=True)\n",
    "colorsc = dict(colorscale='algae', showscale=False)\n",
    "fig1.add_trace(go.Heatmap(z=rsquare_full.values,\n",
    "                    y=ylabel,\n",
    "                    x=xlabel,\n",
    "                    colorscale='Viridis',\n",
    "                    zmin=0.0, zmax=1.0, zmid=0.5,\n",
    "                    colorbar=dict(title='r_square'),\n",
    "                    hoverongaps = False),\n",
    "                    row=1, col=1, )\n",
    "\n",
    "fig1.add_trace(go.Heatmap(\n",
    "                    z=rsquare_100000.values,\n",
    "                    y=ylabel,\n",
    "                    x=xlabel, \n",
    "                    colorscale='Viridis',\n",
    "                    zmin=0.0, zmax=1.0, zmid=0.5,\n",
    "                    colorbar=dict(title='r_square')),\n",
    "                    row=2, col=1)\n",
    "\n",
    "fig1.update_layout(height=2000, width=1500, title=f\"LinearRegression:{features} vs abs(log2_aFC)\")\n",
    "\n",
    "\n",
    "fig1['layout']['yaxis']['dtick']=1\n",
    "fig1['layout']['yaxis2']['dtick']=1\n",
    "\n",
    "\n",
    "\n",
    "fig1.show()"
   ]
  },
  {
   "cell_type": "markdown",
   "metadata": {},
   "source": [
    "visualize others "
   ]
  },
  {
   "cell_type": "code",
   "execution_count": 18,
   "metadata": {},
   "outputs": [
    {
     "ename": "NameError",
     "evalue": "name 'hm_dict' is not defined",
     "output_type": "error",
     "traceback": [
      "\u001b[0;31m---------------------------------------------------------------------------\u001b[0m",
      "\u001b[0;31mNameError\u001b[0m                                 Traceback (most recent call last)",
      "\u001b[0;32m/tmp/ipykernel_12842/3789288324.py\u001b[0m in \u001b[0;36m<module>\u001b[0;34m\u001b[0m\n\u001b[1;32m      1\u001b[0m \u001b[0msize\u001b[0m \u001b[0;34m=\u001b[0m \u001b[0;34m[\u001b[0m\u001b[0;34m]\u001b[0m\u001b[0;34m\u001b[0m\u001b[0;34m\u001b[0m\u001b[0m\n\u001b[0;32m----> 2\u001b[0;31m \u001b[0;32mfor\u001b[0m \u001b[0mh\u001b[0m \u001b[0;32min\u001b[0m \u001b[0mhm_dict\u001b[0m\u001b[0;34m:\u001b[0m\u001b[0;34m\u001b[0m\u001b[0;34m\u001b[0m\u001b[0m\n\u001b[0m\u001b[1;32m      3\u001b[0m     \u001b[0;32mfor\u001b[0m \u001b[0mt\u001b[0m \u001b[0;32min\u001b[0m \u001b[0mhm_dict\u001b[0m\u001b[0;34m[\u001b[0m\u001b[0mh\u001b[0m\u001b[0;34m]\u001b[0m\u001b[0;34m:\u001b[0m\u001b[0;34m\u001b[0m\u001b[0;34m\u001b[0m\u001b[0m\n\u001b[1;32m      4\u001b[0m         \u001b[0msize\u001b[0m\u001b[0;34m.\u001b[0m\u001b[0mappend\u001b[0m\u001b[0;34m(\u001b[0m\u001b[0;34m(\u001b[0m\u001b[0mh\u001b[0m\u001b[0;34m,\u001b[0m \u001b[0mt\u001b[0m\u001b[0;34m,\u001b[0m \u001b[0mlen\u001b[0m\u001b[0;34m(\u001b[0m\u001b[0mhm_dict\u001b[0m\u001b[0;34m[\u001b[0m\u001b[0mh\u001b[0m\u001b[0;34m]\u001b[0m\u001b[0;34m[\u001b[0m\u001b[0mt\u001b[0m\u001b[0;34m]\u001b[0m\u001b[0;34m)\u001b[0m\u001b[0;34m)\u001b[0m\u001b[0;34m)\u001b[0m\u001b[0;34m\u001b[0m\u001b[0;34m\u001b[0m\u001b[0m\n",
      "\u001b[0;31mNameError\u001b[0m: name 'hm_dict' is not defined"
     ]
    }
   ],
   "source": [
    "size = []\n",
    "for h in hm_dict:\n",
    "    for t in hm_dict[h]:\n",
    "        size.append((h, t, len(hm_dict[h][t])))"
   ]
  },
  {
   "cell_type": "code",
   "execution_count": 19,
   "metadata": {},
   "outputs": [],
   "source": [
    "size_table = pd.DataFrame(size, columns=['Histone', 'Tissue', 'Number of regions'])"
   ]
  },
  {
   "cell_type": "code",
   "execution_count": 20,
   "metadata": {},
   "outputs": [],
   "source": [
    "gencode_v29 = pr.read_gtf('project/gencode.v29.annotation.gtf').df.query('Feature.str.contains(\"gene|exon\") and ~Chromosome.str.contains(\"X|Y|M\")')"
   ]
  },
  {
   "cell_type": "code",
   "execution_count": 21,
   "metadata": {},
   "outputs": [],
   "source": [
    "CREs = pd.read_csv('encodeCcreCombined.bed', sep='\\t', names=['Chromosome', 'Start', 'End', 'name', 'score', 'strand', 'thickStart',\n",
    "       'thickEnd', 'reserved', 'ccre', 'encodeLable', 'zscore', 'ucscLabel',\n",
    "       'accessionLabel', 'description'])\n",
    "CREs = pr.PyRanges(CREs)"
   ]
  },
  {
   "cell_type": "code",
   "execution_count": 22,
   "metadata": {},
   "outputs": [],
   "source": [
    "geneann = gencode_v29.sort_values(['level']).drop_duplicates(['Feature', 'gene_id', 'exon_number'], keep='first')"
   ]
  },
  {
   "cell_type": "code",
   "execution_count": 24,
   "metadata": {},
   "outputs": [],
   "source": [
    "geneann = pr.PyRanges(geneann)"
   ]
  },
  {
   "cell_type": "code",
   "execution_count": 205,
   "metadata": {},
   "outputs": [],
   "source": [
    "top_dict = {}"
   ]
  },
  {
   "cell_type": "code",
   "execution_count": 206,
   "metadata": {},
   "outputs": [
    {
     "data": {
      "text/html": [
       "<div>\n",
       "<style scoped>\n",
       "    .dataframe tbody tr th:only-of-type {\n",
       "        vertical-align: middle;\n",
       "    }\n",
       "\n",
       "    .dataframe tbody tr th {\n",
       "        vertical-align: top;\n",
       "    }\n",
       "\n",
       "    .dataframe thead th {\n",
       "        text-align: right;\n",
       "    }\n",
       "</style>\n",
       "<table border=\"1\" class=\"dataframe\">\n",
       "  <thead>\n",
       "    <tr style=\"text-align: right;\">\n",
       "      <th></th>\n",
       "      <th>name</th>\n",
       "      <th>Feature</th>\n",
       "    </tr>\n",
       "  </thead>\n",
       "  <tbody>\n",
       "    <tr>\n",
       "      <th>235</th>\n",
       "      <td>chr22:26867692-26868691</td>\n",
       "      <td>-1</td>\n",
       "    </tr>\n",
       "    <tr>\n",
       "      <th>98</th>\n",
       "      <td>chr7:56396222-56397221</td>\n",
       "      <td>-1</td>\n",
       "    </tr>\n",
       "    <tr>\n",
       "      <th>99</th>\n",
       "      <td>chr7:56280222-56281221</td>\n",
       "      <td>-1</td>\n",
       "    </tr>\n",
       "    <tr>\n",
       "      <th>100</th>\n",
       "      <td>chr7:56277222-56278221</td>\n",
       "      <td>-1</td>\n",
       "    </tr>\n",
       "    <tr>\n",
       "      <th>101</th>\n",
       "      <td>chr7:56473222-56474221</td>\n",
       "      <td>-1</td>\n",
       "    </tr>\n",
       "    <tr>\n",
       "      <th>...</th>\n",
       "      <td>...</td>\n",
       "      <td>...</td>\n",
       "    </tr>\n",
       "    <tr>\n",
       "      <th>116</th>\n",
       "      <td>chr10:38120107-38121106</td>\n",
       "      <td>gene</td>\n",
       "    </tr>\n",
       "    <tr>\n",
       "      <th>115</th>\n",
       "      <td>chr10:38117107-38118106</td>\n",
       "      <td>gene</td>\n",
       "    </tr>\n",
       "    <tr>\n",
       "      <th>102</th>\n",
       "      <td>chr7:55860222-55861221</td>\n",
       "      <td>gene</td>\n",
       "    </tr>\n",
       "    <tr>\n",
       "      <th>72</th>\n",
       "      <td>chr6:61753326-61754325</td>\n",
       "      <td>gene</td>\n",
       "    </tr>\n",
       "    <tr>\n",
       "      <th>179</th>\n",
       "      <td>chr15:32068338-32069337</td>\n",
       "      <td>gene</td>\n",
       "    </tr>\n",
       "  </tbody>\n",
       "</table>\n",
       "<p>200 rows × 2 columns</p>\n",
       "</div>"
      ],
      "text/plain": [
       "                        name Feature\n",
       "235  chr22:26867692-26868691      -1\n",
       "98    chr7:56396222-56397221      -1\n",
       "99    chr7:56280222-56281221      -1\n",
       "100   chr7:56277222-56278221      -1\n",
       "101   chr7:56473222-56474221      -1\n",
       "..                       ...     ...\n",
       "116  chr10:38120107-38121106    gene\n",
       "115  chr10:38117107-38118106    gene\n",
       "102   chr7:55860222-55861221    gene\n",
       "72    chr6:61753326-61754325    gene\n",
       "179  chr15:32068338-32069337    gene\n",
       "\n",
       "[200 rows x 2 columns]"
      ]
     },
     "execution_count": 206,
     "metadata": {},
     "output_type": "execute_result"
    }
   ],
   "source": [
    "gene"
   ]
  },
  {
   "cell_type": "code",
   "execution_count": 209,
   "metadata": {},
   "outputs": [],
   "source": [
    "for h in network_dict:\n",
    "    top = network_dict[h].sort_values('connectivity', ascending=False).iloc[: 200]\n",
    "    top_pr = pyranges_from_df(top)\n",
    "    gene = top_pr.join(geneann, how='left').df.sort_values('Feature').drop_duplicates('name', keep='first')[['name', 'Feature']]\n",
    "    ccr = gene.query('Feature ==\"-1\"').name.tolist()\n",
    "    reg= top_pr.join(CREs, how='left').df.groupby('name').agg({\n",
    "        'encodeLable': list,\n",
    "        'connectivity':'first'\n",
    "    }).loc[ccr, :]\n",
    "    top_dict[h] = [gene, reg]"
   ]
  },
  {
   "cell_type": "code",
   "execution_count": 228,
   "metadata": {},
   "outputs": [],
   "source": [
    "x = top_dict['H3K4me1'][0].set_index('name').join(top_dict['H3K4me1'][1], how='left')"
   ]
  },
  {
   "cell_type": "code",
   "execution_count": 232,
   "metadata": {},
   "outputs": [],
   "source": [
    "x['ann'] = np.where(x['Feature']!='-1', x['Feature'], x['encodeLable'])"
   ]
  },
  {
   "cell_type": "code",
   "execution_count": 233,
   "metadata": {},
   "outputs": [
    {
     "data": {
      "text/html": [
       "<div>\n",
       "<style scoped>\n",
       "    .dataframe tbody tr th:only-of-type {\n",
       "        vertical-align: middle;\n",
       "    }\n",
       "\n",
       "    .dataframe tbody tr th {\n",
       "        vertical-align: top;\n",
       "    }\n",
       "\n",
       "    .dataframe thead th {\n",
       "        text-align: right;\n",
       "    }\n",
       "</style>\n",
       "<table border=\"1\" class=\"dataframe\">\n",
       "  <thead>\n",
       "    <tr style=\"text-align: right;\">\n",
       "      <th></th>\n",
       "      <th>Feature</th>\n",
       "      <th>encodeLable</th>\n",
       "      <th>connectivity</th>\n",
       "      <th>ann</th>\n",
       "    </tr>\n",
       "    <tr>\n",
       "      <th>name</th>\n",
       "      <th></th>\n",
       "      <th></th>\n",
       "      <th></th>\n",
       "      <th></th>\n",
       "    </tr>\n",
       "  </thead>\n",
       "  <tbody>\n",
       "    <tr>\n",
       "      <th>chr22:48238214-48239213</th>\n",
       "      <td>-1</td>\n",
       "      <td>[-1]</td>\n",
       "      <td>0.967465</td>\n",
       "      <td>[-1]</td>\n",
       "    </tr>\n",
       "    <tr>\n",
       "      <th>chr15:57816745-57817744</th>\n",
       "      <td>-1</td>\n",
       "      <td>[-1]</td>\n",
       "      <td>1.000000</td>\n",
       "      <td>[-1]</td>\n",
       "    </tr>\n",
       "    <tr>\n",
       "      <th>chr13:77470837-77471836</th>\n",
       "      <td>-1</td>\n",
       "      <td>[-1]</td>\n",
       "      <td>1.000000</td>\n",
       "      <td>[-1]</td>\n",
       "    </tr>\n",
       "    <tr>\n",
       "      <th>chr8:40155836-40156835</th>\n",
       "      <td>-1</td>\n",
       "      <td>[dELS, dELS, dELS]</td>\n",
       "      <td>0.948824</td>\n",
       "      <td>[dELS, dELS, dELS]</td>\n",
       "    </tr>\n",
       "    <tr>\n",
       "      <th>chr11:130668949-130669948</th>\n",
       "      <td>-1</td>\n",
       "      <td>[-1]</td>\n",
       "      <td>0.977560</td>\n",
       "      <td>[-1]</td>\n",
       "    </tr>\n",
       "    <tr>\n",
       "      <th>...</th>\n",
       "      <td>...</td>\n",
       "      <td>...</td>\n",
       "      <td>...</td>\n",
       "      <td>...</td>\n",
       "    </tr>\n",
       "    <tr>\n",
       "      <th>chr11:79129180-79130179</th>\n",
       "      <td>gene</td>\n",
       "      <td>NaN</td>\n",
       "      <td>NaN</td>\n",
       "      <td>gene</td>\n",
       "    </tr>\n",
       "    <tr>\n",
       "      <th>chr11:123180353-123181352</th>\n",
       "      <td>gene</td>\n",
       "      <td>NaN</td>\n",
       "      <td>NaN</td>\n",
       "      <td>gene</td>\n",
       "    </tr>\n",
       "    <tr>\n",
       "      <th>chr11:83774418-83775417</th>\n",
       "      <td>gene</td>\n",
       "      <td>NaN</td>\n",
       "      <td>NaN</td>\n",
       "      <td>gene</td>\n",
       "    </tr>\n",
       "    <tr>\n",
       "      <th>chr11:78851180-78852179</th>\n",
       "      <td>gene</td>\n",
       "      <td>NaN</td>\n",
       "      <td>NaN</td>\n",
       "      <td>gene</td>\n",
       "    </tr>\n",
       "    <tr>\n",
       "      <th>chr11:85746571-85747570</th>\n",
       "      <td>gene</td>\n",
       "      <td>NaN</td>\n",
       "      <td>NaN</td>\n",
       "      <td>gene</td>\n",
       "    </tr>\n",
       "  </tbody>\n",
       "</table>\n",
       "<p>200 rows × 4 columns</p>\n",
       "</div>"
      ],
      "text/plain": [
       "                          Feature         encodeLable  connectivity  \\\n",
       "name                                                                  \n",
       "chr22:48238214-48239213        -1                [-1]      0.967465   \n",
       "chr15:57816745-57817744        -1                [-1]      1.000000   \n",
       "chr13:77470837-77471836        -1                [-1]      1.000000   \n",
       "chr8:40155836-40156835         -1  [dELS, dELS, dELS]      0.948824   \n",
       "chr11:130668949-130669948      -1                [-1]      0.977560   \n",
       "...                           ...                 ...           ...   \n",
       "chr11:79129180-79130179      gene                 NaN           NaN   \n",
       "chr11:123180353-123181352    gene                 NaN           NaN   \n",
       "chr11:83774418-83775417      gene                 NaN           NaN   \n",
       "chr11:78851180-78852179      gene                 NaN           NaN   \n",
       "chr11:85746571-85747570      gene                 NaN           NaN   \n",
       "\n",
       "                                          ann  \n",
       "name                                           \n",
       "chr22:48238214-48239213                  [-1]  \n",
       "chr15:57816745-57817744                  [-1]  \n",
       "chr13:77470837-77471836                  [-1]  \n",
       "chr8:40155836-40156835     [dELS, dELS, dELS]  \n",
       "chr11:130668949-130669948                [-1]  \n",
       "...                                       ...  \n",
       "chr11:79129180-79130179                  gene  \n",
       "chr11:123180353-123181352                gene  \n",
       "chr11:83774418-83775417                  gene  \n",
       "chr11:78851180-78852179                  gene  \n",
       "chr11:85746571-85747570                  gene  \n",
       "\n",
       "[200 rows x 4 columns]"
      ]
     },
     "execution_count": 233,
     "metadata": {},
     "output_type": "execute_result"
    }
   ],
   "source": [
    "x"
   ]
  },
  {
   "attachments": {
    "image.png": {
     "image/png": "[encoded data removed]"
    }
   },
   "cell_type": "markdown",
   "metadata": {},
   "source": [
    "![image.png](attachment:image.png)"
   ]
  },
  {
   "cell_type": "code",
   "execution_count": 234,
   "metadata": {},
   "outputs": [
    {
     "data": {
      "application/vnd.plotly.v1+json": {
       "config": {
        "plotlyServerURL": "https://plot.ly"
       },
       "data": [
        {
         "domain": {
          "x": [
           0,
           1
          ],
          "y": [
           0,
           1
          ]
         },
         "hoverinfo": "percent+value",
         "hovertemplate": "ann=%{label}<extra></extra>",
         "labels": [
          [
           "-1"
          ],
          [
           "-1"
          ],
          [
           "-1"
          ],
          [
           "dELS",
           "dELS",
           "dELS"
          ],
          [
           "-1"
          ],
          [
           "CTCF-only"
          ],
          [
           "-1"
          ],
          [
           "dELS",
           "dELS"
          ],
          [
           "-1"
          ],
          [
           "dELS",
           "dELS"
          ],
          [
           "dELS"
          ],
          [
           "-1"
          ],
          [
           "dELS"
          ],
          [
           "-1"
          ],
          [
           "CTCF-only"
          ],
          [
           "-1"
          ],
          [
           "-1"
          ],
          [
           "-1"
          ],
          [
           "pELS",
           "dELS"
          ],
          [
           "-1"
          ],
          [
           "dELS"
          ],
          [
           "-1"
          ],
          [
           "dELS",
           "dELS"
          ],
          [
           "CTCF-only"
          ],
          [
           "dELS",
           "dELS"
          ],
          [
           "-1"
          ],
          [
           "-1"
          ],
          [
           "-1"
          ],
          [
           "dELS"
          ],
          [
           "dELS",
           "dELS"
          ],
          [
           "dELS"
          ],
          [
           "dELS",
           "dELS"
          ],
          [
           "dELS",
           "CTCF-only"
          ],
          [
           "-1"
          ],
          [
           "-1"
          ],
          [
           "-1"
          ],
          [
           "-1"
          ],
          [
           "-1"
          ],
          [
           "pELS"
          ],
          [
           "dELS"
          ],
          [
           "-1"
          ],
          [
           "-1"
          ],
          [
           "dELS",
           "dELS"
          ],
          [
           "-1"
          ],
          [
           "dELS"
          ],
          [
           "-1"
          ],
          [
           "dELS",
           "dELS"
          ],
          [
           "-1"
          ],
          [
           "dELS"
          ],
          [
           "-1"
          ],
          [
           "dELS",
           "dELS"
          ],
          [
           "dELS"
          ],
          [
           "-1"
          ],
          [
           "dELS",
           "dELS",
           "dELS"
          ],
          [
           "dELS"
          ],
          [
           "dELS"
          ],
          [
           "-1"
          ],
          [
           "dELS",
           "dELS"
          ],
          [
           "dELS"
          ],
          [
           "dELS"
          ],
          "exon",
          "exon",
          "exon",
          "exon",
          "exon",
          "exon",
          "exon",
          "exon",
          "exon",
          "exon",
          "exon",
          "exon",
          "exon",
          "exon",
          "exon",
          "exon",
          "exon",
          "exon",
          "exon",
          "exon",
          "exon",
          "exon",
          "exon",
          "exon",
          "exon",
          "exon",
          "exon",
          "exon",
          "intron",
          "intron",
          "intron",
          "intron",
          "intron",
          "intron",
          "intron",
          "intron",
          "intron",
          "intron",
          "intron",
          "intron",
          "intron",
          "intron",
          "intron",
          "intron",
          "intron",
          "intron",
          "intron",
          "intron",
          "intron",
          "intron",
          "intron",
          "intron",
          "intron",
          "intron",
          "intron",
          "intron",
          "intron",
          "intron",
          "intron",
          "intron",
          "intron",
          "intron",
          "intron",
          "intron",
          "intron",
          "intron",
          "intron",
          "intron",
          "intron",
          "intron",
          "intron",
          "intron",
          "intron",
          "intron",
          "intron",
          "intron",
          "intron",
          "intron",
          "intron",
          "intron",
          "intron",
          "intron",
          "intron",
          "intron",
          "intron",
          "intron",
          "intron",
          "intron",
          "intron",
          "intron",
          "intron",
          "intron",
          "intron",
          "intron",
          "intron",
          "intron",
          "intron",
          "intron",
          "intron",
          "intron",
          "intron",
          "intron",
          "intron",
          "intron",
          "intron",
          "intron",
          "intron",
          "intron",
          "intron",
          "intron",
          "intron",
          "intron",
          "intron",
          "intron",
          "intron",
          "intron",
          "intron",
          "intron",
          "intron",
          "intron",
          "intron",
          "intron",
          "intron",
          "intron",
          "intron",
          "intron",
          "intron",
          "intron",
          "intron",
          "intron",
          "intron",
          "intron",
          "intron",
          "intron",
          "intron",
          "intron",
          "intron",
          "intron",
          "intron",
          "intron"
         ],
         "legendgroup": "",
         "name": "",
         "showlegend": true,
         "textinfo": "value",
         "textposition": "inside",
         "type": "pie"
        }
       ],
       "layout": {
        "legend": {
         "tracegroupgap": 0
        },
        "template": {
         "data": {
          "bar": [
           {
            "error_x": {
             "color": "#2a3f5f"
            },
            "error_y": {
             "color": "#2a3f5f"
            },
            "marker": {
             "line": {
              "color": "#E5ECF6",
              "width": 0.5
             },
             "pattern": {
              "fillmode": "overlay",
              "size": 10,
              "solidity": 0.2
             }
            },
            "type": "bar"
           }
          ],
          "barpolar": [
           {
            "marker": {
             "line": {
              "color": "#E5ECF6",
              "width": 0.5
             },
             "pattern": {
              "fillmode": "overlay",
              "size": 10,
              "solidity": 0.2
             }
            },
            "type": "barpolar"
           }
          ],
          "carpet": [
           {
            "aaxis": {
             "endlinecolor": "#2a3f5f",
             "gridcolor": "white",
             "linecolor": "white",
             "minorgridcolor": "white",
             "startlinecolor": "#2a3f5f"
            },
            "baxis": {
             "endlinecolor": "#2a3f5f",
             "gridcolor": "white",
             "linecolor": "white",
             "minorgridcolor": "white",
             "startlinecolor": "#2a3f5f"
            },
            "type": "carpet"
           }
          ],
          "choropleth": [
           {
            "colorbar": {
             "outlinewidth": 0,
             "ticks": ""
            },
            "type": "choropleth"
           }
          ],
          "contour": [
           {
            "colorbar": {
             "outlinewidth": 0,
             "ticks": ""
            },
            "colorscale": [
             [
              0,
              "#0d0887"
             ],
             [
              0.1111111111111111,
              "#46039f"
             ],
             [
              0.2222222222222222,
              "#7201a8"
             ],
             [
              0.3333333333333333,
              "#9c179e"
             ],
             [
              0.4444444444444444,
              "#bd3786"
             ],
             [
              0.5555555555555556,
              "#d8576b"
             ],
             [
              0.6666666666666666,
              "#ed7953"
             ],
             [
              0.7777777777777778,
              "#fb9f3a"
             ],
             [
              0.8888888888888888,
              "#fdca26"
             ],
             [
              1,
              "#f0f921"
             ]
            ],
            "type": "contour"
           }
          ],
          "contourcarpet": [
           {
            "colorbar": {
             "outlinewidth": 0,
             "ticks": ""
            },
            "type": "contourcarpet"
           }
          ],
          "heatmap": [
           {
            "colorbar": {
             "outlinewidth": 0,
             "ticks": ""
            },
            "colorscale": [
             [
              0,
              "#0d0887"
             ],
             [
              0.1111111111111111,
              "#46039f"
             ],
             [
              0.2222222222222222,
              "#7201a8"
             ],
             [
              0.3333333333333333,
              "#9c179e"
             ],
             [
              0.4444444444444444,
              "#bd3786"
             ],
             [
              0.5555555555555556,
              "#d8576b"
             ],
             [
              0.6666666666666666,
              "#ed7953"
             ],
             [
              0.7777777777777778,
              "#fb9f3a"
             ],
             [
              0.8888888888888888,
              "#fdca26"
             ],
             [
              1,
              "#f0f921"
             ]
            ],
            "type": "heatmap"
           }
          ],
          "heatmapgl": [
           {
            "colorbar": {
             "outlinewidth": 0,
             "ticks": ""
            },
            "colorscale": [
             [
              0,
              "#0d0887"
             ],
             [
              0.1111111111111111,
              "#46039f"
             ],
             [
              0.2222222222222222,
              "#7201a8"
             ],
             [
              0.3333333333333333,
              "#9c179e"
             ],
             [
              0.4444444444444444,
              "#bd3786"
             ],
             [
              0.5555555555555556,
              "#d8576b"
             ],
             [
              0.6666666666666666,
              "#ed7953"
             ],
             [
              0.7777777777777778,
              "#fb9f3a"
             ],
             [
              0.8888888888888888,
              "#fdca26"
             ],
             [
              1,
              "#f0f921"
             ]
            ],
            "type": "heatmapgl"
           }
          ],
          "histogram": [
           {
            "marker": {
             "pattern": {
              "fillmode": "overlay",
              "size": 10,
              "solidity": 0.2
             }
            },
            "type": "histogram"
           }
          ],
          "histogram2d": [
           {
            "colorbar": {
             "outlinewidth": 0,
             "ticks": ""
            },
            "colorscale": [
             [
              0,
              "#0d0887"
             ],
             [
              0.1111111111111111,
              "#46039f"
             ],
             [
              0.2222222222222222,
              "#7201a8"
             ],
             [
              0.3333333333333333,
              "#9c179e"
             ],
             [
              0.4444444444444444,
              "#bd3786"
             ],
             [
              0.5555555555555556,
              "#d8576b"
             ],
             [
              0.6666666666666666,
              "#ed7953"
             ],
             [
              0.7777777777777778,
              "#fb9f3a"
             ],
             [
              0.8888888888888888,
              "#fdca26"
             ],
             [
              1,
              "#f0f921"
             ]
            ],
            "type": "histogram2d"
           }
          ],
          "histogram2dcontour": [
           {
            "colorbar": {
             "outlinewidth": 0,
             "ticks": ""
            },
            "colorscale": [
             [
              0,
              "#0d0887"
             ],
             [
              0.1111111111111111,
              "#46039f"
             ],
             [
              0.2222222222222222,
              "#7201a8"
             ],
             [
              0.3333333333333333,
              "#9c179e"
             ],
             [
              0.4444444444444444,
              "#bd3786"
             ],
             [
              0.5555555555555556,
              "#d8576b"
             ],
             [
              0.6666666666666666,
              "#ed7953"
             ],
             [
              0.7777777777777778,
              "#fb9f3a"
             ],
             [
              0.8888888888888888,
              "#fdca26"
             ],
             [
              1,
              "#f0f921"
             ]
            ],
            "type": "histogram2dcontour"
           }
          ],
          "mesh3d": [
           {
            "colorbar": {
             "outlinewidth": 0,
             "ticks": ""
            },
            "type": "mesh3d"
           }
          ],
          "parcoords": [
           {
            "line": {
             "colorbar": {
              "outlinewidth": 0,
              "ticks": ""
             }
            },
            "type": "parcoords"
           }
          ],
          "pie": [
           {
            "automargin": true,
            "type": "pie"
           }
          ],
          "scatter": [
           {
            "fillpattern": {
             "fillmode": "overlay",
             "size": 10,
             "solidity": 0.2
            },
            "type": "scatter"
           }
          ],
          "scatter3d": [
           {
            "line": {
             "colorbar": {
              "outlinewidth": 0,
              "ticks": ""
             }
            },
            "marker": {
             "colorbar": {
              "outlinewidth": 0,
              "ticks": ""
             }
            },
            "type": "scatter3d"
           }
          ],
          "scattercarpet": [
           {
            "marker": {
             "colorbar": {
              "outlinewidth": 0,
              "ticks": ""
             }
            },
            "type": "scattercarpet"
           }
          ],
          "scattergeo": [
           {
            "marker": {
             "colorbar": {
              "outlinewidth": 0,
              "ticks": ""
             }
            },
            "type": "scattergeo"
           }
          ],
          "scattergl": [
           {
            "marker": {
             "colorbar": {
              "outlinewidth": 0,
              "ticks": ""
             }
            },
            "type": "scattergl"
           }
          ],
          "scattermapbox": [
           {
            "marker": {
             "colorbar": {
              "outlinewidth": 0,
              "ticks": ""
             }
            },
            "type": "scattermapbox"
           }
          ],
          "scatterpolar": [
           {
            "marker": {
             "colorbar": {
              "outlinewidth": 0,
              "ticks": ""
             }
            },
            "type": "scatterpolar"
           }
          ],
          "scatterpolargl": [
           {
            "marker": {
             "colorbar": {
              "outlinewidth": 0,
              "ticks": ""
             }
            },
            "type": "scatterpolargl"
           }
          ],
          "scatterternary": [
           {
            "marker": {
             "colorbar": {
              "outlinewidth": 0,
              "ticks": ""
             }
            },
            "type": "scatterternary"
           }
          ],
          "surface": [
           {
            "colorbar": {
             "outlinewidth": 0,
             "ticks": ""
            },
            "colorscale": [
             [
              0,
              "#0d0887"
             ],
             [
              0.1111111111111111,
              "#46039f"
             ],
             [
              0.2222222222222222,
              "#7201a8"
             ],
             [
              0.3333333333333333,
              "#9c179e"
             ],
             [
              0.4444444444444444,
              "#bd3786"
             ],
             [
              0.5555555555555556,
              "#d8576b"
             ],
             [
              0.6666666666666666,
              "#ed7953"
             ],
             [
              0.7777777777777778,
              "#fb9f3a"
             ],
             [
              0.8888888888888888,
              "#fdca26"
             ],
             [
              1,
              "#f0f921"
             ]
            ],
            "type": "surface"
           }
          ],
          "table": [
           {
            "cells": {
             "fill": {
              "color": "#EBF0F8"
             },
             "line": {
              "color": "white"
             }
            },
            "header": {
             "fill": {
              "color": "#C8D4E3"
             },
             "line": {
              "color": "white"
             }
            },
            "type": "table"
           }
          ]
         },
         "layout": {
          "annotationdefaults": {
           "arrowcolor": "#2a3f5f",
           "arrowhead": 0,
           "arrowwidth": 1
          },
          "autotypenumbers": "strict",
          "coloraxis": {
           "colorbar": {
            "outlinewidth": 0,
            "ticks": ""
           }
          },
          "colorscale": {
           "diverging": [
            [
             0,
             "#8e0152"
            ],
            [
             0.1,
             "#c51b7d"
            ],
            [
             0.2,
             "#de77ae"
            ],
            [
             0.3,
             "#f1b6da"
            ],
            [
             0.4,
             "#fde0ef"
            ],
            [
             0.5,
             "#f7f7f7"
            ],
            [
             0.6,
             "#e6f5d0"
            ],
            [
             0.7,
             "#b8e186"
            ],
            [
             0.8,
             "#7fbc41"
            ],
            [
             0.9,
             "#4d9221"
            ],
            [
             1,
             "#276419"
            ]
           ],
           "sequential": [
            [
             0,
             "#0d0887"
            ],
            [
             0.1111111111111111,
             "#46039f"
            ],
            [
             0.2222222222222222,
             "#7201a8"
            ],
            [
             0.3333333333333333,
             "#9c179e"
            ],
            [
             0.4444444444444444,
             "#bd3786"
            ],
            [
             0.5555555555555556,
             "#d8576b"
            ],
            [
             0.6666666666666666,
             "#ed7953"
            ],
            [
             0.7777777777777778,
             "#fb9f3a"
            ],
            [
             0.8888888888888888,
             "#fdca26"
            ],
            [
             1,
             "#f0f921"
            ]
           ],
           "sequentialminus": [
            [
             0,
             "#0d0887"
            ],
            [
             0.1111111111111111,
             "#46039f"
            ],
            [
             0.2222222222222222,
             "#7201a8"
            ],
            [
             0.3333333333333333,
             "#9c179e"
            ],
            [
             0.4444444444444444,
             "#bd3786"
            ],
            [
             0.5555555555555556,
             "#d8576b"
            ],
            [
             0.6666666666666666,
             "#ed7953"
            ],
            [
             0.7777777777777778,
             "#fb9f3a"
            ],
            [
             0.8888888888888888,
             "#fdca26"
            ],
            [
             1,
             "#f0f921"
            ]
           ]
          },
          "colorway": [
           "#636efa",
           "#EF553B",
           "#00cc96",
           "#ab63fa",
           "#FFA15A",
           "#19d3f3",
           "#FF6692",
           "#B6E880",
           "#FF97FF",
           "#FECB52"
          ],
          "font": {
           "color": "#2a3f5f"
          },
          "geo": {
           "bgcolor": "white",
           "lakecolor": "white",
           "landcolor": "#E5ECF6",
           "showlakes": true,
           "showland": true,
           "subunitcolor": "white"
          },
          "hoverlabel": {
           "align": "left"
          },
          "hovermode": "closest",
          "mapbox": {
           "style": "light"
          },
          "paper_bgcolor": "white",
          "plot_bgcolor": "#E5ECF6",
          "polar": {
           "angularaxis": {
            "gridcolor": "white",
            "linecolor": "white",
            "ticks": ""
           },
           "bgcolor": "#E5ECF6",
           "radialaxis": {
            "gridcolor": "white",
            "linecolor": "white",
            "ticks": ""
           }
          },
          "scene": {
           "xaxis": {
            "backgroundcolor": "#E5ECF6",
            "gridcolor": "white",
            "gridwidth": 2,
            "linecolor": "white",
            "showbackground": true,
            "ticks": "",
            "zerolinecolor": "white"
           },
           "yaxis": {
            "backgroundcolor": "#E5ECF6",
            "gridcolor": "white",
            "gridwidth": 2,
            "linecolor": "white",
            "showbackground": true,
            "ticks": "",
            "zerolinecolor": "white"
           },
           "zaxis": {
            "backgroundcolor": "#E5ECF6",
            "gridcolor": "white",
            "gridwidth": 2,
            "linecolor": "white",
            "showbackground": true,
            "ticks": "",
            "zerolinecolor": "white"
           }
          },
          "shapedefaults": {
           "line": {
            "color": "#2a3f5f"
           }
          },
          "ternary": {
           "aaxis": {
            "gridcolor": "white",
            "linecolor": "white",
            "ticks": ""
           },
           "baxis": {
            "gridcolor": "white",
            "linecolor": "white",
            "ticks": ""
           },
           "bgcolor": "#E5ECF6",
           "caxis": {
            "gridcolor": "white",
            "linecolor": "white",
            "ticks": ""
           }
          },
          "title": {
           "x": 0.05
          },
          "xaxis": {
           "automargin": true,
           "gridcolor": "white",
           "linecolor": "white",
           "ticks": "",
           "title": {
            "standoff": 15
           },
           "zerolinecolor": "white",
           "zerolinewidth": 2
          },
          "yaxis": {
           "automargin": true,
           "gridcolor": "white",
           "linecolor": "white",
           "ticks": "",
           "title": {
            "standoff": 15
           },
           "zerolinecolor": "white",
           "zerolinewidth": 2
          }
         }
        },
        "title": {
         "text": "Genomic Annotation H3K4me1"
        },
        "uniformtext": {
         "minsize": 12,
         "mode": "hide"
        },
        "width": 800
       }
      },
      "text/html": [
       "<div>                            <div id=\"c21c4cc2-3617-44ee-a21f-bf1b33f8798a\" class=\"plotly-graph-div\" style=\"height:525px; width:800px;\"></div>            <script type=\"text/javascript\">                require([\"plotly\"], function(Plotly) {                    window.PLOTLYENV=window.PLOTLYENV || {};                                    if (document.getElementById(\"c21c4cc2-3617-44ee-a21f-bf1b33f8798a\")) {                    Plotly.newPlot(                        \"c21c4cc2-3617-44ee-a21f-bf1b33f8798a\",                        [{\"domain\":{\"x\":[0.0,1.0],\"y\":[0.0,1.0]},\"hovertemplate\":\"ann=%{label}\\u003cextra\\u003e\\u003c\\u002fextra\\u003e\",\"labels\":[[\"-1\"],[\"-1\"],[\"-1\"],[\"dELS\",\"dELS\",\"dELS\"],[\"-1\"],[\"CTCF-only\"],[\"-1\"],[\"dELS\",\"dELS\"],[\"-1\"],[\"dELS\",\"dELS\"],[\"dELS\"],[\"-1\"],[\"dELS\"],[\"-1\"],[\"CTCF-only\"],[\"-1\"],[\"-1\"],[\"-1\"],[\"pELS\",\"dELS\"],[\"-1\"],[\"dELS\"],[\"-1\"],[\"dELS\",\"dELS\"],[\"CTCF-only\"],[\"dELS\",\"dELS\"],[\"-1\"],[\"-1\"],[\"-1\"],[\"dELS\"],[\"dELS\",\"dELS\"],[\"dELS\"],[\"dELS\",\"dELS\"],[\"dELS\",\"CTCF-only\"],[\"-1\"],[\"-1\"],[\"-1\"],[\"-1\"],[\"-1\"],[\"pELS\"],[\"dELS\"],[\"-1\"],[\"-1\"],[\"dELS\",\"dELS\"],[\"-1\"],[\"dELS\"],[\"-1\"],[\"dELS\",\"dELS\"],[\"-1\"],[\"dELS\"],[\"-1\"],[\"dELS\",\"dELS\"],[\"dELS\"],[\"-1\"],[\"dELS\",\"dELS\",\"dELS\"],[\"dELS\"],[\"dELS\"],[\"-1\"],[\"dELS\",\"dELS\"],[\"dELS\"],[\"dELS\"],\"exon\",\"exon\",\"exon\",\"exon\",\"exon\",\"exon\",\"exon\",\"exon\",\"exon\",\"exon\",\"exon\",\"exon\",\"exon\",\"exon\",\"exon\",\"exon\",\"exon\",\"exon\",\"exon\",\"exon\",\"exon\",\"exon\",\"exon\",\"exon\",\"exon\",\"exon\",\"exon\",\"exon\",\"intron\",\"intron\",\"intron\",\"intron\",\"intron\",\"intron\",\"intron\",\"intron\",\"intron\",\"intron\",\"intron\",\"intron\",\"intron\",\"intron\",\"intron\",\"intron\",\"intron\",\"intron\",\"intron\",\"intron\",\"intron\",\"intron\",\"intron\",\"intron\",\"intron\",\"intron\",\"intron\",\"intron\",\"intron\",\"intron\",\"intron\",\"intron\",\"intron\",\"intron\",\"intron\",\"intron\",\"intron\",\"intron\",\"intron\",\"intron\",\"intron\",\"intron\",\"intron\",\"intron\",\"intron\",\"intron\",\"intron\",\"intron\",\"intron\",\"intron\",\"intron\",\"intron\",\"intron\",\"intron\",\"intron\",\"intron\",\"intron\",\"intron\",\"intron\",\"intron\",\"intron\",\"intron\",\"intron\",\"intron\",\"intron\",\"intron\",\"intron\",\"intron\",\"intron\",\"intron\",\"intron\",\"intron\",\"intron\",\"intron\",\"intron\",\"intron\",\"intron\",\"intron\",\"intron\",\"intron\",\"intron\",\"intron\",\"intron\",\"intron\",\"intron\",\"intron\",\"intron\",\"intron\",\"intron\",\"intron\",\"intron\",\"intron\",\"intron\",\"intron\",\"intron\",\"intron\",\"intron\",\"intron\",\"intron\",\"intron\",\"intron\",\"intron\",\"intron\",\"intron\",\"intron\",\"intron\",\"intron\",\"intron\",\"intron\",\"intron\",\"intron\",\"intron\"],\"legendgroup\":\"\",\"name\":\"\",\"showlegend\":true,\"type\":\"pie\",\"hoverinfo\":\"percent+value\",\"textinfo\":\"value\",\"textposition\":\"inside\"}],                        {\"template\":{\"data\":{\"histogram2dcontour\":[{\"type\":\"histogram2dcontour\",\"colorbar\":{\"outlinewidth\":0,\"ticks\":\"\"},\"colorscale\":[[0.0,\"#0d0887\"],[0.1111111111111111,\"#46039f\"],[0.2222222222222222,\"#7201a8\"],[0.3333333333333333,\"#9c179e\"],[0.4444444444444444,\"#bd3786\"],[0.5555555555555556,\"#d8576b\"],[0.6666666666666666,\"#ed7953\"],[0.7777777777777778,\"#fb9f3a\"],[0.8888888888888888,\"#fdca26\"],[1.0,\"#f0f921\"]]}],\"choropleth\":[{\"type\":\"choropleth\",\"colorbar\":{\"outlinewidth\":0,\"ticks\":\"\"}}],\"histogram2d\":[{\"type\":\"histogram2d\",\"colorbar\":{\"outlinewidth\":0,\"ticks\":\"\"},\"colorscale\":[[0.0,\"#0d0887\"],[0.1111111111111111,\"#46039f\"],[0.2222222222222222,\"#7201a8\"],[0.3333333333333333,\"#9c179e\"],[0.4444444444444444,\"#bd3786\"],[0.5555555555555556,\"#d8576b\"],[0.6666666666666666,\"#ed7953\"],[0.7777777777777778,\"#fb9f3a\"],[0.8888888888888888,\"#fdca26\"],[1.0,\"#f0f921\"]]}],\"heatmap\":[{\"type\":\"heatmap\",\"colorbar\":{\"outlinewidth\":0,\"ticks\":\"\"},\"colorscale\":[[0.0,\"#0d0887\"],[0.1111111111111111,\"#46039f\"],[0.2222222222222222,\"#7201a8\"],[0.3333333333333333,\"#9c179e\"],[0.4444444444444444,\"#bd3786\"],[0.5555555555555556,\"#d8576b\"],[0.6666666666666666,\"#ed7953\"],[0.7777777777777778,\"#fb9f3a\"],[0.8888888888888888,\"#fdca26\"],[1.0,\"#f0f921\"]]}],\"heatmapgl\":[{\"type\":\"heatmapgl\",\"colorbar\":{\"outlinewidth\":0,\"ticks\":\"\"},\"colorscale\":[[0.0,\"#0d0887\"],[0.1111111111111111,\"#46039f\"],[0.2222222222222222,\"#7201a8\"],[0.3333333333333333,\"#9c179e\"],[0.4444444444444444,\"#bd3786\"],[0.5555555555555556,\"#d8576b\"],[0.6666666666666666,\"#ed7953\"],[0.7777777777777778,\"#fb9f3a\"],[0.8888888888888888,\"#fdca26\"],[1.0,\"#f0f921\"]]}],\"contourcarpet\":[{\"type\":\"contourcarpet\",\"colorbar\":{\"outlinewidth\":0,\"ticks\":\"\"}}],\"contour\":[{\"type\":\"contour\",\"colorbar\":{\"outlinewidth\":0,\"ticks\":\"\"},\"colorscale\":[[0.0,\"#0d0887\"],[0.1111111111111111,\"#46039f\"],[0.2222222222222222,\"#7201a8\"],[0.3333333333333333,\"#9c179e\"],[0.4444444444444444,\"#bd3786\"],[0.5555555555555556,\"#d8576b\"],[0.6666666666666666,\"#ed7953\"],[0.7777777777777778,\"#fb9f3a\"],[0.8888888888888888,\"#fdca26\"],[1.0,\"#f0f921\"]]}],\"surface\":[{\"type\":\"surface\",\"colorbar\":{\"outlinewidth\":0,\"ticks\":\"\"},\"colorscale\":[[0.0,\"#0d0887\"],[0.1111111111111111,\"#46039f\"],[0.2222222222222222,\"#7201a8\"],[0.3333333333333333,\"#9c179e\"],[0.4444444444444444,\"#bd3786\"],[0.5555555555555556,\"#d8576b\"],[0.6666666666666666,\"#ed7953\"],[0.7777777777777778,\"#fb9f3a\"],[0.8888888888888888,\"#fdca26\"],[1.0,\"#f0f921\"]]}],\"mesh3d\":[{\"type\":\"mesh3d\",\"colorbar\":{\"outlinewidth\":0,\"ticks\":\"\"}}],\"scatter\":[{\"fillpattern\":{\"fillmode\":\"overlay\",\"size\":10,\"solidity\":0.2},\"type\":\"scatter\"}],\"parcoords\":[{\"type\":\"parcoords\",\"line\":{\"colorbar\":{\"outlinewidth\":0,\"ticks\":\"\"}}}],\"scatterpolargl\":[{\"type\":\"scatterpolargl\",\"marker\":{\"colorbar\":{\"outlinewidth\":0,\"ticks\":\"\"}}}],\"bar\":[{\"error_x\":{\"color\":\"#2a3f5f\"},\"error_y\":{\"color\":\"#2a3f5f\"},\"marker\":{\"line\":{\"color\":\"#E5ECF6\",\"width\":0.5},\"pattern\":{\"fillmode\":\"overlay\",\"size\":10,\"solidity\":0.2}},\"type\":\"bar\"}],\"scattergeo\":[{\"type\":\"scattergeo\",\"marker\":{\"colorbar\":{\"outlinewidth\":0,\"ticks\":\"\"}}}],\"scatterpolar\":[{\"type\":\"scatterpolar\",\"marker\":{\"colorbar\":{\"outlinewidth\":0,\"ticks\":\"\"}}}],\"histogram\":[{\"marker\":{\"pattern\":{\"fillmode\":\"overlay\",\"size\":10,\"solidity\":0.2}},\"type\":\"histogram\"}],\"scattergl\":[{\"type\":\"scattergl\",\"marker\":{\"colorbar\":{\"outlinewidth\":0,\"ticks\":\"\"}}}],\"scatter3d\":[{\"type\":\"scatter3d\",\"line\":{\"colorbar\":{\"outlinewidth\":0,\"ticks\":\"\"}},\"marker\":{\"colorbar\":{\"outlinewidth\":0,\"ticks\":\"\"}}}],\"scattermapbox\":[{\"type\":\"scattermapbox\",\"marker\":{\"colorbar\":{\"outlinewidth\":0,\"ticks\":\"\"}}}],\"scatterternary\":[{\"type\":\"scatterternary\",\"marker\":{\"colorbar\":{\"outlinewidth\":0,\"ticks\":\"\"}}}],\"scattercarpet\":[{\"type\":\"scattercarpet\",\"marker\":{\"colorbar\":{\"outlinewidth\":0,\"ticks\":\"\"}}}],\"carpet\":[{\"aaxis\":{\"endlinecolor\":\"#2a3f5f\",\"gridcolor\":\"white\",\"linecolor\":\"white\",\"minorgridcolor\":\"white\",\"startlinecolor\":\"#2a3f5f\"},\"baxis\":{\"endlinecolor\":\"#2a3f5f\",\"gridcolor\":\"white\",\"linecolor\":\"white\",\"minorgridcolor\":\"white\",\"startlinecolor\":\"#2a3f5f\"},\"type\":\"carpet\"}],\"table\":[{\"cells\":{\"fill\":{\"color\":\"#EBF0F8\"},\"line\":{\"color\":\"white\"}},\"header\":{\"fill\":{\"color\":\"#C8D4E3\"},\"line\":{\"color\":\"white\"}},\"type\":\"table\"}],\"barpolar\":[{\"marker\":{\"line\":{\"color\":\"#E5ECF6\",\"width\":0.5},\"pattern\":{\"fillmode\":\"overlay\",\"size\":10,\"solidity\":0.2}},\"type\":\"barpolar\"}],\"pie\":[{\"automargin\":true,\"type\":\"pie\"}]},\"layout\":{\"autotypenumbers\":\"strict\",\"colorway\":[\"#636efa\",\"#EF553B\",\"#00cc96\",\"#ab63fa\",\"#FFA15A\",\"#19d3f3\",\"#FF6692\",\"#B6E880\",\"#FF97FF\",\"#FECB52\"],\"font\":{\"color\":\"#2a3f5f\"},\"hovermode\":\"closest\",\"hoverlabel\":{\"align\":\"left\"},\"paper_bgcolor\":\"white\",\"plot_bgcolor\":\"#E5ECF6\",\"polar\":{\"bgcolor\":\"#E5ECF6\",\"angularaxis\":{\"gridcolor\":\"white\",\"linecolor\":\"white\",\"ticks\":\"\"},\"radialaxis\":{\"gridcolor\":\"white\",\"linecolor\":\"white\",\"ticks\":\"\"}},\"ternary\":{\"bgcolor\":\"#E5ECF6\",\"aaxis\":{\"gridcolor\":\"white\",\"linecolor\":\"white\",\"ticks\":\"\"},\"baxis\":{\"gridcolor\":\"white\",\"linecolor\":\"white\",\"ticks\":\"\"},\"caxis\":{\"gridcolor\":\"white\",\"linecolor\":\"white\",\"ticks\":\"\"}},\"coloraxis\":{\"colorbar\":{\"outlinewidth\":0,\"ticks\":\"\"}},\"colorscale\":{\"sequential\":[[0.0,\"#0d0887\"],[0.1111111111111111,\"#46039f\"],[0.2222222222222222,\"#7201a8\"],[0.3333333333333333,\"#9c179e\"],[0.4444444444444444,\"#bd3786\"],[0.5555555555555556,\"#d8576b\"],[0.6666666666666666,\"#ed7953\"],[0.7777777777777778,\"#fb9f3a\"],[0.8888888888888888,\"#fdca26\"],[1.0,\"#f0f921\"]],\"sequentialminus\":[[0.0,\"#0d0887\"],[0.1111111111111111,\"#46039f\"],[0.2222222222222222,\"#7201a8\"],[0.3333333333333333,\"#9c179e\"],[0.4444444444444444,\"#bd3786\"],[0.5555555555555556,\"#d8576b\"],[0.6666666666666666,\"#ed7953\"],[0.7777777777777778,\"#fb9f3a\"],[0.8888888888888888,\"#fdca26\"],[1.0,\"#f0f921\"]],\"diverging\":[[0,\"#8e0152\"],[0.1,\"#c51b7d\"],[0.2,\"#de77ae\"],[0.3,\"#f1b6da\"],[0.4,\"#fde0ef\"],[0.5,\"#f7f7f7\"],[0.6,\"#e6f5d0\"],[0.7,\"#b8e186\"],[0.8,\"#7fbc41\"],[0.9,\"#4d9221\"],[1,\"#276419\"]]},\"xaxis\":{\"gridcolor\":\"white\",\"linecolor\":\"white\",\"ticks\":\"\",\"title\":{\"standoff\":15},\"zerolinecolor\":\"white\",\"automargin\":true,\"zerolinewidth\":2},\"yaxis\":{\"gridcolor\":\"white\",\"linecolor\":\"white\",\"ticks\":\"\",\"title\":{\"standoff\":15},\"zerolinecolor\":\"white\",\"automargin\":true,\"zerolinewidth\":2},\"scene\":{\"xaxis\":{\"backgroundcolor\":\"#E5ECF6\",\"gridcolor\":\"white\",\"linecolor\":\"white\",\"showbackground\":true,\"ticks\":\"\",\"zerolinecolor\":\"white\",\"gridwidth\":2},\"yaxis\":{\"backgroundcolor\":\"#E5ECF6\",\"gridcolor\":\"white\",\"linecolor\":\"white\",\"showbackground\":true,\"ticks\":\"\",\"zerolinecolor\":\"white\",\"gridwidth\":2},\"zaxis\":{\"backgroundcolor\":\"#E5ECF6\",\"gridcolor\":\"white\",\"linecolor\":\"white\",\"showbackground\":true,\"ticks\":\"\",\"zerolinecolor\":\"white\",\"gridwidth\":2}},\"shapedefaults\":{\"line\":{\"color\":\"#2a3f5f\"}},\"annotationdefaults\":{\"arrowcolor\":\"#2a3f5f\",\"arrowhead\":0,\"arrowwidth\":1},\"geo\":{\"bgcolor\":\"white\",\"landcolor\":\"#E5ECF6\",\"subunitcolor\":\"white\",\"showland\":true,\"showlakes\":true,\"lakecolor\":\"white\"},\"title\":{\"x\":0.05},\"mapbox\":{\"style\":\"light\"}}},\"legend\":{\"tracegroupgap\":0},\"title\":{\"text\":\"Genomic Annotation H3K4me1\"},\"width\":800,\"uniformtext\":{\"minsize\":12,\"mode\":\"hide\"}},                        {\"responsive\": true}                    ).then(function(){\n",
       "                            \n",
       "var gd = document.getElementById('c21c4cc2-3617-44ee-a21f-bf1b33f8798a');\n",
       "var x = new MutationObserver(function (mutations, observer) {{\n",
       "        var display = window.getComputedStyle(gd).display;\n",
       "        if (!display || display === 'none') {{\n",
       "            console.log([gd, 'removed!']);\n",
       "            Plotly.purge(gd);\n",
       "            observer.disconnect();\n",
       "        }}\n",
       "}});\n",
       "\n",
       "// Listen for the removal of the full notebook cells\n",
       "var notebookContainer = gd.closest('#notebook-container');\n",
       "if (notebookContainer) {{\n",
       "    x.observe(notebookContainer, {childList: true});\n",
       "}}\n",
       "\n",
       "// Listen for the clearing of the current output cell\n",
       "var outputEl = gd.closest('.output');\n",
       "if (outputEl) {{\n",
       "    x.observe(outputEl, {childList: true});\n",
       "}}\n",
       "\n",
       "                        })                };                });            </script>        </div>"
      ]
     },
     "metadata": {},
     "output_type": "display_data"
    }
   ],
   "source": [
    "\n",
    "fig = px.pie(x.replace('gene', 'intron'), names='ann', title='Genomic Annotation H3K4me1', width=800)\n",
    "fig.update_traces(hoverinfo='percent+value',textinfo='value')\n",
    "fig.update_traces(textposition='inside')\n",
    "fig.update_layout(uniformtext_minsize=12, uniformtext_mode='hide')\n",
    "fig.show()"
   ]
  },
  {
   "cell_type": "code",
   "execution_count": null,
   "metadata": {},
   "outputs": [],
   "source": []
  },
  {
   "cell_type": "code",
   "execution_count": null,
   "metadata": {},
   "outputs": [],
   "source": []
  }
 ],
 "metadata": {
  "kernelspec": {
   "display_name": "base",
   "language": "python",
   "name": "python3"
  },
  "language_info": {
   "codemirror_mode": {
    "name": "ipython",
    "version": 3
   },
   "file_extension": ".py",
   "mimetype": "text/x-python",
   "name": "python",
   "nbconvert_exporter": "python",
   "pygments_lexer": "ipython3",
   "version": "3.9.13"
  }
 },
 "nbformat": 4,
 "nbformat_minor": 2
}
